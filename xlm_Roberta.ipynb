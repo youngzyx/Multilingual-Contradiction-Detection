{
  "cells": [
    {
      "cell_type": "code",
      "execution_count": 1,
      "id": "392601ec",
      "metadata": {
        "ExecuteTime": {
          "end_time": "2022-06-27T23:15:00.334216Z",
          "start_time": "2022-06-27T23:14:58.807524Z"
        },
        "colab": {
          "base_uri": "https://localhost:8080/"
        },
        "id": "392601ec",
        "outputId": "55d7db15-25c7-437d-c1ee-e236a5ee631e"
      },
      "outputs": [
        {
          "output_type": "stream",
          "name": "stdout",
          "text": [
            "Looking in indexes: https://pypi.org/simple, https://us-python.pkg.dev/colab-wheels/public/simple/\n",
            "Collecting transformers\n",
            "  Using cached transformers-4.20.1-py3-none-any.whl (4.4 MB)\n",
            "Requirement already satisfied: numpy>=1.17 in /usr/local/lib/python3.7/dist-packages (from transformers) (1.21.6)\n",
            "Collecting huggingface-hub<1.0,>=0.1.0\n",
            "  Using cached huggingface_hub-0.8.1-py3-none-any.whl (101 kB)\n",
            "Requirement already satisfied: packaging>=20.0 in /usr/local/lib/python3.7/dist-packages (from transformers) (21.3)\n",
            "Requirement already satisfied: regex!=2019.12.17 in /usr/local/lib/python3.7/dist-packages (from transformers) (2022.6.2)\n",
            "Requirement already satisfied: tqdm>=4.27 in /usr/local/lib/python3.7/dist-packages (from transformers) (4.64.0)\n",
            "Requirement already satisfied: importlib-metadata in /usr/local/lib/python3.7/dist-packages (from transformers) (4.11.4)\n",
            "Requirement already satisfied: requests in /usr/local/lib/python3.7/dist-packages (from transformers) (2.23.0)\n",
            "Collecting pyyaml>=5.1\n",
            "  Using cached PyYAML-6.0-cp37-cp37m-manylinux_2_5_x86_64.manylinux1_x86_64.manylinux_2_12_x86_64.manylinux2010_x86_64.whl (596 kB)\n",
            "Requirement already satisfied: filelock in /usr/local/lib/python3.7/dist-packages (from transformers) (3.7.1)\n",
            "Collecting tokenizers!=0.11.3,<0.13,>=0.11.1\n",
            "  Using cached tokenizers-0.12.1-cp37-cp37m-manylinux_2_12_x86_64.manylinux2010_x86_64.whl (6.6 MB)\n",
            "Requirement already satisfied: typing-extensions>=3.7.4.3 in /usr/local/lib/python3.7/dist-packages (from huggingface-hub<1.0,>=0.1.0->transformers) (4.1.1)\n",
            "Requirement already satisfied: pyparsing!=3.0.5,>=2.0.2 in /usr/local/lib/python3.7/dist-packages (from packaging>=20.0->transformers) (3.0.9)\n",
            "Requirement already satisfied: zipp>=0.5 in /usr/local/lib/python3.7/dist-packages (from importlib-metadata->transformers) (3.8.0)\n",
            "Requirement already satisfied: urllib3!=1.25.0,!=1.25.1,<1.26,>=1.21.1 in /usr/local/lib/python3.7/dist-packages (from requests->transformers) (1.24.3)\n",
            "Requirement already satisfied: chardet<4,>=3.0.2 in /usr/local/lib/python3.7/dist-packages (from requests->transformers) (3.0.4)\n",
            "Requirement already satisfied: certifi>=2017.4.17 in /usr/local/lib/python3.7/dist-packages (from requests->transformers) (2022.6.15)\n",
            "Requirement already satisfied: idna<3,>=2.5 in /usr/local/lib/python3.7/dist-packages (from requests->transformers) (2.10)\n",
            "Installing collected packages: pyyaml, tokenizers, huggingface-hub, transformers\n",
            "  Attempting uninstall: pyyaml\n",
            "    Found existing installation: PyYAML 3.13\n",
            "    Uninstalling PyYAML-3.13:\n",
            "      Successfully uninstalled PyYAML-3.13\n",
            "Successfully installed huggingface-hub-0.8.1 pyyaml-6.0 tokenizers-0.12.1 transformers-4.20.1\n"
          ]
        }
      ],
      "source": [
        "! pip install transformers"
      ]
    },
    {
      "cell_type": "code",
      "source": [
        "! pip install sentencepiece"
      ],
      "metadata": {
        "colab": {
          "base_uri": "https://localhost:8080/"
        },
        "id": "fLmHLuPJcPtY",
        "outputId": "ef8fe438-bc4a-46e7-86d2-d06915598eae"
      },
      "id": "fLmHLuPJcPtY",
      "execution_count": 2,
      "outputs": [
        {
          "output_type": "stream",
          "name": "stdout",
          "text": [
            "Looking in indexes: https://pypi.org/simple, https://us-python.pkg.dev/colab-wheels/public/simple/\n",
            "Collecting sentencepiece\n",
            "  Downloading sentencepiece-0.1.96-cp37-cp37m-manylinux_2_17_x86_64.manylinux2014_x86_64.whl (1.2 MB)\n",
            "\u001b[K     |████████████████████████████████| 1.2 MB 35.2 MB/s \n",
            "\u001b[?25hInstalling collected packages: sentencepiece\n",
            "Successfully installed sentencepiece-0.1.96\n"
          ]
        }
      ]
    },
    {
      "cell_type": "code",
      "execution_count": 80,
      "id": "97015d3a",
      "metadata": {
        "ExecuteTime": {
          "end_time": "2022-06-28T23:42:59.279316Z",
          "start_time": "2022-06-28T23:42:58.137639Z"
        },
        "colab": {
          "base_uri": "https://localhost:8080/"
        },
        "id": "97015d3a",
        "outputId": "f8ca9ca5-b9ad-41e2-e85b-24896ee5941a"
      },
      "outputs": [
        {
          "output_type": "stream",
          "name": "stdout",
          "text": [
            "1.11.0+cu113\n"
          ]
        }
      ],
      "source": [
        "#huggingface libraries \n",
        "import transformers\n",
        "from transformers import BertTokenizer, BertForSequenceClassification\n",
        "from transformers import XLMRobertaTokenizer, XLMRobertaForSequenceClassification\n",
        "from transformers import AdamW\n",
        "#torch\n",
        "import torch\n",
        "import torch.nn as nn\n",
        "import torch.nn.functional as F\n",
        "import torch.optim as optim\n",
        "from torch.utils.data import DataLoader, RandomSampler, SequentialSampler, Dataset, TensorDataset\n",
        "\n",
        "#random libraries\n",
        "from tqdm import tqdm \n",
        "import pandas as pd\n",
        "import numpy as np\n",
        "import os\n",
        "import gc\n",
        "import random\n",
        "\n",
        "#viz\n",
        "import matplotlib.pyplot as plt\n",
        "import seaborn as sns\n",
        "\n",
        "# set a seed value\n",
        "torch.manual_seed(555)\n",
        "\n",
        "from sklearn.utils import shuffle\n",
        "from sklearn.metrics import roc_auc_score, accuracy_score,precision_score,recall_score,precision_recall_fscore_support\n",
        "\n",
        "import warnings\n",
        "warnings.filterwarnings(\"ignore\")\n",
        "\n",
        "\n",
        "print(torch.__version__)"
      ]
    },
    {
      "cell_type": "code",
      "execution_count": 4,
      "id": "03d33752",
      "metadata": {
        "ExecuteTime": {
          "end_time": "2022-06-29T01:42:42.140814Z",
          "start_time": "2022-06-29T01:42:42.134614Z"
        },
        "colab": {
          "base_uri": "https://localhost:8080/"
        },
        "id": "03d33752",
        "outputId": "6db2a840-d3ce-455d-ae10-0f9871f3910c"
      },
      "outputs": [
        {
          "output_type": "execute_result",
          "data": {
            "text/plain": [
              "device(type='cuda')"
            ]
          },
          "metadata": {},
          "execution_count": 4
        }
      ],
      "source": [
        "device = torch.device('cuda' if torch.cuda.is_available() else 'cpu')\n",
        "device"
      ]
    },
    {
      "cell_type": "code",
      "source": [
        "if device.type == 'cuda':\n",
        "  path = 'sample_data/'\n",
        "else:\n",
        "  path = 'contradictory-my-dear-watson/'\n"
      ],
      "metadata": {
        "id": "UBOKzaimazE5"
      },
      "id": "UBOKzaimazE5",
      "execution_count": 5,
      "outputs": []
    },
    {
      "cell_type": "markdown",
      "source": [
        "# EDA"
      ],
      "metadata": {
        "id": "3AL-pq5B0yzr"
      },
      "id": "3AL-pq5B0yzr"
    },
    {
      "cell_type": "code",
      "execution_count": 8,
      "id": "21e94ecd",
      "metadata": {
        "ExecuteTime": {
          "end_time": "2022-06-29T00:46:16.207799Z",
          "start_time": "2022-06-29T00:46:16.090987Z"
        },
        "id": "21e94ecd"
      },
      "outputs": [],
      "source": [
        "df_train = pd.read_csv(path+'train.csv')\n",
        "df_test = pd.read_csv(path+'test.csv')"
      ]
    },
    {
      "cell_type": "code",
      "execution_count": 9,
      "id": "afc22227",
      "metadata": {
        "ExecuteTime": {
          "end_time": "2022-06-29T01:46:50.215105Z",
          "start_time": "2022-06-29T01:46:50.210705Z"
        },
        "colab": {
          "base_uri": "https://localhost:8080/"
        },
        "id": "afc22227",
        "outputId": "0d547489-50d2-4e7f-8699-b12c92a4a449"
      },
      "outputs": [
        {
          "output_type": "execute_result",
          "data": {
            "text/plain": [
              "((12120, 6), (5195, 5))"
            ]
          },
          "metadata": {},
          "execution_count": 9
        }
      ],
      "source": [
        "df_train.shape,df_test.shape"
      ]
    },
    {
      "cell_type": "code",
      "execution_count": 10,
      "id": "8d0d598a",
      "metadata": {
        "ExecuteTime": {
          "end_time": "2022-06-29T00:46:20.370701Z",
          "start_time": "2022-06-29T00:46:20.357964Z"
        },
        "colab": {
          "base_uri": "https://localhost:8080/"
        },
        "id": "8d0d598a",
        "outputId": "8d932495-9d42-4ce8-f407-e8b005972225"
      },
      "outputs": [
        {
          "output_type": "execute_result",
          "data": {
            "text/plain": [
              "id            0\n",
              "premise       0\n",
              "hypothesis    0\n",
              "lang_abv      0\n",
              "language      0\n",
              "label         0\n",
              "dtype: int64"
            ]
          },
          "metadata": {},
          "execution_count": 10
        }
      ],
      "source": [
        "df_train.isnull().sum()"
      ]
    },
    {
      "cell_type": "code",
      "execution_count": 11,
      "id": "90a34ade",
      "metadata": {
        "ExecuteTime": {
          "end_time": "2022-06-29T01:47:23.866003Z",
          "start_time": "2022-06-29T01:47:23.851801Z"
        },
        "colab": {
          "base_uri": "https://localhost:8080/"
        },
        "id": "90a34ade",
        "outputId": "cc191da0-c688-4731-8307-d5c0c63cbc88"
      },
      "outputs": [
        {
          "output_type": "execute_result",
          "data": {
            "text/plain": [
              "id            0\n",
              "premise       0\n",
              "hypothesis    0\n",
              "lang_abv      0\n",
              "language      0\n",
              "dtype: int64"
            ]
          },
          "metadata": {},
          "execution_count": 11
        }
      ],
      "source": [
        "df_test.isnull().sum()"
      ]
    },
    {
      "cell_type": "code",
      "execution_count": 12,
      "id": "e5606686",
      "metadata": {
        "ExecuteTime": {
          "end_time": "2022-06-29T01:47:38.110610Z",
          "start_time": "2022-06-29T01:47:38.076620Z"
        },
        "colab": {
          "base_uri": "https://localhost:8080/"
        },
        "id": "e5606686",
        "outputId": "2a87c74e-cffb-4738-bd63-ca4cd9893a00"
      },
      "outputs": [
        {
          "output_type": "execute_result",
          "data": {
            "text/plain": [
              "(0, 0)"
            ]
          },
          "metadata": {},
          "execution_count": 12
        }
      ],
      "source": [
        "df_train.duplicated().sum(),df_test.duplicated().sum()"
      ]
    },
    {
      "cell_type": "code",
      "source": [
        "language = (df_train['language'].value_counts()/len(df_train))\n",
        "\n",
        "fig, axes = plt.subplots(nrows=1, ncols=1, figsize=(20,10))\n",
        "colors = sns.color_palette('pastel')[0:5]\n",
        "plt.pie(language,labels = language.index,colors = colors, autopct='%.0f%%')\n",
        "plt.show()"
      ],
      "metadata": {
        "colab": {
          "base_uri": "https://localhost:8080/",
          "height": 575
        },
        "id": "C0DWdidN04u1",
        "outputId": "fb768445-8603-4ada-fa38-d383846d3e1a"
      },
      "id": "C0DWdidN04u1",
      "execution_count": 84,
      "outputs": [
        {
          "output_type": "display_data",
          "data": {
            "text/plain": [
              "<Figure size 1440x720 with 1 Axes>"
            ],
            "image/png": "[encoded data removed]"
          },
          "metadata": {}
        }
      ]
    },
    {
      "cell_type": "code",
      "source": [
        "language = (df_test['language'].value_counts()/len(df_test))\n",
        "\n",
        "fig, axes = plt.subplots(nrows=1, ncols=1, figsize=(20,10))\n",
        "colors = sns.color_palette('pastel')[0:5]\n",
        "plt.pie(language,labels = language.index,colors = colors, autopct='%.0f%%')\n",
        "plt.show()"
      ],
      "metadata": {
        "colab": {
          "base_uri": "https://localhost:8080/",
          "height": 575
        },
        "id": "hFQVj4OT2g7-",
        "outputId": "ec2719d1-6cf0-42f2-bd05-ae9a92a304ec"
      },
      "id": "hFQVj4OT2g7-",
      "execution_count": 86,
      "outputs": [
        {
          "output_type": "display_data",
          "data": {
            "text/plain": [
              "<Figure size 1440x720 with 1 Axes>"
            ],
            "image/png": "[encoded data removed]"
          },
          "metadata": {}
        }
      ]
    },
    {
      "cell_type": "markdown",
      "source": [
        "# Preprocessing"
      ],
      "metadata": {
        "id": "6myfIiDm2oMv"
      },
      "id": "6myfIiDm2oMv"
    },
    {
      "cell_type": "code",
      "execution_count": 13,
      "id": "006f6504",
      "metadata": {
        "ExecuteTime": {
          "end_time": "2022-06-27T23:15:00.748523Z",
          "start_time": "2022-06-27T23:15:00.443676Z"
        },
        "id": "006f6504"
      },
      "outputs": [],
      "source": [
        "|from transformers import TFAutoModel, AutoTokenizer"
      ]
    },
    {
      "cell_type": "code",
      "execution_count": 15,
      "id": "9e589a67",
      "metadata": {
        "ExecuteTime": {
          "end_time": "2022-06-29T02:47:48.355091Z",
          "start_time": "2022-06-29T02:47:48.348810Z"
        },
        "colab": {
          "base_uri": "https://localhost:8080/"
        },
        "id": "9e589a67",
        "outputId": "4561bcf3-1cf0-4afd-9a42-b7bf2f9b0b44"
      },
      "outputs": [
        {
          "output_type": "execute_result",
          "data": {
            "text/plain": [
              "2"
            ]
          },
          "metadata": {},
          "execution_count": 15
        }
      ],
      "source": [
        "#model_name = 'bert-base-multilingual-uncased'\n",
        "#model_name = 'xlm-roberta-base'\n",
        "model_name = 'joeddav/xlm-roberta-large-xnli' \n",
        "batch_size = 5\n",
        "MAX_LENGTH = 256\n",
        "NUM_EPOCHS = 2\n",
        "L_RATE = 1e-5\n",
        "NUM_CORES = os.cpu_count()\n",
        "NUM_CORES"
      ]
    },
    {
      "cell_type": "code",
      "source": [
        "tokenizer = AutoTokenizer.from_pretrained(model_name)"
      ],
      "metadata": {
        "id": "9ydaER_yczvn",
        "colab": {
          "base_uri": "https://localhost:8080/",
          "height": 145,
          "referenced_widgets": [
            "bcc650ffb6fb4dd8b378d0392163a0c6",
            "254607f0195342ef8f7a6aef54e99616",
            "6da65bb82b7d4cab9513cbdcf7c72e8e",
            "ee213b4890e0443791d95a1d70144801",
            "bd1e195df7554874935af6a03a43d629",
            "d5d727afe17741039625dc0dfd6b587f",
            "3311b17d127f4369b5b34977ee841b96",
            "620d604407bd4b11831f6ef3f7ddd8f1",
            "0fa8c197e2cf436f8d148301d5f64c57",
            "114845a9f20e4c52a50b106f467c6422",
            "7131859f1e7d4542a33030e1e5657fdd",
            "be32f04dec2447aab5a0722d46ec9409",
            "093e997949e844429d7b52cc35e3fec8",
            "7bd99a9853b14822800347897d4e81b0",
            "327aba8dc084474cb38e8768974f7af1",
            "3ff9f06038b04bb2bfd88ed8b8da44fd",
            "5e3762ea28594d33bd05f2bd5ef5ddff",
            "2dd59fdefd4741e7ac4653a7b40d5636",
            "3c637409769a4aceba94867e6108d9f0",
            "0f40cb7648d44683a5ba829d67266d89",
            "be694db61e1c458681724fcbca0bb584",
            "d464a750cf5a44b0b03aedfe5dc41b97",
            "72b77102c7f641f698323c6f7813ca61",
            "7e553fd2adbc4ae2bc12740b092b2f52",
            "4ff01976c103476b8812d28dc2198395",
            "3aabacd70e034a9a98befb0531b1f552",
            "d069353471e64bb590d403dfd96cb4f3",
            "72006be252b6495ab303ac66a1d28eb5",
            "a1bfe14229b34d088b1c06cc447b7a6d",
            "37cb2e399b5349f2b1b3d3b199b00864",
            "4bc7cbb3ef234034b6a9d5d89cba9162",
            "a43f49e280484cc0b4647b8fa1907c44",
            "84cff91a9b674a99ae2a9f7c393a77f4",
            "897bb910802e49b1ad32e76bed7c5f54",
            "8a08fe6cbc1f4911b2b7377e61dbd80c",
            "250f961cb25844cba90c8d44ada28da7",
            "5cef114e44a64fe4a85e9c49e26165a4",
            "c6bc3c8682864c7e9bbedeb4e8d5a6aa",
            "7ab8a315ae664024a340bfe6b439aabb",
            "a10451044ff14dddb987395ef08ad5f1",
            "10beda5b902c4a6bbaa3712324bb4aef",
            "eb66e31abeca4180b469b412ee14662e",
            "e668f730db244d45b4b957ce6213d374",
            "36ca9710bf6941dca040f0fa13db7d60"
          ]
        },
        "outputId": "97f5d13d-3578-4a86-ce35-a4d64795a17a"
      },
      "id": "9ydaER_yczvn",
      "execution_count": 16,
      "outputs": [
        {
          "output_type": "display_data",
          "data": {
            "text/plain": [
              "Downloading:   0%|          | 0.00/25.0 [00:00<?, ?B/s]"
            ],
            "application/vnd.jupyter.widget-view+json": {
              "version_major": 2,
              "version_minor": 0,
              "model_id": "bcc650ffb6fb4dd8b378d0392163a0c6"
            }
          },
          "metadata": {}
        },
        {
          "output_type": "display_data",
          "data": {
            "text/plain": [
              "Downloading:   0%|          | 0.00/734 [00:00<?, ?B/s]"
            ],
            "application/vnd.jupyter.widget-view+json": {
              "version_major": 2,
              "version_minor": 0,
              "model_id": "be32f04dec2447aab5a0722d46ec9409"
            }
          },
          "metadata": {}
        },
        {
          "output_type": "display_data",
          "data": {
            "text/plain": [
              "Downloading:   0%|          | 0.00/4.83M [00:00<?, ?B/s]"
            ],
            "application/vnd.jupyter.widget-view+json": {
              "version_major": 2,
              "version_minor": 0,
              "model_id": "72b77102c7f641f698323c6f7813ca61"
            }
          },
          "metadata": {}
        },
        {
          "output_type": "display_data",
          "data": {
            "text/plain": [
              "Downloading:   0%|          | 0.00/150 [00:00<?, ?B/s]"
            ],
            "application/vnd.jupyter.widget-view+json": {
              "version_major": 2,
              "version_minor": 0,
              "model_id": "897bb910802e49b1ad32e76bed7c5f54"
            }
          },
          "metadata": {}
        }
      ]
    },
    {
      "cell_type": "code",
      "execution_count": 17,
      "id": "e07645ff",
      "metadata": {
        "ExecuteTime": {
          "end_time": "2022-06-29T02:47:39.367396Z",
          "start_time": "2022-06-29T02:47:39.361963Z"
        },
        "id": "e07645ff"
      },
      "outputs": [],
      "source": [
        "def preprocess(data1, tokenizer):\n",
        "    kwargs = { 'truncation': True,\n",
        "    'max_length': MAX_LENGTH,\n",
        "    'padding': 'max_length',\n",
        "     'return_attention_mask': True, \n",
        "    'return_token_type_ids': True     \n",
        "    }\n",
        "    data = list(zip(data1['premise'], data1['hypothesis']))\n",
        "    tokenized = tokenizer.batch_encode_plus(data,**kwargs)\n",
        "    input_ids = torch.LongTensor(tokenized.input_ids)\n",
        "    attention_masks = torch.LongTensor(tokenized.attention_mask)\n",
        "    token_type_ids = torch.LongTensor(tokenized.token_type_ids)\n",
        "    return input_ids, attention_masks, token_type_ids"
      ]
    },
    {
      "cell_type": "code",
      "execution_count": 18,
      "id": "ee871fe8",
      "metadata": {
        "ExecuteTime": {
          "end_time": "2022-06-29T02:21:45.452020Z",
          "start_time": "2022-06-29T02:21:45.435802Z"
        },
        "id": "ee871fe8"
      },
      "outputs": [],
      "source": [
        "n = len(df_train)\n",
        "idx = np.array(range(n))\n",
        "train_idx = np.random.choice(range(n),size = int(n*0.8),replace = False)\n",
        "valid_idx = idx[np.isin(idx,train_idx)==False]\n",
        "train_df = df_train.iloc[train_idx].reset_index(drop = True)\n",
        "valid_df = df_train.iloc[valid_idx].reset_index(drop = True)"
      ]
    },
    {
      "cell_type": "code",
      "execution_count": 19,
      "id": "7964f23d",
      "metadata": {
        "ExecuteTime": {
          "end_time": "2022-06-29T02:50:04.418699Z",
          "start_time": "2022-06-29T02:50:03.359592Z"
        },
        "colab": {
          "base_uri": "https://localhost:8080/"
        },
        "id": "7964f23d",
        "outputId": "67b05d0e-b402-410b-94fb-dfbf284565f4"
      },
      "outputs": [
        {
          "output_type": "execute_result",
          "data": {
            "text/plain": [
              "<torch.utils.data.dataset.TensorDataset at 0x7f65ea2f49d0>"
            ]
          },
          "metadata": {},
          "execution_count": 19
        }
      ],
      "source": [
        "input_ids, attention_masks, token_type_ids = preprocess(train_df,tokenizer)\n",
        "labels = torch.Tensor(train_df['label']).reshape(-1, 1)\n",
        "train_dataset_final = TensorDataset(input_ids, attention_masks, token_type_ids,labels)\n",
        "train_dataloader = DataLoader(train_dataset_final, sampler=RandomSampler(train_dataset_final), batch_size=batch_size)\n",
        "train_dataset_final"
      ]
    },
    {
      "cell_type": "code",
      "execution_count": 20,
      "id": "e1b72bf0",
      "metadata": {
        "ExecuteTime": {
          "end_time": "2022-06-29T02:50:21.467908Z",
          "start_time": "2022-06-29T02:50:21.464244Z"
        },
        "colab": {
          "base_uri": "https://localhost:8080/"
        },
        "id": "e1b72bf0",
        "outputId": "3ad6d27e-2f01-4a6d-eebe-f64c4058e771"
      },
      "outputs": [
        {
          "output_type": "stream",
          "name": "stdout",
          "text": [
            "1940\n"
          ]
        }
      ],
      "source": [
        "print(len(train_dataloader))"
      ]
    },
    {
      "cell_type": "code",
      "execution_count": 30,
      "id": "ee95a6cf",
      "metadata": {
        "ExecuteTime": {
          "end_time": "2022-06-29T02:51:03.735970Z",
          "start_time": "2022-06-29T02:51:03.403735Z"
        },
        "colab": {
          "base_uri": "https://localhost:8080/"
        },
        "id": "ee95a6cf",
        "outputId": "4b3059c6-affd-4ddd-cd05-9605924a75c2"
      },
      "outputs": [
        {
          "output_type": "execute_result",
          "data": {
            "text/plain": [
              "485"
            ]
          },
          "metadata": {},
          "execution_count": 30
        }
      ],
      "source": [
        "input_ids_test, attention_masks_test, token_type_ids_test = preprocess(valid_df,tokenizer)\n",
        "labels = torch.Tensor(valid_df['label']).reshape(-1, 1)\n",
        "test_dataset_final = TensorDataset(input_ids_test, attention_masks_test, token_type_ids_test,labels)\n",
        "test_dataloader = DataLoader(test_dataset_final, sampler=SequentialSampler(test_dataset_final), batch_size=batch_size)\n",
        "len(test_dataloader)"
      ]
    },
    {
      "cell_type": "markdown",
      "source": [
        "# Model"
      ],
      "metadata": {
        "id": "4822cXuo21IZ"
      },
      "id": "4822cXuo21IZ"
    },
    {
      "cell_type": "code",
      "execution_count": 22,
      "id": "baca42bd",
      "metadata": {
        "ExecuteTime": {
          "end_time": "2022-06-29T02:53:15.310803Z",
          "start_time": "2022-06-29T02:51:29.224838Z"
        },
        "colab": {
          "base_uri": "https://localhost:8080/",
          "height": 1000,
          "referenced_widgets": [
            "34f9b42c95214ff3b94cd7ba72164f0e",
            "fb588d6c7ec94b6b9b504908c53040e2",
            "50a4260fa2304a74b03ef6c99744ca80",
            "9d66e4e117834c9e8217ac75617dbf72",
            "2044855256164a7ea871654c905fc1fc",
            "b5983b58f0364f37aaf91230a2dd7751",
            "66c2c2b47c7a468c93ee52212cb6e473",
            "eb3776edcf9d4064b4237ff1f64ab99e",
            "861b0d84b5904aa29d8e2d61baf8e56b",
            "a5f08c47a2674dde83aef36a2f3c350f",
            "5d54d9d098e14093829ba8a665d150be"
          ]
        },
        "id": "baca42bd",
        "outputId": "efb7ebc0-9f0e-463a-e286-12e0a17ef09d"
      },
      "outputs": [
        {
          "output_type": "display_data",
          "data": {
            "text/plain": [
              "Downloading:   0%|          | 0.00/2.09G [00:00<?, ?B/s]"
            ],
            "application/vnd.jupyter.widget-view+json": {
              "version_major": 2,
              "version_minor": 0,
              "model_id": "34f9b42c95214ff3b94cd7ba72164f0e"
            }
          },
          "metadata": {}
        },
        {
          "output_type": "stream",
          "name": "stderr",
          "text": [
            "Some weights of the model checkpoint at joeddav/xlm-roberta-large-xnli were not used when initializing XLMRobertaForSequenceClassification: ['roberta.pooler.dense.weight', 'roberta.pooler.dense.bias']\n",
            "- This IS expected if you are initializing XLMRobertaForSequenceClassification from the checkpoint of a model trained on another task or with another architecture (e.g. initializing a BertForSequenceClassification model from a BertForPreTraining model).\n",
            "- This IS NOT expected if you are initializing XLMRobertaForSequenceClassification from the checkpoint of a model that you expect to be exactly identical (initializing a BertForSequenceClassification model from a BertForSequenceClassification model).\n"
          ]
        },
        {
          "output_type": "execute_result",
          "data": {
            "text/plain": [
              "XLMRobertaForSequenceClassification(\n",
              "  (roberta): RobertaModel(\n",
              "    (embeddings): RobertaEmbeddings(\n",
              "      (word_embeddings): Embedding(250002, 1024, padding_idx=1)\n",
              "      (position_embeddings): Embedding(514, 1024, padding_idx=1)\n",
              "      (token_type_embeddings): Embedding(1, 1024)\n",
              "      (LayerNorm): LayerNorm((1024,), eps=1e-05, elementwise_affine=True)\n",
              "      (dropout): Dropout(p=0.1, inplace=False)\n",
              "    )\n",
              "    (encoder): RobertaEncoder(\n",
              "      (layer): ModuleList(\n",
              "        (0): RobertaLayer(\n",
              "          (attention): RobertaAttention(\n",
              "            (self): RobertaSelfAttention(\n",
              "              (query): Linear(in_features=1024, out_features=1024, bias=True)\n",
              "              (key): Linear(in_features=1024, out_features=1024, bias=True)\n",
              "              (value): Linear(in_features=1024, out_features=1024, bias=True)\n",
              "              (dropout): Dropout(p=0.1, inplace=False)\n",
              "            )\n",
              "            (output): RobertaSelfOutput(\n",
              "              (dense): Linear(in_features=1024, out_features=1024, bias=True)\n",
              "              (LayerNorm): LayerNorm((1024,), eps=1e-05, elementwise_affine=True)\n",
              "              (dropout): Dropout(p=0.1, inplace=False)\n",
              "            )\n",
              "          )\n",
              "          (intermediate): RobertaIntermediate(\n",
              "            (dense): Linear(in_features=1024, out_features=4096, bias=True)\n",
              "            (intermediate_act_fn): GELUActivation()\n",
              "          )\n",
              "          (output): RobertaOutput(\n",
              "            (dense): Linear(in_features=4096, out_features=1024, bias=True)\n",
              "            (LayerNorm): LayerNorm((1024,), eps=1e-05, elementwise_affine=True)\n",
              "            (dropout): Dropout(p=0.1, inplace=False)\n",
              "          )\n",
              "        )\n",
              "        (1): RobertaLayer(\n",
              "          (attention): RobertaAttention(\n",
              "            (self): RobertaSelfAttention(\n",
              "              (query): Linear(in_features=1024, out_features=1024, bias=True)\n",
              "              (key): Linear(in_features=1024, out_features=1024, bias=True)\n",
              "              (value): Linear(in_features=1024, out_features=1024, bias=True)\n",
              "              (dropout): Dropout(p=0.1, inplace=False)\n",
              "            )\n",
              "            (output): RobertaSelfOutput(\n",
              "              (dense): Linear(in_features=1024, out_features=1024, bias=True)\n",
              "              (LayerNorm): LayerNorm((1024,), eps=1e-05, elementwise_affine=True)\n",
              "              (dropout): Dropout(p=0.1, inplace=False)\n",
              "            )\n",
              "          )\n",
              "          (intermediate): RobertaIntermediate(\n",
              "            (dense): Linear(in_features=1024, out_features=4096, bias=True)\n",
              "            (intermediate_act_fn): GELUActivation()\n",
              "          )\n",
              "          (output): RobertaOutput(\n",
              "            (dense): Linear(in_features=4096, out_features=1024, bias=True)\n",
              "            (LayerNorm): LayerNorm((1024,), eps=1e-05, elementwise_affine=True)\n",
              "            (dropout): Dropout(p=0.1, inplace=False)\n",
              "          )\n",
              "        )\n",
              "        (2): RobertaLayer(\n",
              "          (attention): RobertaAttention(\n",
              "            (self): RobertaSelfAttention(\n",
              "              (query): Linear(in_features=1024, out_features=1024, bias=True)\n",
              "              (key): Linear(in_features=1024, out_features=1024, bias=True)\n",
              "              (value): Linear(in_features=1024, out_features=1024, bias=True)\n",
              "              (dropout): Dropout(p=0.1, inplace=False)\n",
              "            )\n",
              "            (output): RobertaSelfOutput(\n",
              "              (dense): Linear(in_features=1024, out_features=1024, bias=True)\n",
              "              (LayerNorm): LayerNorm((1024,), eps=1e-05, elementwise_affine=True)\n",
              "              (dropout): Dropout(p=0.1, inplace=False)\n",
              "            )\n",
              "          )\n",
              "          (intermediate): RobertaIntermediate(\n",
              "            (dense): Linear(in_features=1024, out_features=4096, bias=True)\n",
              "            (intermediate_act_fn): GELUActivation()\n",
              "          )\n",
              "          (output): RobertaOutput(\n",
              "            (dense): Linear(in_features=4096, out_features=1024, bias=True)\n",
              "            (LayerNorm): LayerNorm((1024,), eps=1e-05, elementwise_affine=True)\n",
              "            (dropout): Dropout(p=0.1, inplace=False)\n",
              "          )\n",
              "        )\n",
              "        (3): RobertaLayer(\n",
              "          (attention): RobertaAttention(\n",
              "            (self): RobertaSelfAttention(\n",
              "              (query): Linear(in_features=1024, out_features=1024, bias=True)\n",
              "              (key): Linear(in_features=1024, out_features=1024, bias=True)\n",
              "              (value): Linear(in_features=1024, out_features=1024, bias=True)\n",
              "              (dropout): Dropout(p=0.1, inplace=False)\n",
              "            )\n",
              "            (output): RobertaSelfOutput(\n",
              "              (dense): Linear(in_features=1024, out_features=1024, bias=True)\n",
              "              (LayerNorm): LayerNorm((1024,), eps=1e-05, elementwise_affine=True)\n",
              "              (dropout): Dropout(p=0.1, inplace=False)\n",
              "            )\n",
              "          )\n",
              "          (intermediate): RobertaIntermediate(\n",
              "            (dense): Linear(in_features=1024, out_features=4096, bias=True)\n",
              "            (intermediate_act_fn): GELUActivation()\n",
              "          )\n",
              "          (output): RobertaOutput(\n",
              "            (dense): Linear(in_features=4096, out_features=1024, bias=True)\n",
              "            (LayerNorm): LayerNorm((1024,), eps=1e-05, elementwise_affine=True)\n",
              "            (dropout): Dropout(p=0.1, inplace=False)\n",
              "          )\n",
              "        )\n",
              "        (4): RobertaLayer(\n",
              "          (attention): RobertaAttention(\n",
              "            (self): RobertaSelfAttention(\n",
              "              (query): Linear(in_features=1024, out_features=1024, bias=True)\n",
              "              (key): Linear(in_features=1024, out_features=1024, bias=True)\n",
              "              (value): Linear(in_features=1024, out_features=1024, bias=True)\n",
              "              (dropout): Dropout(p=0.1, inplace=False)\n",
              "            )\n",
              "            (output): RobertaSelfOutput(\n",
              "              (dense): Linear(in_features=1024, out_features=1024, bias=True)\n",
              "              (LayerNorm): LayerNorm((1024,), eps=1e-05, elementwise_affine=True)\n",
              "              (dropout): Dropout(p=0.1, inplace=False)\n",
              "            )\n",
              "          )\n",
              "          (intermediate): RobertaIntermediate(\n",
              "            (dense): Linear(in_features=1024, out_features=4096, bias=True)\n",
              "            (intermediate_act_fn): GELUActivation()\n",
              "          )\n",
              "          (output): RobertaOutput(\n",
              "            (dense): Linear(in_features=4096, out_features=1024, bias=True)\n",
              "            (LayerNorm): LayerNorm((1024,), eps=1e-05, elementwise_affine=True)\n",
              "            (dropout): Dropout(p=0.1, inplace=False)\n",
              "          )\n",
              "        )\n",
              "        (5): RobertaLayer(\n",
              "          (attention): RobertaAttention(\n",
              "            (self): RobertaSelfAttention(\n",
              "              (query): Linear(in_features=1024, out_features=1024, bias=True)\n",
              "              (key): Linear(in_features=1024, out_features=1024, bias=True)\n",
              "              (value): Linear(in_features=1024, out_features=1024, bias=True)\n",
              "              (dropout): Dropout(p=0.1, inplace=False)\n",
              "            )\n",
              "            (output): RobertaSelfOutput(\n",
              "              (dense): Linear(in_features=1024, out_features=1024, bias=True)\n",
              "              (LayerNorm): LayerNorm((1024,), eps=1e-05, elementwise_affine=True)\n",
              "              (dropout): Dropout(p=0.1, inplace=False)\n",
              "            )\n",
              "          )\n",
              "          (intermediate): RobertaIntermediate(\n",
              "            (dense): Linear(in_features=1024, out_features=4096, bias=True)\n",
              "            (intermediate_act_fn): GELUActivation()\n",
              "          )\n",
              "          (output): RobertaOutput(\n",
              "            (dense): Linear(in_features=4096, out_features=1024, bias=True)\n",
              "            (LayerNorm): LayerNorm((1024,), eps=1e-05, elementwise_affine=True)\n",
              "            (dropout): Dropout(p=0.1, inplace=False)\n",
              "          )\n",
              "        )\n",
              "        (6): RobertaLayer(\n",
              "          (attention): RobertaAttention(\n",
              "            (self): RobertaSelfAttention(\n",
              "              (query): Linear(in_features=1024, out_features=1024, bias=True)\n",
              "              (key): Linear(in_features=1024, out_features=1024, bias=True)\n",
              "              (value): Linear(in_features=1024, out_features=1024, bias=True)\n",
              "              (dropout): Dropout(p=0.1, inplace=False)\n",
              "            )\n",
              "            (output): RobertaSelfOutput(\n",
              "              (dense): Linear(in_features=1024, out_features=1024, bias=True)\n",
              "              (LayerNorm): LayerNorm((1024,), eps=1e-05, elementwise_affine=True)\n",
              "              (dropout): Dropout(p=0.1, inplace=False)\n",
              "            )\n",
              "          )\n",
              "          (intermediate): RobertaIntermediate(\n",
              "            (dense): Linear(in_features=1024, out_features=4096, bias=True)\n",
              "            (intermediate_act_fn): GELUActivation()\n",
              "          )\n",
              "          (output): RobertaOutput(\n",
              "            (dense): Linear(in_features=4096, out_features=1024, bias=True)\n",
              "            (LayerNorm): LayerNorm((1024,), eps=1e-05, elementwise_affine=True)\n",
              "            (dropout): Dropout(p=0.1, inplace=False)\n",
              "          )\n",
              "        )\n",
              "        (7): RobertaLayer(\n",
              "          (attention): RobertaAttention(\n",
              "            (self): RobertaSelfAttention(\n",
              "              (query): Linear(in_features=1024, out_features=1024, bias=True)\n",
              "              (key): Linear(in_features=1024, out_features=1024, bias=True)\n",
              "              (value): Linear(in_features=1024, out_features=1024, bias=True)\n",
              "              (dropout): Dropout(p=0.1, inplace=False)\n",
              "            )\n",
              "            (output): RobertaSelfOutput(\n",
              "              (dense): Linear(in_features=1024, out_features=1024, bias=True)\n",
              "              (LayerNorm): LayerNorm((1024,), eps=1e-05, elementwise_affine=True)\n",
              "              (dropout): Dropout(p=0.1, inplace=False)\n",
              "            )\n",
              "          )\n",
              "          (intermediate): RobertaIntermediate(\n",
              "            (dense): Linear(in_features=1024, out_features=4096, bias=True)\n",
              "            (intermediate_act_fn): GELUActivation()\n",
              "          )\n",
              "          (output): RobertaOutput(\n",
              "            (dense): Linear(in_features=4096, out_features=1024, bias=True)\n",
              "            (LayerNorm): LayerNorm((1024,), eps=1e-05, elementwise_affine=True)\n",
              "            (dropout): Dropout(p=0.1, inplace=False)\n",
              "          )\n",
              "        )\n",
              "        (8): RobertaLayer(\n",
              "          (attention): RobertaAttention(\n",
              "            (self): RobertaSelfAttention(\n",
              "              (query): Linear(in_features=1024, out_features=1024, bias=True)\n",
              "              (key): Linear(in_features=1024, out_features=1024, bias=True)\n",
              "              (value): Linear(in_features=1024, out_features=1024, bias=True)\n",
              "              (dropout): Dropout(p=0.1, inplace=False)\n",
              "            )\n",
              "            (output): RobertaSelfOutput(\n",
              "              (dense): Linear(in_features=1024, out_features=1024, bias=True)\n",
              "              (LayerNorm): LayerNorm((1024,), eps=1e-05, elementwise_affine=True)\n",
              "              (dropout): Dropout(p=0.1, inplace=False)\n",
              "            )\n",
              "          )\n",
              "          (intermediate): RobertaIntermediate(\n",
              "            (dense): Linear(in_features=1024, out_features=4096, bias=True)\n",
              "            (intermediate_act_fn): GELUActivation()\n",
              "          )\n",
              "          (output): RobertaOutput(\n",
              "            (dense): Linear(in_features=4096, out_features=1024, bias=True)\n",
              "            (LayerNorm): LayerNorm((1024,), eps=1e-05, elementwise_affine=True)\n",
              "            (dropout): Dropout(p=0.1, inplace=False)\n",
              "          )\n",
              "        )\n",
              "        (9): RobertaLayer(\n",
              "          (attention): RobertaAttention(\n",
              "            (self): RobertaSelfAttention(\n",
              "              (query): Linear(in_features=1024, out_features=1024, bias=True)\n",
              "              (key): Linear(in_features=1024, out_features=1024, bias=True)\n",
              "              (value): Linear(in_features=1024, out_features=1024, bias=True)\n",
              "              (dropout): Dropout(p=0.1, inplace=False)\n",
              "            )\n",
              "            (output): RobertaSelfOutput(\n",
              "              (dense): Linear(in_features=1024, out_features=1024, bias=True)\n",
              "              (LayerNorm): LayerNorm((1024,), eps=1e-05, elementwise_affine=True)\n",
              "              (dropout): Dropout(p=0.1, inplace=False)\n",
              "            )\n",
              "          )\n",
              "          (intermediate): RobertaIntermediate(\n",
              "            (dense): Linear(in_features=1024, out_features=4096, bias=True)\n",
              "            (intermediate_act_fn): GELUActivation()\n",
              "          )\n",
              "          (output): RobertaOutput(\n",
              "            (dense): Linear(in_features=4096, out_features=1024, bias=True)\n",
              "            (LayerNorm): LayerNorm((1024,), eps=1e-05, elementwise_affine=True)\n",
              "            (dropout): Dropout(p=0.1, inplace=False)\n",
              "          )\n",
              "        )\n",
              "        (10): RobertaLayer(\n",
              "          (attention): RobertaAttention(\n",
              "            (self): RobertaSelfAttention(\n",
              "              (query): Linear(in_features=1024, out_features=1024, bias=True)\n",
              "              (key): Linear(in_features=1024, out_features=1024, bias=True)\n",
              "              (value): Linear(in_features=1024, out_features=1024, bias=True)\n",
              "              (dropout): Dropout(p=0.1, inplace=False)\n",
              "            )\n",
              "            (output): RobertaSelfOutput(\n",
              "              (dense): Linear(in_features=1024, out_features=1024, bias=True)\n",
              "              (LayerNorm): LayerNorm((1024,), eps=1e-05, elementwise_affine=True)\n",
              "              (dropout): Dropout(p=0.1, inplace=False)\n",
              "            )\n",
              "          )\n",
              "          (intermediate): RobertaIntermediate(\n",
              "            (dense): Linear(in_features=1024, out_features=4096, bias=True)\n",
              "            (intermediate_act_fn): GELUActivation()\n",
              "          )\n",
              "          (output): RobertaOutput(\n",
              "            (dense): Linear(in_features=4096, out_features=1024, bias=True)\n",
              "            (LayerNorm): LayerNorm((1024,), eps=1e-05, elementwise_affine=True)\n",
              "            (dropout): Dropout(p=0.1, inplace=False)\n",
              "          )\n",
              "        )\n",
              "        (11): RobertaLayer(\n",
              "          (attention): RobertaAttention(\n",
              "            (self): RobertaSelfAttention(\n",
              "              (query): Linear(in_features=1024, out_features=1024, bias=True)\n",
              "              (key): Linear(in_features=1024, out_features=1024, bias=True)\n",
              "              (value): Linear(in_features=1024, out_features=1024, bias=True)\n",
              "              (dropout): Dropout(p=0.1, inplace=False)\n",
              "            )\n",
              "            (output): RobertaSelfOutput(\n",
              "              (dense): Linear(in_features=1024, out_features=1024, bias=True)\n",
              "              (LayerNorm): LayerNorm((1024,), eps=1e-05, elementwise_affine=True)\n",
              "              (dropout): Dropout(p=0.1, inplace=False)\n",
              "            )\n",
              "          )\n",
              "          (intermediate): RobertaIntermediate(\n",
              "            (dense): Linear(in_features=1024, out_features=4096, bias=True)\n",
              "            (intermediate_act_fn): GELUActivation()\n",
              "          )\n",
              "          (output): RobertaOutput(\n",
              "            (dense): Linear(in_features=4096, out_features=1024, bias=True)\n",
              "            (LayerNorm): LayerNorm((1024,), eps=1e-05, elementwise_affine=True)\n",
              "            (dropout): Dropout(p=0.1, inplace=False)\n",
              "          )\n",
              "        )\n",
              "        (12): RobertaLayer(\n",
              "          (attention): RobertaAttention(\n",
              "            (self): RobertaSelfAttention(\n",
              "              (query): Linear(in_features=1024, out_features=1024, bias=True)\n",
              "              (key): Linear(in_features=1024, out_features=1024, bias=True)\n",
              "              (value): Linear(in_features=1024, out_features=1024, bias=True)\n",
              "              (dropout): Dropout(p=0.1, inplace=False)\n",
              "            )\n",
              "            (output): RobertaSelfOutput(\n",
              "              (dense): Linear(in_features=1024, out_features=1024, bias=True)\n",
              "              (LayerNorm): LayerNorm((1024,), eps=1e-05, elementwise_affine=True)\n",
              "              (dropout): Dropout(p=0.1, inplace=False)\n",
              "            )\n",
              "          )\n",
              "          (intermediate): RobertaIntermediate(\n",
              "            (dense): Linear(in_features=1024, out_features=4096, bias=True)\n",
              "            (intermediate_act_fn): GELUActivation()\n",
              "          )\n",
              "          (output): RobertaOutput(\n",
              "            (dense): Linear(in_features=4096, out_features=1024, bias=True)\n",
              "            (LayerNorm): LayerNorm((1024,), eps=1e-05, elementwise_affine=True)\n",
              "            (dropout): Dropout(p=0.1, inplace=False)\n",
              "          )\n",
              "        )\n",
              "        (13): RobertaLayer(\n",
              "          (attention): RobertaAttention(\n",
              "            (self): RobertaSelfAttention(\n",
              "              (query): Linear(in_features=1024, out_features=1024, bias=True)\n",
              "              (key): Linear(in_features=1024, out_features=1024, bias=True)\n",
              "              (value): Linear(in_features=1024, out_features=1024, bias=True)\n",
              "              (dropout): Dropout(p=0.1, inplace=False)\n",
              "            )\n",
              "            (output): RobertaSelfOutput(\n",
              "              (dense): Linear(in_features=1024, out_features=1024, bias=True)\n",
              "              (LayerNorm): LayerNorm((1024,), eps=1e-05, elementwise_affine=True)\n",
              "              (dropout): Dropout(p=0.1, inplace=False)\n",
              "            )\n",
              "          )\n",
              "          (intermediate): RobertaIntermediate(\n",
              "            (dense): Linear(in_features=1024, out_features=4096, bias=True)\n",
              "            (intermediate_act_fn): GELUActivation()\n",
              "          )\n",
              "          (output): RobertaOutput(\n",
              "            (dense): Linear(in_features=4096, out_features=1024, bias=True)\n",
              "            (LayerNorm): LayerNorm((1024,), eps=1e-05, elementwise_affine=True)\n",
              "            (dropout): Dropout(p=0.1, inplace=False)\n",
              "          )\n",
              "        )\n",
              "        (14): RobertaLayer(\n",
              "          (attention): RobertaAttention(\n",
              "            (self): RobertaSelfAttention(\n",
              "              (query): Linear(in_features=1024, out_features=1024, bias=True)\n",
              "              (key): Linear(in_features=1024, out_features=1024, bias=True)\n",
              "              (value): Linear(in_features=1024, out_features=1024, bias=True)\n",
              "              (dropout): Dropout(p=0.1, inplace=False)\n",
              "            )\n",
              "            (output): RobertaSelfOutput(\n",
              "              (dense): Linear(in_features=1024, out_features=1024, bias=True)\n",
              "              (LayerNorm): LayerNorm((1024,), eps=1e-05, elementwise_affine=True)\n",
              "              (dropout): Dropout(p=0.1, inplace=False)\n",
              "            )\n",
              "          )\n",
              "          (intermediate): RobertaIntermediate(\n",
              "            (dense): Linear(in_features=1024, out_features=4096, bias=True)\n",
              "            (intermediate_act_fn): GELUActivation()\n",
              "          )\n",
              "          (output): RobertaOutput(\n",
              "            (dense): Linear(in_features=4096, out_features=1024, bias=True)\n",
              "            (LayerNorm): LayerNorm((1024,), eps=1e-05, elementwise_affine=True)\n",
              "            (dropout): Dropout(p=0.1, inplace=False)\n",
              "          )\n",
              "        )\n",
              "        (15): RobertaLayer(\n",
              "          (attention): RobertaAttention(\n",
              "            (self): RobertaSelfAttention(\n",
              "              (query): Linear(in_features=1024, out_features=1024, bias=True)\n",
              "              (key): Linear(in_features=1024, out_features=1024, bias=True)\n",
              "              (value): Linear(in_features=1024, out_features=1024, bias=True)\n",
              "              (dropout): Dropout(p=0.1, inplace=False)\n",
              "            )\n",
              "            (output): RobertaSelfOutput(\n",
              "              (dense): Linear(in_features=1024, out_features=1024, bias=True)\n",
              "              (LayerNorm): LayerNorm((1024,), eps=1e-05, elementwise_affine=True)\n",
              "              (dropout): Dropout(p=0.1, inplace=False)\n",
              "            )\n",
              "          )\n",
              "          (intermediate): RobertaIntermediate(\n",
              "            (dense): Linear(in_features=1024, out_features=4096, bias=True)\n",
              "            (intermediate_act_fn): GELUActivation()\n",
              "          )\n",
              "          (output): RobertaOutput(\n",
              "            (dense): Linear(in_features=4096, out_features=1024, bias=True)\n",
              "            (LayerNorm): LayerNorm((1024,), eps=1e-05, elementwise_affine=True)\n",
              "            (dropout): Dropout(p=0.1, inplace=False)\n",
              "          )\n",
              "        )\n",
              "        (16): RobertaLayer(\n",
              "          (attention): RobertaAttention(\n",
              "            (self): RobertaSelfAttention(\n",
              "              (query): Linear(in_features=1024, out_features=1024, bias=True)\n",
              "              (key): Linear(in_features=1024, out_features=1024, bias=True)\n",
              "              (value): Linear(in_features=1024, out_features=1024, bias=True)\n",
              "              (dropout): Dropout(p=0.1, inplace=False)\n",
              "            )\n",
              "            (output): RobertaSelfOutput(\n",
              "              (dense): Linear(in_features=1024, out_features=1024, bias=True)\n",
              "              (LayerNorm): LayerNorm((1024,), eps=1e-05, elementwise_affine=True)\n",
              "              (dropout): Dropout(p=0.1, inplace=False)\n",
              "            )\n",
              "          )\n",
              "          (intermediate): RobertaIntermediate(\n",
              "            (dense): Linear(in_features=1024, out_features=4096, bias=True)\n",
              "            (intermediate_act_fn): GELUActivation()\n",
              "          )\n",
              "          (output): RobertaOutput(\n",
              "            (dense): Linear(in_features=4096, out_features=1024, bias=True)\n",
              "            (LayerNorm): LayerNorm((1024,), eps=1e-05, elementwise_affine=True)\n",
              "            (dropout): Dropout(p=0.1, inplace=False)\n",
              "          )\n",
              "        )\n",
              "        (17): RobertaLayer(\n",
              "          (attention): RobertaAttention(\n",
              "            (self): RobertaSelfAttention(\n",
              "              (query): Linear(in_features=1024, out_features=1024, bias=True)\n",
              "              (key): Linear(in_features=1024, out_features=1024, bias=True)\n",
              "              (value): Linear(in_features=1024, out_features=1024, bias=True)\n",
              "              (dropout): Dropout(p=0.1, inplace=False)\n",
              "            )\n",
              "            (output): RobertaSelfOutput(\n",
              "              (dense): Linear(in_features=1024, out_features=1024, bias=True)\n",
              "              (LayerNorm): LayerNorm((1024,), eps=1e-05, elementwise_affine=True)\n",
              "              (dropout): Dropout(p=0.1, inplace=False)\n",
              "            )\n",
              "          )\n",
              "          (intermediate): RobertaIntermediate(\n",
              "            (dense): Linear(in_features=1024, out_features=4096, bias=True)\n",
              "            (intermediate_act_fn): GELUActivation()\n",
              "          )\n",
              "          (output): RobertaOutput(\n",
              "            (dense): Linear(in_features=4096, out_features=1024, bias=True)\n",
              "            (LayerNorm): LayerNorm((1024,), eps=1e-05, elementwise_affine=True)\n",
              "            (dropout): Dropout(p=0.1, inplace=False)\n",
              "          )\n",
              "        )\n",
              "        (18): RobertaLayer(\n",
              "          (attention): RobertaAttention(\n",
              "            (self): RobertaSelfAttention(\n",
              "              (query): Linear(in_features=1024, out_features=1024, bias=True)\n",
              "              (key): Linear(in_features=1024, out_features=1024, bias=True)\n",
              "              (value): Linear(in_features=1024, out_features=1024, bias=True)\n",
              "              (dropout): Dropout(p=0.1, inplace=False)\n",
              "            )\n",
              "            (output): RobertaSelfOutput(\n",
              "              (dense): Linear(in_features=1024, out_features=1024, bias=True)\n",
              "              (LayerNorm): LayerNorm((1024,), eps=1e-05, elementwise_affine=True)\n",
              "              (dropout): Dropout(p=0.1, inplace=False)\n",
              "            )\n",
              "          )\n",
              "          (intermediate): RobertaIntermediate(\n",
              "            (dense): Linear(in_features=1024, out_features=4096, bias=True)\n",
              "            (intermediate_act_fn): GELUActivation()\n",
              "          )\n",
              "          (output): RobertaOutput(\n",
              "            (dense): Linear(in_features=4096, out_features=1024, bias=True)\n",
              "            (LayerNorm): LayerNorm((1024,), eps=1e-05, elementwise_affine=True)\n",
              "            (dropout): Dropout(p=0.1, inplace=False)\n",
              "          )\n",
              "        )\n",
              "        (19): RobertaLayer(\n",
              "          (attention): RobertaAttention(\n",
              "            (self): RobertaSelfAttention(\n",
              "              (query): Linear(in_features=1024, out_features=1024, bias=True)\n",
              "              (key): Linear(in_features=1024, out_features=1024, bias=True)\n",
              "              (value): Linear(in_features=1024, out_features=1024, bias=True)\n",
              "              (dropout): Dropout(p=0.1, inplace=False)\n",
              "            )\n",
              "            (output): RobertaSelfOutput(\n",
              "              (dense): Linear(in_features=1024, out_features=1024, bias=True)\n",
              "              (LayerNorm): LayerNorm((1024,), eps=1e-05, elementwise_affine=True)\n",
              "              (dropout): Dropout(p=0.1, inplace=False)\n",
              "            )\n",
              "          )\n",
              "          (intermediate): RobertaIntermediate(\n",
              "            (dense): Linear(in_features=1024, out_features=4096, bias=True)\n",
              "            (intermediate_act_fn): GELUActivation()\n",
              "          )\n",
              "          (output): RobertaOutput(\n",
              "            (dense): Linear(in_features=4096, out_features=1024, bias=True)\n",
              "            (LayerNorm): LayerNorm((1024,), eps=1e-05, elementwise_affine=True)\n",
              "            (dropout): Dropout(p=0.1, inplace=False)\n",
              "          )\n",
              "        )\n",
              "        (20): RobertaLayer(\n",
              "          (attention): RobertaAttention(\n",
              "            (self): RobertaSelfAttention(\n",
              "              (query): Linear(in_features=1024, out_features=1024, bias=True)\n",
              "              (key): Linear(in_features=1024, out_features=1024, bias=True)\n",
              "              (value): Linear(in_features=1024, out_features=1024, bias=True)\n",
              "              (dropout): Dropout(p=0.1, inplace=False)\n",
              "            )\n",
              "            (output): RobertaSelfOutput(\n",
              "              (dense): Linear(in_features=1024, out_features=1024, bias=True)\n",
              "              (LayerNorm): LayerNorm((1024,), eps=1e-05, elementwise_affine=True)\n",
              "              (dropout): Dropout(p=0.1, inplace=False)\n",
              "            )\n",
              "          )\n",
              "          (intermediate): RobertaIntermediate(\n",
              "            (dense): Linear(in_features=1024, out_features=4096, bias=True)\n",
              "            (intermediate_act_fn): GELUActivation()\n",
              "          )\n",
              "          (output): RobertaOutput(\n",
              "            (dense): Linear(in_features=4096, out_features=1024, bias=True)\n",
              "            (LayerNorm): LayerNorm((1024,), eps=1e-05, elementwise_affine=True)\n",
              "            (dropout): Dropout(p=0.1, inplace=False)\n",
              "          )\n",
              "        )\n",
              "        (21): RobertaLayer(\n",
              "          (attention): RobertaAttention(\n",
              "            (self): RobertaSelfAttention(\n",
              "              (query): Linear(in_features=1024, out_features=1024, bias=True)\n",
              "              (key): Linear(in_features=1024, out_features=1024, bias=True)\n",
              "              (value): Linear(in_features=1024, out_features=1024, bias=True)\n",
              "              (dropout): Dropout(p=0.1, inplace=False)\n",
              "            )\n",
              "            (output): RobertaSelfOutput(\n",
              "              (dense): Linear(in_features=1024, out_features=1024, bias=True)\n",
              "              (LayerNorm): LayerNorm((1024,), eps=1e-05, elementwise_affine=True)\n",
              "              (dropout): Dropout(p=0.1, inplace=False)\n",
              "            )\n",
              "          )\n",
              "          (intermediate): RobertaIntermediate(\n",
              "            (dense): Linear(in_features=1024, out_features=4096, bias=True)\n",
              "            (intermediate_act_fn): GELUActivation()\n",
              "          )\n",
              "          (output): RobertaOutput(\n",
              "            (dense): Linear(in_features=4096, out_features=1024, bias=True)\n",
              "            (LayerNorm): LayerNorm((1024,), eps=1e-05, elementwise_affine=True)\n",
              "            (dropout): Dropout(p=0.1, inplace=False)\n",
              "          )\n",
              "        )\n",
              "        (22): RobertaLayer(\n",
              "          (attention): RobertaAttention(\n",
              "            (self): RobertaSelfAttention(\n",
              "              (query): Linear(in_features=1024, out_features=1024, bias=True)\n",
              "              (key): Linear(in_features=1024, out_features=1024, bias=True)\n",
              "              (value): Linear(in_features=1024, out_features=1024, bias=True)\n",
              "              (dropout): Dropout(p=0.1, inplace=False)\n",
              "            )\n",
              "            (output): RobertaSelfOutput(\n",
              "              (dense): Linear(in_features=1024, out_features=1024, bias=True)\n",
              "              (LayerNorm): LayerNorm((1024,), eps=1e-05, elementwise_affine=True)\n",
              "              (dropout): Dropout(p=0.1, inplace=False)\n",
              "            )\n",
              "          )\n",
              "          (intermediate): RobertaIntermediate(\n",
              "            (dense): Linear(in_features=1024, out_features=4096, bias=True)\n",
              "            (intermediate_act_fn): GELUActivation()\n",
              "          )\n",
              "          (output): RobertaOutput(\n",
              "            (dense): Linear(in_features=4096, out_features=1024, bias=True)\n",
              "            (LayerNorm): LayerNorm((1024,), eps=1e-05, elementwise_affine=True)\n",
              "            (dropout): Dropout(p=0.1, inplace=False)\n",
              "          )\n",
              "        )\n",
              "        (23): RobertaLayer(\n",
              "          (attention): RobertaAttention(\n",
              "            (self): RobertaSelfAttention(\n",
              "              (query): Linear(in_features=1024, out_features=1024, bias=True)\n",
              "              (key): Linear(in_features=1024, out_features=1024, bias=True)\n",
              "              (value): Linear(in_features=1024, out_features=1024, bias=True)\n",
              "              (dropout): Dropout(p=0.1, inplace=False)\n",
              "            )\n",
              "            (output): RobertaSelfOutput(\n",
              "              (dense): Linear(in_features=1024, out_features=1024, bias=True)\n",
              "              (LayerNorm): LayerNorm((1024,), eps=1e-05, elementwise_affine=True)\n",
              "              (dropout): Dropout(p=0.1, inplace=False)\n",
              "            )\n",
              "          )\n",
              "          (intermediate): RobertaIntermediate(\n",
              "            (dense): Linear(in_features=1024, out_features=4096, bias=True)\n",
              "            (intermediate_act_fn): GELUActivation()\n",
              "          )\n",
              "          (output): RobertaOutput(\n",
              "            (dense): Linear(in_features=4096, out_features=1024, bias=True)\n",
              "            (LayerNorm): LayerNorm((1024,), eps=1e-05, elementwise_affine=True)\n",
              "            (dropout): Dropout(p=0.1, inplace=False)\n",
              "          )\n",
              "        )\n",
              "      )\n",
              "    )\n",
              "  )\n",
              "  (classifier): RobertaClassificationHead(\n",
              "    (dense): Linear(in_features=1024, out_features=1024, bias=True)\n",
              "    (dropout): Dropout(p=0.1, inplace=False)\n",
              "    (out_proj): Linear(in_features=1024, out_features=3, bias=True)\n",
              "  )\n",
              ")"
            ]
          },
          "metadata": {},
          "execution_count": 22
        }
      ],
      "source": [
        "#model = BertForSequenceClassification.from_pretrained(model_name, num_labels=3, output_hidden_states=False, output_attentions=False,problem_type=\"multi_label_classification\")\n",
        "model = XLMRobertaForSequenceClassification.from_pretrained(model_name, num_labels=3)\n",
        "model.to(device)"
      ]
    },
    {
      "cell_type": "code",
      "source": [
        "batch = next(iter(train_dataloader))\n",
        "b_input_ids = batch[0].to(device)\n",
        "b_input_mask = batch[1].to(device)\n",
        "b_token_type_ids = batch[2].to(device)\n",
        "b_labels = torch.nn.functional.one_hot(batch[3].to(torch.int64), 3).squeeze(1).float().to(device)"
      ],
      "metadata": {
        "id": "lGgh1lYBDST1"
      },
      "id": "lGgh1lYBDST1",
      "execution_count": 23,
      "outputs": []
    },
    {
      "cell_type": "code",
      "source": [
        "outputs = model(b_input_ids, \n",
        "                token_type_ids=b_token_type_ids, \n",
        "                attention_mask=b_input_mask,\n",
        "                labels=b_labels)\n"
      ],
      "metadata": {
        "id": "KQfaN8FADa0r"
      },
      "id": "KQfaN8FADa0r",
      "execution_count": 24,
      "outputs": []
    },
    {
      "cell_type": "markdown",
      "source": [
        "# Training"
      ],
      "metadata": {
        "id": "CuBNultc28BK"
      },
      "id": "CuBNultc28BK"
    },
    {
      "cell_type": "code",
      "execution_count": 25,
      "id": "d8ccada7",
      "metadata": {
        "ExecuteTime": {
          "end_time": "2022-06-29T02:53:46.995632Z",
          "start_time": "2022-06-29T02:53:46.928063Z"
        },
        "id": "d8ccada7"
      },
      "outputs": [],
      "source": [
        "optimizer = AdamW(model.parameters(),\n",
        "              lr = L_RATE, \n",
        "              eps = 1e-8\n",
        "            )"
      ]
    },
    {
      "cell_type": "code",
      "execution_count": 26,
      "id": "3da2fa6a",
      "metadata": {
        "ExecuteTime": {
          "end_time": "2022-06-29T02:57:09.174796Z",
          "start_time": "2022-06-29T02:57:07.549812Z"
        },
        "colab": {
          "base_uri": "https://localhost:8080/"
        },
        "id": "3da2fa6a",
        "outputId": "326b3f25-8149-49ee-ed2f-06c68b1f942a"
      },
      "outputs": [
        {
          "output_type": "execute_result",
          "data": {
            "text/plain": [
              "139"
            ]
          },
          "metadata": {},
          "execution_count": 26
        }
      ],
      "source": [
        "gc.collect()"
      ]
    },
    {
      "cell_type": "code",
      "execution_count": 27,
      "id": "d1060514",
      "metadata": {
        "ExecuteTime": {
          "end_time": "2022-06-29T02:57:19.758606Z",
          "start_time": "2022-06-29T02:57:19.734064Z"
        },
        "id": "d1060514"
      },
      "outputs": [],
      "source": [
        "seed_val = 1024\n",
        "\n",
        "random.seed(seed_val)\n",
        "np.random.seed(seed_val)\n",
        "torch.manual_seed(seed_val)\n",
        "torch.cuda.manual_seed_all(seed_val)"
      ]
    },
    {
      "cell_type": "code",
      "execution_count": 28,
      "id": "6868e79b",
      "metadata": {
        "ExecuteTime": {
          "start_time": "2022-06-29T02:57:29.645Z"
        },
        "colab": {
          "base_uri": "https://localhost:8080/"
        },
        "id": "6868e79b",
        "outputId": "a6e66db6-1a40-4649-a407-51814b82903b"
      },
      "outputs": [
        {
          "output_type": "stream",
          "name": "stderr",
          "text": [
            "\r0it [00:00, ?it/s]"
          ]
        },
        {
          "output_type": "stream",
          "name": "stdout",
          "text": [
            "loss of batch 0: 1.8962898254394531\n"
          ]
        },
        {
          "output_type": "stream",
          "name": "stderr",
          "text": [
            "10it [00:08,  1.24it/s]"
          ]
        },
        {
          "output_type": "stream",
          "name": "stdout",
          "text": [
            "loss of batch 10: 0.7521686553955078\n"
          ]
        },
        {
          "output_type": "stream",
          "name": "stderr",
          "text": [
            "20it [00:16,  1.23it/s]"
          ]
        },
        {
          "output_type": "stream",
          "name": "stdout",
          "text": [
            "loss of batch 20: 0.5961138606071472\n"
          ]
        },
        {
          "output_type": "stream",
          "name": "stderr",
          "text": [
            "30it [00:24,  1.23it/s]"
          ]
        },
        {
          "output_type": "stream",
          "name": "stdout",
          "text": [
            "loss of batch 30: 0.6649144887924194\n"
          ]
        },
        {
          "output_type": "stream",
          "name": "stderr",
          "text": [
            "40it [00:32,  1.22it/s]"
          ]
        },
        {
          "output_type": "stream",
          "name": "stdout",
          "text": [
            "loss of batch 40: 0.6074669361114502\n"
          ]
        },
        {
          "output_type": "stream",
          "name": "stderr",
          "text": [
            "50it [00:40,  1.21it/s]"
          ]
        },
        {
          "output_type": "stream",
          "name": "stdout",
          "text": [
            "loss of batch 50: 0.40875980257987976\n"
          ]
        },
        {
          "output_type": "stream",
          "name": "stderr",
          "text": [
            "60it [00:48,  1.21it/s]"
          ]
        },
        {
          "output_type": "stream",
          "name": "stdout",
          "text": [
            "loss of batch 60: 0.4834711253643036\n"
          ]
        },
        {
          "output_type": "stream",
          "name": "stderr",
          "text": [
            "70it [00:57,  1.20it/s]"
          ]
        },
        {
          "output_type": "stream",
          "name": "stdout",
          "text": [
            "loss of batch 70: 0.37331488728523254\n"
          ]
        },
        {
          "output_type": "stream",
          "name": "stderr",
          "text": [
            "80it [01:05,  1.19it/s]"
          ]
        },
        {
          "output_type": "stream",
          "name": "stdout",
          "text": [
            "loss of batch 80: 0.34946349263191223\n"
          ]
        },
        {
          "output_type": "stream",
          "name": "stderr",
          "text": [
            "90it [01:14,  1.18it/s]"
          ]
        },
        {
          "output_type": "stream",
          "name": "stdout",
          "text": [
            "loss of batch 90: 0.6014105081558228\n"
          ]
        },
        {
          "output_type": "stream",
          "name": "stderr",
          "text": [
            "100it [01:22,  1.18it/s]"
          ]
        },
        {
          "output_type": "stream",
          "name": "stdout",
          "text": [
            "loss of batch 100: 0.12395752221345901\n"
          ]
        },
        {
          "output_type": "stream",
          "name": "stderr",
          "text": [
            "110it [01:31,  1.17it/s]"
          ]
        },
        {
          "output_type": "stream",
          "name": "stdout",
          "text": [
            "loss of batch 110: 0.18489758670330048\n"
          ]
        },
        {
          "output_type": "stream",
          "name": "stderr",
          "text": [
            "120it [01:39,  1.16it/s]"
          ]
        },
        {
          "output_type": "stream",
          "name": "stdout",
          "text": [
            "loss of batch 120: 0.06570688635110855\n"
          ]
        },
        {
          "output_type": "stream",
          "name": "stderr",
          "text": [
            "130it [01:48,  1.15it/s]"
          ]
        },
        {
          "output_type": "stream",
          "name": "stdout",
          "text": [
            "loss of batch 130: 0.1278567612171173\n"
          ]
        },
        {
          "output_type": "stream",
          "name": "stderr",
          "text": [
            "140it [01:56,  1.15it/s]"
          ]
        },
        {
          "output_type": "stream",
          "name": "stdout",
          "text": [
            "loss of batch 140: 0.1015084907412529\n"
          ]
        },
        {
          "output_type": "stream",
          "name": "stderr",
          "text": [
            "150it [02:05,  1.15it/s]"
          ]
        },
        {
          "output_type": "stream",
          "name": "stdout",
          "text": [
            "loss of batch 150: 0.9896600246429443\n"
          ]
        },
        {
          "output_type": "stream",
          "name": "stderr",
          "text": [
            "160it [02:14,  1.16it/s]"
          ]
        },
        {
          "output_type": "stream",
          "name": "stdout",
          "text": [
            "loss of batch 160: 0.040501780807971954\n"
          ]
        },
        {
          "output_type": "stream",
          "name": "stderr",
          "text": [
            "170it [02:22,  1.16it/s]"
          ]
        },
        {
          "output_type": "stream",
          "name": "stdout",
          "text": [
            "loss of batch 170: 0.0334196463227272\n"
          ]
        },
        {
          "output_type": "stream",
          "name": "stderr",
          "text": [
            "180it [02:31,  1.17it/s]"
          ]
        },
        {
          "output_type": "stream",
          "name": "stdout",
          "text": [
            "loss of batch 180: 0.022387469187378883\n"
          ]
        },
        {
          "output_type": "stream",
          "name": "stderr",
          "text": [
            "190it [02:40,  1.17it/s]"
          ]
        },
        {
          "output_type": "stream",
          "name": "stdout",
          "text": [
            "loss of batch 190: 0.016789430752396584\n"
          ]
        },
        {
          "output_type": "stream",
          "name": "stderr",
          "text": [
            "200it [02:48,  1.17it/s]"
          ]
        },
        {
          "output_type": "stream",
          "name": "stdout",
          "text": [
            "loss of batch 200: 0.013580112718045712\n"
          ]
        },
        {
          "output_type": "stream",
          "name": "stderr",
          "text": [
            "210it [02:57,  1.16it/s]"
          ]
        },
        {
          "output_type": "stream",
          "name": "stdout",
          "text": [
            "loss of batch 210: 0.011051090434193611\n"
          ]
        },
        {
          "output_type": "stream",
          "name": "stderr",
          "text": [
            "220it [03:05,  1.16it/s]"
          ]
        },
        {
          "output_type": "stream",
          "name": "stdout",
          "text": [
            "loss of batch 220: 0.49367284774780273\n"
          ]
        },
        {
          "output_type": "stream",
          "name": "stderr",
          "text": [
            "230it [03:14,  1.16it/s]"
          ]
        },
        {
          "output_type": "stream",
          "name": "stdout",
          "text": [
            "loss of batch 230: 0.4042479693889618\n"
          ]
        },
        {
          "output_type": "stream",
          "name": "stderr",
          "text": [
            "240it [03:23,  1.16it/s]"
          ]
        },
        {
          "output_type": "stream",
          "name": "stdout",
          "text": [
            "loss of batch 240: 0.01656629517674446\n"
          ]
        },
        {
          "output_type": "stream",
          "name": "stderr",
          "text": [
            "250it [03:31,  1.16it/s]"
          ]
        },
        {
          "output_type": "stream",
          "name": "stdout",
          "text": [
            "loss of batch 250: 0.010462497361004353\n"
          ]
        },
        {
          "output_type": "stream",
          "name": "stderr",
          "text": [
            "260it [03:40,  1.16it/s]"
          ]
        },
        {
          "output_type": "stream",
          "name": "stdout",
          "text": [
            "loss of batch 260: 0.011983003467321396\n"
          ]
        },
        {
          "output_type": "stream",
          "name": "stderr",
          "text": [
            "270it [03:49,  1.16it/s]"
          ]
        },
        {
          "output_type": "stream",
          "name": "stdout",
          "text": [
            "loss of batch 270: 0.2949511408805847\n"
          ]
        },
        {
          "output_type": "stream",
          "name": "stderr",
          "text": [
            "280it [03:57,  1.16it/s]"
          ]
        },
        {
          "output_type": "stream",
          "name": "stdout",
          "text": [
            "loss of batch 280: 0.008589454926550388\n"
          ]
        },
        {
          "output_type": "stream",
          "name": "stderr",
          "text": [
            "290it [04:06,  1.16it/s]"
          ]
        },
        {
          "output_type": "stream",
          "name": "stdout",
          "text": [
            "loss of batch 290: 0.7668440341949463\n"
          ]
        },
        {
          "output_type": "stream",
          "name": "stderr",
          "text": [
            "300it [04:15,  1.16it/s]"
          ]
        },
        {
          "output_type": "stream",
          "name": "stdout",
          "text": [
            "loss of batch 300: 0.008004672825336456\n"
          ]
        },
        {
          "output_type": "stream",
          "name": "stderr",
          "text": [
            "310it [04:23,  1.16it/s]"
          ]
        },
        {
          "output_type": "stream",
          "name": "stdout",
          "text": [
            "loss of batch 310: 0.17475850880146027\n"
          ]
        },
        {
          "output_type": "stream",
          "name": "stderr",
          "text": [
            "320it [04:32,  1.16it/s]"
          ]
        },
        {
          "output_type": "stream",
          "name": "stdout",
          "text": [
            "loss of batch 320: 0.6692917346954346\n"
          ]
        },
        {
          "output_type": "stream",
          "name": "stderr",
          "text": [
            "330it [04:40,  1.16it/s]"
          ]
        },
        {
          "output_type": "stream",
          "name": "stdout",
          "text": [
            "loss of batch 330: 0.6988270282745361\n"
          ]
        },
        {
          "output_type": "stream",
          "name": "stderr",
          "text": [
            "340it [04:49,  1.16it/s]"
          ]
        },
        {
          "output_type": "stream",
          "name": "stdout",
          "text": [
            "loss of batch 340: 0.0067880842834711075\n"
          ]
        },
        {
          "output_type": "stream",
          "name": "stderr",
          "text": [
            "350it [04:58,  1.16it/s]"
          ]
        },
        {
          "output_type": "stream",
          "name": "stdout",
          "text": [
            "loss of batch 350: 0.6957125067710876\n"
          ]
        },
        {
          "output_type": "stream",
          "name": "stderr",
          "text": [
            "360it [05:06,  1.16it/s]"
          ]
        },
        {
          "output_type": "stream",
          "name": "stdout",
          "text": [
            "loss of batch 360: 0.4889375567436218\n"
          ]
        },
        {
          "output_type": "stream",
          "name": "stderr",
          "text": [
            "370it [05:15,  1.16it/s]"
          ]
        },
        {
          "output_type": "stream",
          "name": "stdout",
          "text": [
            "loss of batch 370: 0.5052454471588135\n"
          ]
        },
        {
          "output_type": "stream",
          "name": "stderr",
          "text": [
            "380it [05:23,  1.16it/s]"
          ]
        },
        {
          "output_type": "stream",
          "name": "stdout",
          "text": [
            "loss of batch 380: 0.008716573938727379\n"
          ]
        },
        {
          "output_type": "stream",
          "name": "stderr",
          "text": [
            "390it [05:32,  1.16it/s]"
          ]
        },
        {
          "output_type": "stream",
          "name": "stdout",
          "text": [
            "loss of batch 390: 0.06671832501888275\n"
          ]
        },
        {
          "output_type": "stream",
          "name": "stderr",
          "text": [
            "400it [05:41,  1.16it/s]"
          ]
        },
        {
          "output_type": "stream",
          "name": "stdout",
          "text": [
            "loss of batch 400: 0.5602557063102722\n"
          ]
        },
        {
          "output_type": "stream",
          "name": "stderr",
          "text": [
            "410it [05:49,  1.16it/s]"
          ]
        },
        {
          "output_type": "stream",
          "name": "stdout",
          "text": [
            "loss of batch 410: 0.6614838242530823\n"
          ]
        },
        {
          "output_type": "stream",
          "name": "stderr",
          "text": [
            "420it [05:58,  1.16it/s]"
          ]
        },
        {
          "output_type": "stream",
          "name": "stdout",
          "text": [
            "loss of batch 420: 0.006271267309784889\n"
          ]
        },
        {
          "output_type": "stream",
          "name": "stderr",
          "text": [
            "430it [06:07,  1.16it/s]"
          ]
        },
        {
          "output_type": "stream",
          "name": "stdout",
          "text": [
            "loss of batch 430: 0.006380801554769278\n"
          ]
        },
        {
          "output_type": "stream",
          "name": "stderr",
          "text": [
            "440it [06:15,  1.16it/s]"
          ]
        },
        {
          "output_type": "stream",
          "name": "stdout",
          "text": [
            "loss of batch 440: 0.8079179525375366\n"
          ]
        },
        {
          "output_type": "stream",
          "name": "stderr",
          "text": [
            "450it [06:24,  1.16it/s]"
          ]
        },
        {
          "output_type": "stream",
          "name": "stdout",
          "text": [
            "loss of batch 450: 0.010700134560465813\n"
          ]
        },
        {
          "output_type": "stream",
          "name": "stderr",
          "text": [
            "460it [06:32,  1.15it/s]"
          ]
        },
        {
          "output_type": "stream",
          "name": "stdout",
          "text": [
            "loss of batch 460: 0.014146183617413044\n"
          ]
        },
        {
          "output_type": "stream",
          "name": "stderr",
          "text": [
            "470it [06:41,  1.16it/s]"
          ]
        },
        {
          "output_type": "stream",
          "name": "stdout",
          "text": [
            "loss of batch 470: 0.011057602241635323\n"
          ]
        },
        {
          "output_type": "stream",
          "name": "stderr",
          "text": [
            "480it [06:50,  1.16it/s]"
          ]
        },
        {
          "output_type": "stream",
          "name": "stdout",
          "text": [
            "loss of batch 480: 0.1927390992641449\n"
          ]
        },
        {
          "output_type": "stream",
          "name": "stderr",
          "text": [
            "490it [06:58,  1.16it/s]"
          ]
        },
        {
          "output_type": "stream",
          "name": "stdout",
          "text": [
            "loss of batch 490: 0.6526511907577515\n"
          ]
        },
        {
          "output_type": "stream",
          "name": "stderr",
          "text": [
            "500it [07:07,  1.16it/s]"
          ]
        },
        {
          "output_type": "stream",
          "name": "stdout",
          "text": [
            "loss of batch 500: 0.008927530609071255\n"
          ]
        },
        {
          "output_type": "stream",
          "name": "stderr",
          "text": [
            "510it [07:16,  1.16it/s]"
          ]
        },
        {
          "output_type": "stream",
          "name": "stdout",
          "text": [
            "loss of batch 510: 0.5976487398147583\n"
          ]
        },
        {
          "output_type": "stream",
          "name": "stderr",
          "text": [
            "520it [07:24,  1.16it/s]"
          ]
        },
        {
          "output_type": "stream",
          "name": "stdout",
          "text": [
            "loss of batch 520: 0.008103030733764172\n"
          ]
        },
        {
          "output_type": "stream",
          "name": "stderr",
          "text": [
            "530it [07:33,  1.16it/s]"
          ]
        },
        {
          "output_type": "stream",
          "name": "stdout",
          "text": [
            "loss of batch 530: 0.008510664105415344\n"
          ]
        },
        {
          "output_type": "stream",
          "name": "stderr",
          "text": [
            "540it [07:42,  1.16it/s]"
          ]
        },
        {
          "output_type": "stream",
          "name": "stdout",
          "text": [
            "loss of batch 540: 0.36077752709388733\n"
          ]
        },
        {
          "output_type": "stream",
          "name": "stderr",
          "text": [
            "550it [07:50,  1.16it/s]"
          ]
        },
        {
          "output_type": "stream",
          "name": "stdout",
          "text": [
            "loss of batch 550: 0.4087465703487396\n"
          ]
        },
        {
          "output_type": "stream",
          "name": "stderr",
          "text": [
            "560it [07:59,  1.16it/s]"
          ]
        },
        {
          "output_type": "stream",
          "name": "stdout",
          "text": [
            "loss of batch 560: 0.010098698548972607\n"
          ]
        },
        {
          "output_type": "stream",
          "name": "stderr",
          "text": [
            "570it [08:07,  1.16it/s]"
          ]
        },
        {
          "output_type": "stream",
          "name": "stdout",
          "text": [
            "loss of batch 570: 0.18954648077487946\n"
          ]
        },
        {
          "output_type": "stream",
          "name": "stderr",
          "text": [
            "580it [08:16,  1.16it/s]"
          ]
        },
        {
          "output_type": "stream",
          "name": "stdout",
          "text": [
            "loss of batch 580: 0.18247850239276886\n"
          ]
        },
        {
          "output_type": "stream",
          "name": "stderr",
          "text": [
            "590it [08:25,  1.16it/s]"
          ]
        },
        {
          "output_type": "stream",
          "name": "stdout",
          "text": [
            "loss of batch 590: 0.023476136848330498\n"
          ]
        },
        {
          "output_type": "stream",
          "name": "stderr",
          "text": [
            "600it [08:33,  1.16it/s]"
          ]
        },
        {
          "output_type": "stream",
          "name": "stdout",
          "text": [
            "loss of batch 600: 0.015573627315461636\n"
          ]
        },
        {
          "output_type": "stream",
          "name": "stderr",
          "text": [
            "610it [08:42,  1.16it/s]"
          ]
        },
        {
          "output_type": "stream",
          "name": "stdout",
          "text": [
            "loss of batch 610: 0.42699292302131653\n"
          ]
        },
        {
          "output_type": "stream",
          "name": "stderr",
          "text": [
            "620it [08:51,  1.16it/s]"
          ]
        },
        {
          "output_type": "stream",
          "name": "stdout",
          "text": [
            "loss of batch 620: 0.6275047659873962\n"
          ]
        },
        {
          "output_type": "stream",
          "name": "stderr",
          "text": [
            "630it [08:59,  1.16it/s]"
          ]
        },
        {
          "output_type": "stream",
          "name": "stdout",
          "text": [
            "loss of batch 630: 0.6178527474403381\n"
          ]
        },
        {
          "output_type": "stream",
          "name": "stderr",
          "text": [
            "640it [09:08,  1.16it/s]"
          ]
        },
        {
          "output_type": "stream",
          "name": "stdout",
          "text": [
            "loss of batch 640: 0.013912061229348183\n"
          ]
        },
        {
          "output_type": "stream",
          "name": "stderr",
          "text": [
            "650it [09:17,  1.16it/s]"
          ]
        },
        {
          "output_type": "stream",
          "name": "stdout",
          "text": [
            "loss of batch 650: 0.010033180005848408\n"
          ]
        },
        {
          "output_type": "stream",
          "name": "stderr",
          "text": [
            "660it [09:25,  1.16it/s]"
          ]
        },
        {
          "output_type": "stream",
          "name": "stdout",
          "text": [
            "loss of batch 660: 0.0072227050550282\n"
          ]
        },
        {
          "output_type": "stream",
          "name": "stderr",
          "text": [
            "670it [09:34,  1.16it/s]"
          ]
        },
        {
          "output_type": "stream",
          "name": "stdout",
          "text": [
            "loss of batch 670: 0.029424572363495827\n"
          ]
        },
        {
          "output_type": "stream",
          "name": "stderr",
          "text": [
            "680it [09:42,  1.16it/s]"
          ]
        },
        {
          "output_type": "stream",
          "name": "stdout",
          "text": [
            "loss of batch 680: 0.5509217977523804\n"
          ]
        },
        {
          "output_type": "stream",
          "name": "stderr",
          "text": [
            "690it [09:51,  1.16it/s]"
          ]
        },
        {
          "output_type": "stream",
          "name": "stdout",
          "text": [
            "loss of batch 690: 0.6798191070556641\n"
          ]
        },
        {
          "output_type": "stream",
          "name": "stderr",
          "text": [
            "700it [10:00,  1.16it/s]"
          ]
        },
        {
          "output_type": "stream",
          "name": "stdout",
          "text": [
            "loss of batch 700: 0.054367419332265854\n"
          ]
        },
        {
          "output_type": "stream",
          "name": "stderr",
          "text": [
            "710it [10:08,  1.16it/s]"
          ]
        },
        {
          "output_type": "stream",
          "name": "stdout",
          "text": [
            "loss of batch 710: 0.5083645582199097\n"
          ]
        },
        {
          "output_type": "stream",
          "name": "stderr",
          "text": [
            "720it [10:17,  1.16it/s]"
          ]
        },
        {
          "output_type": "stream",
          "name": "stdout",
          "text": [
            "loss of batch 720: 0.010241858661174774\n"
          ]
        },
        {
          "output_type": "stream",
          "name": "stderr",
          "text": [
            "730it [10:26,  1.16it/s]"
          ]
        },
        {
          "output_type": "stream",
          "name": "stdout",
          "text": [
            "loss of batch 730: 0.015354582108557224\n"
          ]
        },
        {
          "output_type": "stream",
          "name": "stderr",
          "text": [
            "740it [10:34,  1.16it/s]"
          ]
        },
        {
          "output_type": "stream",
          "name": "stdout",
          "text": [
            "loss of batch 740: 1.2176153659820557\n"
          ]
        },
        {
          "output_type": "stream",
          "name": "stderr",
          "text": [
            "750it [10:43,  1.16it/s]"
          ]
        },
        {
          "output_type": "stream",
          "name": "stdout",
          "text": [
            "loss of batch 750: 0.6403562426567078\n"
          ]
        },
        {
          "output_type": "stream",
          "name": "stderr",
          "text": [
            "760it [10:52,  1.16it/s]"
          ]
        },
        {
          "output_type": "stream",
          "name": "stdout",
          "text": [
            "loss of batch 760: 0.035521626472473145\n"
          ]
        },
        {
          "output_type": "stream",
          "name": "stderr",
          "text": [
            "770it [11:00,  1.16it/s]"
          ]
        },
        {
          "output_type": "stream",
          "name": "stdout",
          "text": [
            "loss of batch 770: 1.1035304069519043\n"
          ]
        },
        {
          "output_type": "stream",
          "name": "stderr",
          "text": [
            "780it [11:09,  1.16it/s]"
          ]
        },
        {
          "output_type": "stream",
          "name": "stdout",
          "text": [
            "loss of batch 780: 0.010425846092402935\n"
          ]
        },
        {
          "output_type": "stream",
          "name": "stderr",
          "text": [
            "790it [11:17,  1.16it/s]"
          ]
        },
        {
          "output_type": "stream",
          "name": "stdout",
          "text": [
            "loss of batch 790: 0.010260258801281452\n"
          ]
        },
        {
          "output_type": "stream",
          "name": "stderr",
          "text": [
            "800it [11:26,  1.16it/s]"
          ]
        },
        {
          "output_type": "stream",
          "name": "stdout",
          "text": [
            "loss of batch 800: 0.00653835479170084\n"
          ]
        },
        {
          "output_type": "stream",
          "name": "stderr",
          "text": [
            "810it [11:35,  1.16it/s]"
          ]
        },
        {
          "output_type": "stream",
          "name": "stdout",
          "text": [
            "loss of batch 810: 1.3280181884765625\n"
          ]
        },
        {
          "output_type": "stream",
          "name": "stderr",
          "text": [
            "820it [11:43,  1.16it/s]"
          ]
        },
        {
          "output_type": "stream",
          "name": "stdout",
          "text": [
            "loss of batch 820: 0.6283406615257263\n"
          ]
        },
        {
          "output_type": "stream",
          "name": "stderr",
          "text": [
            "830it [11:52,  1.16it/s]"
          ]
        },
        {
          "output_type": "stream",
          "name": "stdout",
          "text": [
            "loss of batch 830: 0.006701062433421612\n"
          ]
        },
        {
          "output_type": "stream",
          "name": "stderr",
          "text": [
            "840it [12:01,  1.16it/s]"
          ]
        },
        {
          "output_type": "stream",
          "name": "stdout",
          "text": [
            "loss of batch 840: 0.028491297736763954\n"
          ]
        },
        {
          "output_type": "stream",
          "name": "stderr",
          "text": [
            "850it [12:09,  1.16it/s]"
          ]
        },
        {
          "output_type": "stream",
          "name": "stdout",
          "text": [
            "loss of batch 850: 0.006604762282222509\n"
          ]
        },
        {
          "output_type": "stream",
          "name": "stderr",
          "text": [
            "860it [12:18,  1.16it/s]"
          ]
        },
        {
          "output_type": "stream",
          "name": "stdout",
          "text": [
            "loss of batch 860: 0.5674833655357361\n"
          ]
        },
        {
          "output_type": "stream",
          "name": "stderr",
          "text": [
            "870it [12:27,  1.16it/s]"
          ]
        },
        {
          "output_type": "stream",
          "name": "stdout",
          "text": [
            "loss of batch 870: 1.1074068546295166\n"
          ]
        },
        {
          "output_type": "stream",
          "name": "stderr",
          "text": [
            "880it [12:35,  1.16it/s]"
          ]
        },
        {
          "output_type": "stream",
          "name": "stdout",
          "text": [
            "loss of batch 880: 0.01294430997222662\n"
          ]
        },
        {
          "output_type": "stream",
          "name": "stderr",
          "text": [
            "890it [12:44,  1.16it/s]"
          ]
        },
        {
          "output_type": "stream",
          "name": "stdout",
          "text": [
            "loss of batch 890: 0.00454467860981822\n"
          ]
        },
        {
          "output_type": "stream",
          "name": "stderr",
          "text": [
            "900it [12:52,  1.16it/s]"
          ]
        },
        {
          "output_type": "stream",
          "name": "stdout",
          "text": [
            "loss of batch 900: 0.3871817886829376\n"
          ]
        },
        {
          "output_type": "stream",
          "name": "stderr",
          "text": [
            "910it [13:01,  1.16it/s]"
          ]
        },
        {
          "output_type": "stream",
          "name": "stdout",
          "text": [
            "loss of batch 910: 0.005112805869430304\n"
          ]
        },
        {
          "output_type": "stream",
          "name": "stderr",
          "text": [
            "920it [13:10,  1.16it/s]"
          ]
        },
        {
          "output_type": "stream",
          "name": "stdout",
          "text": [
            "loss of batch 920: 1.423309326171875\n"
          ]
        },
        {
          "output_type": "stream",
          "name": "stderr",
          "text": [
            "930it [13:18,  1.16it/s]"
          ]
        },
        {
          "output_type": "stream",
          "name": "stdout",
          "text": [
            "loss of batch 930: 0.6417949795722961\n"
          ]
        },
        {
          "output_type": "stream",
          "name": "stderr",
          "text": [
            "940it [13:27,  1.16it/s]"
          ]
        },
        {
          "output_type": "stream",
          "name": "stdout",
          "text": [
            "loss of batch 940: 0.00897848978638649\n"
          ]
        },
        {
          "output_type": "stream",
          "name": "stderr",
          "text": [
            "950it [13:36,  1.16it/s]"
          ]
        },
        {
          "output_type": "stream",
          "name": "stdout",
          "text": [
            "loss of batch 950: 0.009401449002325535\n"
          ]
        },
        {
          "output_type": "stream",
          "name": "stderr",
          "text": [
            "960it [13:44,  1.16it/s]"
          ]
        },
        {
          "output_type": "stream",
          "name": "stdout",
          "text": [
            "loss of batch 960: 0.008466074243187904\n"
          ]
        },
        {
          "output_type": "stream",
          "name": "stderr",
          "text": [
            "970it [13:53,  1.16it/s]"
          ]
        },
        {
          "output_type": "stream",
          "name": "stdout",
          "text": [
            "loss of batch 970: 0.006702491082251072\n"
          ]
        },
        {
          "output_type": "stream",
          "name": "stderr",
          "text": [
            "980it [14:01,  1.16it/s]"
          ]
        },
        {
          "output_type": "stream",
          "name": "stdout",
          "text": [
            "loss of batch 980: 0.006461219396442175\n"
          ]
        },
        {
          "output_type": "stream",
          "name": "stderr",
          "text": [
            "990it [14:10,  1.16it/s]"
          ]
        },
        {
          "output_type": "stream",
          "name": "stdout",
          "text": [
            "loss of batch 990: 0.6718172430992126\n"
          ]
        },
        {
          "output_type": "stream",
          "name": "stderr",
          "text": [
            "1000it [14:19,  1.16it/s]"
          ]
        },
        {
          "output_type": "stream",
          "name": "stdout",
          "text": [
            "loss of batch 1000: 0.004954766482114792\n"
          ]
        },
        {
          "output_type": "stream",
          "name": "stderr",
          "text": [
            "1010it [14:27,  1.16it/s]"
          ]
        },
        {
          "output_type": "stream",
          "name": "stdout",
          "text": [
            "loss of batch 1010: 0.007838216610252857\n"
          ]
        },
        {
          "output_type": "stream",
          "name": "stderr",
          "text": [
            "1020it [14:36,  1.16it/s]"
          ]
        },
        {
          "output_type": "stream",
          "name": "stdout",
          "text": [
            "loss of batch 1020: 0.005164270754903555\n"
          ]
        },
        {
          "output_type": "stream",
          "name": "stderr",
          "text": [
            "1030it [14:45,  1.16it/s]"
          ]
        },
        {
          "output_type": "stream",
          "name": "stdout",
          "text": [
            "loss of batch 1030: 0.005065003409981728\n"
          ]
        },
        {
          "output_type": "stream",
          "name": "stderr",
          "text": [
            "1040it [14:53,  1.16it/s]"
          ]
        },
        {
          "output_type": "stream",
          "name": "stdout",
          "text": [
            "loss of batch 1040: 1.079811692237854\n"
          ]
        },
        {
          "output_type": "stream",
          "name": "stderr",
          "text": [
            "1050it [15:02,  1.16it/s]"
          ]
        },
        {
          "output_type": "stream",
          "name": "stdout",
          "text": [
            "loss of batch 1050: 0.7484630346298218\n"
          ]
        },
        {
          "output_type": "stream",
          "name": "stderr",
          "text": [
            "1060it [15:11,  1.16it/s]"
          ]
        },
        {
          "output_type": "stream",
          "name": "stdout",
          "text": [
            "loss of batch 1060: 1.1576180458068848\n"
          ]
        },
        {
          "output_type": "stream",
          "name": "stderr",
          "text": [
            "1070it [15:19,  1.16it/s]"
          ]
        },
        {
          "output_type": "stream",
          "name": "stdout",
          "text": [
            "loss of batch 1070: 0.5288336873054504\n"
          ]
        },
        {
          "output_type": "stream",
          "name": "stderr",
          "text": [
            "1080it [15:28,  1.16it/s]"
          ]
        },
        {
          "output_type": "stream",
          "name": "stdout",
          "text": [
            "loss of batch 1080: 0.014678020030260086\n"
          ]
        },
        {
          "output_type": "stream",
          "name": "stderr",
          "text": [
            "1090it [15:37,  1.16it/s]"
          ]
        },
        {
          "output_type": "stream",
          "name": "stdout",
          "text": [
            "loss of batch 1090: 0.009334932081401348\n"
          ]
        },
        {
          "output_type": "stream",
          "name": "stderr",
          "text": [
            "1100it [15:45,  1.16it/s]"
          ]
        },
        {
          "output_type": "stream",
          "name": "stdout",
          "text": [
            "loss of batch 1100: 0.3589947521686554\n"
          ]
        },
        {
          "output_type": "stream",
          "name": "stderr",
          "text": [
            "1110it [15:54,  1.16it/s]"
          ]
        },
        {
          "output_type": "stream",
          "name": "stdout",
          "text": [
            "loss of batch 1110: 0.00552504975348711\n"
          ]
        },
        {
          "output_type": "stream",
          "name": "stderr",
          "text": [
            "1120it [16:02,  1.16it/s]"
          ]
        },
        {
          "output_type": "stream",
          "name": "stdout",
          "text": [
            "loss of batch 1120: 0.6731650233268738\n"
          ]
        },
        {
          "output_type": "stream",
          "name": "stderr",
          "text": [
            "1130it [16:11,  1.16it/s]"
          ]
        },
        {
          "output_type": "stream",
          "name": "stdout",
          "text": [
            "loss of batch 1130: 0.6540923118591309\n"
          ]
        },
        {
          "output_type": "stream",
          "name": "stderr",
          "text": [
            "1140it [16:20,  1.16it/s]"
          ]
        },
        {
          "output_type": "stream",
          "name": "stdout",
          "text": [
            "loss of batch 1140: 0.007711469661444426\n"
          ]
        },
        {
          "output_type": "stream",
          "name": "stderr",
          "text": [
            "1150it [16:28,  1.16it/s]"
          ]
        },
        {
          "output_type": "stream",
          "name": "stdout",
          "text": [
            "loss of batch 1150: 0.006315418519079685\n"
          ]
        },
        {
          "output_type": "stream",
          "name": "stderr",
          "text": [
            "1160it [16:37,  1.16it/s]"
          ]
        },
        {
          "output_type": "stream",
          "name": "stdout",
          "text": [
            "loss of batch 1160: 0.005934634245932102\n"
          ]
        },
        {
          "output_type": "stream",
          "name": "stderr",
          "text": [
            "1170it [16:46,  1.16it/s]"
          ]
        },
        {
          "output_type": "stream",
          "name": "stdout",
          "text": [
            "loss of batch 1170: 0.645540177822113\n"
          ]
        },
        {
          "output_type": "stream",
          "name": "stderr",
          "text": [
            "1180it [16:54,  1.16it/s]"
          ]
        },
        {
          "output_type": "stream",
          "name": "stdout",
          "text": [
            "loss of batch 1180: 0.007662792690098286\n"
          ]
        },
        {
          "output_type": "stream",
          "name": "stderr",
          "text": [
            "1190it [17:03,  1.16it/s]"
          ]
        },
        {
          "output_type": "stream",
          "name": "stdout",
          "text": [
            "loss of batch 1190: 0.6791618466377258\n"
          ]
        },
        {
          "output_type": "stream",
          "name": "stderr",
          "text": [
            "1200it [17:12,  1.16it/s]"
          ]
        },
        {
          "output_type": "stream",
          "name": "stdout",
          "text": [
            "loss of batch 1200: 0.010681192390620708\n"
          ]
        },
        {
          "output_type": "stream",
          "name": "stderr",
          "text": [
            "1210it [17:20,  1.16it/s]"
          ]
        },
        {
          "output_type": "stream",
          "name": "stdout",
          "text": [
            "loss of batch 1210: 0.5174713134765625\n"
          ]
        },
        {
          "output_type": "stream",
          "name": "stderr",
          "text": [
            "1220it [17:29,  1.16it/s]"
          ]
        },
        {
          "output_type": "stream",
          "name": "stdout",
          "text": [
            "loss of batch 1220: 0.16367371380329132\n"
          ]
        },
        {
          "output_type": "stream",
          "name": "stderr",
          "text": [
            "1230it [17:37,  1.16it/s]"
          ]
        },
        {
          "output_type": "stream",
          "name": "stdout",
          "text": [
            "loss of batch 1230: 0.6396217942237854\n"
          ]
        },
        {
          "output_type": "stream",
          "name": "stderr",
          "text": [
            "1240it [17:46,  1.16it/s]"
          ]
        },
        {
          "output_type": "stream",
          "name": "stdout",
          "text": [
            "loss of batch 1240: 0.5877729654312134\n"
          ]
        },
        {
          "output_type": "stream",
          "name": "stderr",
          "text": [
            "1250it [17:55,  1.16it/s]"
          ]
        },
        {
          "output_type": "stream",
          "name": "stdout",
          "text": [
            "loss of batch 1250: 0.4775272607803345\n"
          ]
        },
        {
          "output_type": "stream",
          "name": "stderr",
          "text": [
            "1260it [18:03,  1.16it/s]"
          ]
        },
        {
          "output_type": "stream",
          "name": "stdout",
          "text": [
            "loss of batch 1260: 0.6867132186889648\n"
          ]
        },
        {
          "output_type": "stream",
          "name": "stderr",
          "text": [
            "1270it [18:12,  1.16it/s]"
          ]
        },
        {
          "output_type": "stream",
          "name": "stdout",
          "text": [
            "loss of batch 1270: 0.006995630916208029\n"
          ]
        },
        {
          "output_type": "stream",
          "name": "stderr",
          "text": [
            "1280it [18:21,  1.16it/s]"
          ]
        },
        {
          "output_type": "stream",
          "name": "stdout",
          "text": [
            "loss of batch 1280: 0.651651918888092\n"
          ]
        },
        {
          "output_type": "stream",
          "name": "stderr",
          "text": [
            "1290it [18:29,  1.16it/s]"
          ]
        },
        {
          "output_type": "stream",
          "name": "stdout",
          "text": [
            "loss of batch 1290: 0.018192272633314133\n"
          ]
        },
        {
          "output_type": "stream",
          "name": "stderr",
          "text": [
            "1300it [18:38,  1.16it/s]"
          ]
        },
        {
          "output_type": "stream",
          "name": "stdout",
          "text": [
            "loss of batch 1300: 0.6395379900932312\n"
          ]
        },
        {
          "output_type": "stream",
          "name": "stderr",
          "text": [
            "1310it [18:47,  1.16it/s]"
          ]
        },
        {
          "output_type": "stream",
          "name": "stdout",
          "text": [
            "loss of batch 1310: 0.4675275981426239\n"
          ]
        },
        {
          "output_type": "stream",
          "name": "stderr",
          "text": [
            "1320it [18:55,  1.16it/s]"
          ]
        },
        {
          "output_type": "stream",
          "name": "stdout",
          "text": [
            "loss of batch 1320: 0.009162086062133312\n"
          ]
        },
        {
          "output_type": "stream",
          "name": "stderr",
          "text": [
            "1330it [19:04,  1.16it/s]"
          ]
        },
        {
          "output_type": "stream",
          "name": "stdout",
          "text": [
            "loss of batch 1330: 0.06797939538955688\n"
          ]
        },
        {
          "output_type": "stream",
          "name": "stderr",
          "text": [
            "1340it [19:12,  1.16it/s]"
          ]
        },
        {
          "output_type": "stream",
          "name": "stdout",
          "text": [
            "loss of batch 1340: 0.007868286222219467\n"
          ]
        },
        {
          "output_type": "stream",
          "name": "stderr",
          "text": [
            "1350it [19:21,  1.16it/s]"
          ]
        },
        {
          "output_type": "stream",
          "name": "stdout",
          "text": [
            "loss of batch 1350: 0.009867738001048565\n"
          ]
        },
        {
          "output_type": "stream",
          "name": "stderr",
          "text": [
            "1360it [19:30,  1.16it/s]"
          ]
        },
        {
          "output_type": "stream",
          "name": "stdout",
          "text": [
            "loss of batch 1360: 0.6882333755493164\n"
          ]
        },
        {
          "output_type": "stream",
          "name": "stderr",
          "text": [
            "1370it [19:38,  1.16it/s]"
          ]
        },
        {
          "output_type": "stream",
          "name": "stdout",
          "text": [
            "loss of batch 1370: 0.03543480485677719\n"
          ]
        },
        {
          "output_type": "stream",
          "name": "stderr",
          "text": [
            "1380it [19:47,  1.16it/s]"
          ]
        },
        {
          "output_type": "stream",
          "name": "stdout",
          "text": [
            "loss of batch 1380: 0.6329572200775146\n"
          ]
        },
        {
          "output_type": "stream",
          "name": "stderr",
          "text": [
            "1390it [19:56,  1.16it/s]"
          ]
        },
        {
          "output_type": "stream",
          "name": "stdout",
          "text": [
            "loss of batch 1390: 0.0075223916210234165\n"
          ]
        },
        {
          "output_type": "stream",
          "name": "stderr",
          "text": [
            "1400it [20:04,  1.16it/s]"
          ]
        },
        {
          "output_type": "stream",
          "name": "stdout",
          "text": [
            "loss of batch 1400: 0.6518908739089966\n"
          ]
        },
        {
          "output_type": "stream",
          "name": "stderr",
          "text": [
            "1410it [20:13,  1.16it/s]"
          ]
        },
        {
          "output_type": "stream",
          "name": "stdout",
          "text": [
            "loss of batch 1410: 0.6170777082443237\n"
          ]
        },
        {
          "output_type": "stream",
          "name": "stderr",
          "text": [
            "1420it [20:21,  1.16it/s]"
          ]
        },
        {
          "output_type": "stream",
          "name": "stdout",
          "text": [
            "loss of batch 1420: 0.006389935966581106\n"
          ]
        },
        {
          "output_type": "stream",
          "name": "stderr",
          "text": [
            "1430it [20:30,  1.15it/s]"
          ]
        },
        {
          "output_type": "stream",
          "name": "stdout",
          "text": [
            "loss of batch 1430: 0.007678413763642311\n"
          ]
        },
        {
          "output_type": "stream",
          "name": "stderr",
          "text": [
            "1440it [20:39,  1.15it/s]"
          ]
        },
        {
          "output_type": "stream",
          "name": "stdout",
          "text": [
            "loss of batch 1440: 0.0074581578373909\n"
          ]
        },
        {
          "output_type": "stream",
          "name": "stderr",
          "text": [
            "1450it [20:47,  1.16it/s]"
          ]
        },
        {
          "output_type": "stream",
          "name": "stdout",
          "text": [
            "loss of batch 1450: 0.025073295459151268\n"
          ]
        },
        {
          "output_type": "stream",
          "name": "stderr",
          "text": [
            "1460it [20:56,  1.16it/s]"
          ]
        },
        {
          "output_type": "stream",
          "name": "stdout",
          "text": [
            "loss of batch 1460: 0.0062538934871554375\n"
          ]
        },
        {
          "output_type": "stream",
          "name": "stderr",
          "text": [
            "1470it [21:05,  1.16it/s]"
          ]
        },
        {
          "output_type": "stream",
          "name": "stdout",
          "text": [
            "loss of batch 1470: 0.6273632645606995\n"
          ]
        },
        {
          "output_type": "stream",
          "name": "stderr",
          "text": [
            "1480it [21:13,  1.16it/s]"
          ]
        },
        {
          "output_type": "stream",
          "name": "stdout",
          "text": [
            "loss of batch 1480: 0.8969871401786804\n"
          ]
        },
        {
          "output_type": "stream",
          "name": "stderr",
          "text": [
            "1490it [21:22,  1.16it/s]"
          ]
        },
        {
          "output_type": "stream",
          "name": "stdout",
          "text": [
            "loss of batch 1490: 0.43166178464889526\n"
          ]
        },
        {
          "output_type": "stream",
          "name": "stderr",
          "text": [
            "1500it [21:31,  1.16it/s]"
          ]
        },
        {
          "output_type": "stream",
          "name": "stdout",
          "text": [
            "loss of batch 1500: 0.00594188692048192\n"
          ]
        },
        {
          "output_type": "stream",
          "name": "stderr",
          "text": [
            "1510it [21:39,  1.16it/s]"
          ]
        },
        {
          "output_type": "stream",
          "name": "stdout",
          "text": [
            "loss of batch 1510: 0.006570675875991583\n"
          ]
        },
        {
          "output_type": "stream",
          "name": "stderr",
          "text": [
            "1520it [21:48,  1.16it/s]"
          ]
        },
        {
          "output_type": "stream",
          "name": "stdout",
          "text": [
            "loss of batch 1520: 0.03892485424876213\n"
          ]
        },
        {
          "output_type": "stream",
          "name": "stderr",
          "text": [
            "1530it [21:56,  1.16it/s]"
          ]
        },
        {
          "output_type": "stream",
          "name": "stdout",
          "text": [
            "loss of batch 1530: 0.6940180659294128\n"
          ]
        },
        {
          "output_type": "stream",
          "name": "stderr",
          "text": [
            "1540it [22:05,  1.16it/s]"
          ]
        },
        {
          "output_type": "stream",
          "name": "stdout",
          "text": [
            "loss of batch 1540: 1.1672492027282715\n"
          ]
        },
        {
          "output_type": "stream",
          "name": "stderr",
          "text": [
            "1550it [22:14,  1.16it/s]"
          ]
        },
        {
          "output_type": "stream",
          "name": "stdout",
          "text": [
            "loss of batch 1550: 0.07302097231149673\n"
          ]
        },
        {
          "output_type": "stream",
          "name": "stderr",
          "text": [
            "1560it [22:22,  1.16it/s]"
          ]
        },
        {
          "output_type": "stream",
          "name": "stdout",
          "text": [
            "loss of batch 1560: 0.5105922818183899\n"
          ]
        },
        {
          "output_type": "stream",
          "name": "stderr",
          "text": [
            "1570it [22:31,  1.16it/s]"
          ]
        },
        {
          "output_type": "stream",
          "name": "stdout",
          "text": [
            "loss of batch 1570: 0.8660251498222351\n"
          ]
        },
        {
          "output_type": "stream",
          "name": "stderr",
          "text": [
            "1580it [22:40,  1.16it/s]"
          ]
        },
        {
          "output_type": "stream",
          "name": "stdout",
          "text": [
            "loss of batch 1580: 0.6037883162498474\n"
          ]
        },
        {
          "output_type": "stream",
          "name": "stderr",
          "text": [
            "1590it [22:48,  1.15it/s]"
          ]
        },
        {
          "output_type": "stream",
          "name": "stdout",
          "text": [
            "loss of batch 1590: 0.02836618199944496\n"
          ]
        },
        {
          "output_type": "stream",
          "name": "stderr",
          "text": [
            "1600it [22:57,  1.16it/s]"
          ]
        },
        {
          "output_type": "stream",
          "name": "stdout",
          "text": [
            "loss of batch 1600: 0.2892182171344757\n"
          ]
        },
        {
          "output_type": "stream",
          "name": "stderr",
          "text": [
            "1610it [23:06,  1.16it/s]"
          ]
        },
        {
          "output_type": "stream",
          "name": "stdout",
          "text": [
            "loss of batch 1610: 0.4744270443916321\n"
          ]
        },
        {
          "output_type": "stream",
          "name": "stderr",
          "text": [
            "1620it [23:14,  1.16it/s]"
          ]
        },
        {
          "output_type": "stream",
          "name": "stdout",
          "text": [
            "loss of batch 1620: 0.020351074635982513\n"
          ]
        },
        {
          "output_type": "stream",
          "name": "stderr",
          "text": [
            "1630it [23:23,  1.16it/s]"
          ]
        },
        {
          "output_type": "stream",
          "name": "stdout",
          "text": [
            "loss of batch 1630: 0.19885484874248505\n"
          ]
        },
        {
          "output_type": "stream",
          "name": "stderr",
          "text": [
            "1640it [23:32,  1.16it/s]"
          ]
        },
        {
          "output_type": "stream",
          "name": "stdout",
          "text": [
            "loss of batch 1640: 0.005828820168972015\n"
          ]
        },
        {
          "output_type": "stream",
          "name": "stderr",
          "text": [
            "1650it [23:40,  1.16it/s]"
          ]
        },
        {
          "output_type": "stream",
          "name": "stdout",
          "text": [
            "loss of batch 1650: 1.1679253578186035\n"
          ]
        },
        {
          "output_type": "stream",
          "name": "stderr",
          "text": [
            "1660it [23:49,  1.16it/s]"
          ]
        },
        {
          "output_type": "stream",
          "name": "stdout",
          "text": [
            "loss of batch 1660: 0.008887520991265774\n"
          ]
        },
        {
          "output_type": "stream",
          "name": "stderr",
          "text": [
            "1670it [23:57,  1.15it/s]"
          ]
        },
        {
          "output_type": "stream",
          "name": "stdout",
          "text": [
            "loss of batch 1670: 0.36289703845977783\n"
          ]
        },
        {
          "output_type": "stream",
          "name": "stderr",
          "text": [
            "1680it [24:06,  1.16it/s]"
          ]
        },
        {
          "output_type": "stream",
          "name": "stdout",
          "text": [
            "loss of batch 1680: 0.004779806826263666\n"
          ]
        },
        {
          "output_type": "stream",
          "name": "stderr",
          "text": [
            "1690it [24:15,  1.16it/s]"
          ]
        },
        {
          "output_type": "stream",
          "name": "stdout",
          "text": [
            "loss of batch 1690: 0.006126538384705782\n"
          ]
        },
        {
          "output_type": "stream",
          "name": "stderr",
          "text": [
            "1700it [24:23,  1.16it/s]"
          ]
        },
        {
          "output_type": "stream",
          "name": "stdout",
          "text": [
            "loss of batch 1700: 0.7072232365608215\n"
          ]
        },
        {
          "output_type": "stream",
          "name": "stderr",
          "text": [
            "1710it [24:32,  1.16it/s]"
          ]
        },
        {
          "output_type": "stream",
          "name": "stdout",
          "text": [
            "loss of batch 1710: 0.6268442869186401\n"
          ]
        },
        {
          "output_type": "stream",
          "name": "stderr",
          "text": [
            "1720it [24:41,  1.16it/s]"
          ]
        },
        {
          "output_type": "stream",
          "name": "stdout",
          "text": [
            "loss of batch 1720: 0.006220905110239983\n"
          ]
        },
        {
          "output_type": "stream",
          "name": "stderr",
          "text": [
            "1730it [24:49,  1.16it/s]"
          ]
        },
        {
          "output_type": "stream",
          "name": "stdout",
          "text": [
            "loss of batch 1730: 0.02000374160706997\n"
          ]
        },
        {
          "output_type": "stream",
          "name": "stderr",
          "text": [
            "1740it [24:58,  1.16it/s]"
          ]
        },
        {
          "output_type": "stream",
          "name": "stdout",
          "text": [
            "loss of batch 1740: 0.015214704908430576\n"
          ]
        },
        {
          "output_type": "stream",
          "name": "stderr",
          "text": [
            "1750it [25:07,  1.16it/s]"
          ]
        },
        {
          "output_type": "stream",
          "name": "stdout",
          "text": [
            "loss of batch 1750: 0.5831155180931091\n"
          ]
        },
        {
          "output_type": "stream",
          "name": "stderr",
          "text": [
            "1760it [25:15,  1.16it/s]"
          ]
        },
        {
          "output_type": "stream",
          "name": "stdout",
          "text": [
            "loss of batch 1760: 1.0661791563034058\n"
          ]
        },
        {
          "output_type": "stream",
          "name": "stderr",
          "text": [
            "1770it [25:24,  1.16it/s]"
          ]
        },
        {
          "output_type": "stream",
          "name": "stdout",
          "text": [
            "loss of batch 1770: 0.02648637816309929\n"
          ]
        },
        {
          "output_type": "stream",
          "name": "stderr",
          "text": [
            "1780it [25:32,  1.16it/s]"
          ]
        },
        {
          "output_type": "stream",
          "name": "stdout",
          "text": [
            "loss of batch 1780: 0.8365424871444702\n"
          ]
        },
        {
          "output_type": "stream",
          "name": "stderr",
          "text": [
            "1790it [25:41,  1.16it/s]"
          ]
        },
        {
          "output_type": "stream",
          "name": "stdout",
          "text": [
            "loss of batch 1790: 0.8531662821769714\n"
          ]
        },
        {
          "output_type": "stream",
          "name": "stderr",
          "text": [
            "1800it [25:50,  1.16it/s]"
          ]
        },
        {
          "output_type": "stream",
          "name": "stdout",
          "text": [
            "loss of batch 1800: 0.009978515096008778\n"
          ]
        },
        {
          "output_type": "stream",
          "name": "stderr",
          "text": [
            "1810it [25:58,  1.16it/s]"
          ]
        },
        {
          "output_type": "stream",
          "name": "stdout",
          "text": [
            "loss of batch 1810: 0.005735229700803757\n"
          ]
        },
        {
          "output_type": "stream",
          "name": "stderr",
          "text": [
            "1820it [26:07,  1.15it/s]"
          ]
        },
        {
          "output_type": "stream",
          "name": "stdout",
          "text": [
            "loss of batch 1820: 0.916202962398529\n"
          ]
        },
        {
          "output_type": "stream",
          "name": "stderr",
          "text": [
            "1830it [26:16,  1.16it/s]"
          ]
        },
        {
          "output_type": "stream",
          "name": "stdout",
          "text": [
            "loss of batch 1830: 0.00869446899741888\n"
          ]
        },
        {
          "output_type": "stream",
          "name": "stderr",
          "text": [
            "1840it [26:24,  1.16it/s]"
          ]
        },
        {
          "output_type": "stream",
          "name": "stdout",
          "text": [
            "loss of batch 1840: 1.6516132354736328\n"
          ]
        },
        {
          "output_type": "stream",
          "name": "stderr",
          "text": [
            "1850it [26:33,  1.16it/s]"
          ]
        },
        {
          "output_type": "stream",
          "name": "stdout",
          "text": [
            "loss of batch 1850: 0.026410911232233047\n"
          ]
        },
        {
          "output_type": "stream",
          "name": "stderr",
          "text": [
            "1860it [26:42,  1.16it/s]"
          ]
        },
        {
          "output_type": "stream",
          "name": "stdout",
          "text": [
            "loss of batch 1860: 0.006698459852486849\n"
          ]
        },
        {
          "output_type": "stream",
          "name": "stderr",
          "text": [
            "1870it [26:50,  1.16it/s]"
          ]
        },
        {
          "output_type": "stream",
          "name": "stdout",
          "text": [
            "loss of batch 1870: 0.0055046421475708485\n"
          ]
        },
        {
          "output_type": "stream",
          "name": "stderr",
          "text": [
            "1880it [26:59,  1.16it/s]"
          ]
        },
        {
          "output_type": "stream",
          "name": "stdout",
          "text": [
            "loss of batch 1880: 0.0064018196426332\n"
          ]
        },
        {
          "output_type": "stream",
          "name": "stderr",
          "text": [
            "1890it [27:07,  1.16it/s]"
          ]
        },
        {
          "output_type": "stream",
          "name": "stdout",
          "text": [
            "loss of batch 1890: 0.6645920276641846\n"
          ]
        },
        {
          "output_type": "stream",
          "name": "stderr",
          "text": [
            "1900it [27:16,  1.16it/s]"
          ]
        },
        {
          "output_type": "stream",
          "name": "stdout",
          "text": [
            "loss of batch 1900: 0.006045501213520765\n"
          ]
        },
        {
          "output_type": "stream",
          "name": "stderr",
          "text": [
            "1910it [27:25,  1.16it/s]"
          ]
        },
        {
          "output_type": "stream",
          "name": "stdout",
          "text": [
            "loss of batch 1910: 0.6404368877410889\n"
          ]
        },
        {
          "output_type": "stream",
          "name": "stderr",
          "text": [
            "1920it [27:33,  1.16it/s]"
          ]
        },
        {
          "output_type": "stream",
          "name": "stdout",
          "text": [
            "loss of batch 1920: 0.005549830384552479\n"
          ]
        },
        {
          "output_type": "stream",
          "name": "stderr",
          "text": [
            "1930it [27:42,  1.16it/s]"
          ]
        },
        {
          "output_type": "stream",
          "name": "stdout",
          "text": [
            "loss of batch 1930: 0.5984770655632019\n"
          ]
        },
        {
          "output_type": "stream",
          "name": "stderr",
          "text": [
            "1940it [27:50,  1.16it/s]\n"
          ]
        },
        {
          "output_type": "stream",
          "name": "stdout",
          "text": [
            "total loss of epoch 0: 584.2621483588591\n"
          ]
        },
        {
          "output_type": "stream",
          "name": "stderr",
          "text": [
            "\r0it [00:00, ?it/s]"
          ]
        },
        {
          "output_type": "stream",
          "name": "stdout",
          "text": [
            "loss of batch 0: 0.0052291229367256165\n"
          ]
        },
        {
          "output_type": "stream",
          "name": "stderr",
          "text": [
            "10it [00:08,  1.16it/s]"
          ]
        },
        {
          "output_type": "stream",
          "name": "stdout",
          "text": [
            "loss of batch 10: 0.035302646458148956\n"
          ]
        },
        {
          "output_type": "stream",
          "name": "stderr",
          "text": [
            "20it [00:17,  1.16it/s]"
          ]
        },
        {
          "output_type": "stream",
          "name": "stdout",
          "text": [
            "loss of batch 20: 0.00495689595118165\n"
          ]
        },
        {
          "output_type": "stream",
          "name": "stderr",
          "text": [
            "30it [00:25,  1.16it/s]"
          ]
        },
        {
          "output_type": "stream",
          "name": "stdout",
          "text": [
            "loss of batch 30: 0.00582507997751236\n"
          ]
        },
        {
          "output_type": "stream",
          "name": "stderr",
          "text": [
            "40it [00:34,  1.16it/s]"
          ]
        },
        {
          "output_type": "stream",
          "name": "stdout",
          "text": [
            "loss of batch 40: 0.006805304903537035\n"
          ]
        },
        {
          "output_type": "stream",
          "name": "stderr",
          "text": [
            "50it [00:43,  1.16it/s]"
          ]
        },
        {
          "output_type": "stream",
          "name": "stdout",
          "text": [
            "loss of batch 50: 0.10589292645454407\n"
          ]
        },
        {
          "output_type": "stream",
          "name": "stderr",
          "text": [
            "60it [00:51,  1.16it/s]"
          ]
        },
        {
          "output_type": "stream",
          "name": "stdout",
          "text": [
            "loss of batch 60: 0.49517732858657837\n"
          ]
        },
        {
          "output_type": "stream",
          "name": "stderr",
          "text": [
            "70it [01:00,  1.16it/s]"
          ]
        },
        {
          "output_type": "stream",
          "name": "stdout",
          "text": [
            "loss of batch 70: 0.0047074719332158566\n"
          ]
        },
        {
          "output_type": "stream",
          "name": "stderr",
          "text": [
            "80it [01:09,  1.16it/s]"
          ]
        },
        {
          "output_type": "stream",
          "name": "stdout",
          "text": [
            "loss of batch 80: 0.00442963233217597\n"
          ]
        },
        {
          "output_type": "stream",
          "name": "stderr",
          "text": [
            "90it [01:17,  1.16it/s]"
          ]
        },
        {
          "output_type": "stream",
          "name": "stdout",
          "text": [
            "loss of batch 90: 0.0042884461581707\n"
          ]
        },
        {
          "output_type": "stream",
          "name": "stderr",
          "text": [
            "100it [01:26,  1.16it/s]"
          ]
        },
        {
          "output_type": "stream",
          "name": "stdout",
          "text": [
            "loss of batch 100: 0.003244587918743491\n"
          ]
        },
        {
          "output_type": "stream",
          "name": "stderr",
          "text": [
            "110it [01:35,  1.16it/s]"
          ]
        },
        {
          "output_type": "stream",
          "name": "stdout",
          "text": [
            "loss of batch 110: 1.089208960533142\n"
          ]
        },
        {
          "output_type": "stream",
          "name": "stderr",
          "text": [
            "120it [01:43,  1.16it/s]"
          ]
        },
        {
          "output_type": "stream",
          "name": "stdout",
          "text": [
            "loss of batch 120: 0.004286571405827999\n"
          ]
        },
        {
          "output_type": "stream",
          "name": "stderr",
          "text": [
            "130it [01:52,  1.16it/s]"
          ]
        },
        {
          "output_type": "stream",
          "name": "stdout",
          "text": [
            "loss of batch 130: 0.6251511573791504\n"
          ]
        },
        {
          "output_type": "stream",
          "name": "stderr",
          "text": [
            "140it [02:00,  1.16it/s]"
          ]
        },
        {
          "output_type": "stream",
          "name": "stdout",
          "text": [
            "loss of batch 140: 0.0069086565636098385\n"
          ]
        },
        {
          "output_type": "stream",
          "name": "stderr",
          "text": [
            "150it [02:09,  1.16it/s]"
          ]
        },
        {
          "output_type": "stream",
          "name": "stdout",
          "text": [
            "loss of batch 150: 0.11869137734174728\n"
          ]
        },
        {
          "output_type": "stream",
          "name": "stderr",
          "text": [
            "160it [02:18,  1.16it/s]"
          ]
        },
        {
          "output_type": "stream",
          "name": "stdout",
          "text": [
            "loss of batch 160: 0.0037970237899571657\n"
          ]
        },
        {
          "output_type": "stream",
          "name": "stderr",
          "text": [
            "170it [02:26,  1.16it/s]"
          ]
        },
        {
          "output_type": "stream",
          "name": "stdout",
          "text": [
            "loss of batch 170: 0.00529898377135396\n"
          ]
        },
        {
          "output_type": "stream",
          "name": "stderr",
          "text": [
            "180it [02:35,  1.16it/s]"
          ]
        },
        {
          "output_type": "stream",
          "name": "stdout",
          "text": [
            "loss of batch 180: 0.004648448433727026\n"
          ]
        },
        {
          "output_type": "stream",
          "name": "stderr",
          "text": [
            "190it [02:44,  1.16it/s]"
          ]
        },
        {
          "output_type": "stream",
          "name": "stdout",
          "text": [
            "loss of batch 190: 0.735085129737854\n"
          ]
        },
        {
          "output_type": "stream",
          "name": "stderr",
          "text": [
            "200it [02:52,  1.16it/s]"
          ]
        },
        {
          "output_type": "stream",
          "name": "stdout",
          "text": [
            "loss of batch 200: 0.005156105849891901\n"
          ]
        },
        {
          "output_type": "stream",
          "name": "stderr",
          "text": [
            "210it [03:01,  1.16it/s]"
          ]
        },
        {
          "output_type": "stream",
          "name": "stdout",
          "text": [
            "loss of batch 210: 0.5908843874931335\n"
          ]
        },
        {
          "output_type": "stream",
          "name": "stderr",
          "text": [
            "220it [03:10,  1.16it/s]"
          ]
        },
        {
          "output_type": "stream",
          "name": "stdout",
          "text": [
            "loss of batch 220: 0.0031784744933247566\n"
          ]
        },
        {
          "output_type": "stream",
          "name": "stderr",
          "text": [
            "230it [03:18,  1.16it/s]"
          ]
        },
        {
          "output_type": "stream",
          "name": "stdout",
          "text": [
            "loss of batch 230: 0.003026643069460988\n"
          ]
        },
        {
          "output_type": "stream",
          "name": "stderr",
          "text": [
            "240it [03:27,  1.16it/s]"
          ]
        },
        {
          "output_type": "stream",
          "name": "stdout",
          "text": [
            "loss of batch 240: 0.0043972753919661045\n"
          ]
        },
        {
          "output_type": "stream",
          "name": "stderr",
          "text": [
            "250it [03:35,  1.16it/s]"
          ]
        },
        {
          "output_type": "stream",
          "name": "stdout",
          "text": [
            "loss of batch 250: 0.005911559332162142\n"
          ]
        },
        {
          "output_type": "stream",
          "name": "stderr",
          "text": [
            "260it [03:44,  1.16it/s]"
          ]
        },
        {
          "output_type": "stream",
          "name": "stdout",
          "text": [
            "loss of batch 260: 0.0049703470431268215\n"
          ]
        },
        {
          "output_type": "stream",
          "name": "stderr",
          "text": [
            "270it [03:53,  1.16it/s]"
          ]
        },
        {
          "output_type": "stream",
          "name": "stdout",
          "text": [
            "loss of batch 270: 0.6345981955528259\n"
          ]
        },
        {
          "output_type": "stream",
          "name": "stderr",
          "text": [
            "280it [04:01,  1.16it/s]"
          ]
        },
        {
          "output_type": "stream",
          "name": "stdout",
          "text": [
            "loss of batch 280: 0.004691881127655506\n"
          ]
        },
        {
          "output_type": "stream",
          "name": "stderr",
          "text": [
            "290it [04:10,  1.16it/s]"
          ]
        },
        {
          "output_type": "stream",
          "name": "stdout",
          "text": [
            "loss of batch 290: 0.003825184889137745\n"
          ]
        },
        {
          "output_type": "stream",
          "name": "stderr",
          "text": [
            "300it [04:19,  1.16it/s]"
          ]
        },
        {
          "output_type": "stream",
          "name": "stdout",
          "text": [
            "loss of batch 300: 0.003371422179043293\n"
          ]
        },
        {
          "output_type": "stream",
          "name": "stderr",
          "text": [
            "310it [04:27,  1.16it/s]"
          ]
        },
        {
          "output_type": "stream",
          "name": "stdout",
          "text": [
            "loss of batch 310: 0.0035930301528424025\n"
          ]
        },
        {
          "output_type": "stream",
          "name": "stderr",
          "text": [
            "320it [04:36,  1.16it/s]"
          ]
        },
        {
          "output_type": "stream",
          "name": "stdout",
          "text": [
            "loss of batch 320: 0.0034199373330920935\n"
          ]
        },
        {
          "output_type": "stream",
          "name": "stderr",
          "text": [
            "330it [04:44,  1.16it/s]"
          ]
        },
        {
          "output_type": "stream",
          "name": "stdout",
          "text": [
            "loss of batch 330: 0.00406108982861042\n"
          ]
        },
        {
          "output_type": "stream",
          "name": "stderr",
          "text": [
            "340it [04:53,  1.16it/s]"
          ]
        },
        {
          "output_type": "stream",
          "name": "stdout",
          "text": [
            "loss of batch 340: 0.004605514463037252\n"
          ]
        },
        {
          "output_type": "stream",
          "name": "stderr",
          "text": [
            "350it [05:02,  1.16it/s]"
          ]
        },
        {
          "output_type": "stream",
          "name": "stdout",
          "text": [
            "loss of batch 350: 0.0038578049279749393\n"
          ]
        },
        {
          "output_type": "stream",
          "name": "stderr",
          "text": [
            "360it [05:10,  1.16it/s]"
          ]
        },
        {
          "output_type": "stream",
          "name": "stdout",
          "text": [
            "loss of batch 360: 0.005495870485901833\n"
          ]
        },
        {
          "output_type": "stream",
          "name": "stderr",
          "text": [
            "370it [05:19,  1.16it/s]"
          ]
        },
        {
          "output_type": "stream",
          "name": "stdout",
          "text": [
            "loss of batch 370: 0.003129560500383377\n"
          ]
        },
        {
          "output_type": "stream",
          "name": "stderr",
          "text": [
            "380it [05:28,  1.16it/s]"
          ]
        },
        {
          "output_type": "stream",
          "name": "stdout",
          "text": [
            "loss of batch 380: 0.0042235893197357655\n"
          ]
        },
        {
          "output_type": "stream",
          "name": "stderr",
          "text": [
            "390it [05:36,  1.16it/s]"
          ]
        },
        {
          "output_type": "stream",
          "name": "stdout",
          "text": [
            "loss of batch 390: 0.003315584035590291\n"
          ]
        },
        {
          "output_type": "stream",
          "name": "stderr",
          "text": [
            "400it [05:45,  1.16it/s]"
          ]
        },
        {
          "output_type": "stream",
          "name": "stdout",
          "text": [
            "loss of batch 400: 0.0031215480994433165\n"
          ]
        },
        {
          "output_type": "stream",
          "name": "stderr",
          "text": [
            "410it [05:54,  1.16it/s]"
          ]
        },
        {
          "output_type": "stream",
          "name": "stdout",
          "text": [
            "loss of batch 410: 0.003061488037928939\n"
          ]
        },
        {
          "output_type": "stream",
          "name": "stderr",
          "text": [
            "420it [06:02,  1.16it/s]"
          ]
        },
        {
          "output_type": "stream",
          "name": "stdout",
          "text": [
            "loss of batch 420: 0.003874553833156824\n"
          ]
        },
        {
          "output_type": "stream",
          "name": "stderr",
          "text": [
            "430it [06:11,  1.16it/s]"
          ]
        },
        {
          "output_type": "stream",
          "name": "stdout",
          "text": [
            "loss of batch 430: 0.5415504574775696\n"
          ]
        },
        {
          "output_type": "stream",
          "name": "stderr",
          "text": [
            "440it [06:20,  1.15it/s]"
          ]
        },
        {
          "output_type": "stream",
          "name": "stdout",
          "text": [
            "loss of batch 440: 0.09240192919969559\n"
          ]
        },
        {
          "output_type": "stream",
          "name": "stderr",
          "text": [
            "450it [06:28,  1.16it/s]"
          ]
        },
        {
          "output_type": "stream",
          "name": "stdout",
          "text": [
            "loss of batch 450: 0.003983282018452883\n"
          ]
        },
        {
          "output_type": "stream",
          "name": "stderr",
          "text": [
            "460it [06:37,  1.16it/s]"
          ]
        },
        {
          "output_type": "stream",
          "name": "stdout",
          "text": [
            "loss of batch 460: 0.0033646938391029835\n"
          ]
        },
        {
          "output_type": "stream",
          "name": "stderr",
          "text": [
            "470it [06:45,  1.16it/s]"
          ]
        },
        {
          "output_type": "stream",
          "name": "stdout",
          "text": [
            "loss of batch 470: 0.0052161021158099174\n"
          ]
        },
        {
          "output_type": "stream",
          "name": "stderr",
          "text": [
            "480it [06:54,  1.16it/s]"
          ]
        },
        {
          "output_type": "stream",
          "name": "stdout",
          "text": [
            "loss of batch 480: 0.003375878557562828\n"
          ]
        },
        {
          "output_type": "stream",
          "name": "stderr",
          "text": [
            "490it [07:03,  1.16it/s]"
          ]
        },
        {
          "output_type": "stream",
          "name": "stdout",
          "text": [
            "loss of batch 490: 0.003448680741712451\n"
          ]
        },
        {
          "output_type": "stream",
          "name": "stderr",
          "text": [
            "500it [07:11,  1.16it/s]"
          ]
        },
        {
          "output_type": "stream",
          "name": "stdout",
          "text": [
            "loss of batch 500: 0.00380324712023139\n"
          ]
        },
        {
          "output_type": "stream",
          "name": "stderr",
          "text": [
            "510it [07:20,  1.16it/s]"
          ]
        },
        {
          "output_type": "stream",
          "name": "stdout",
          "text": [
            "loss of batch 510: 0.002531747566536069\n"
          ]
        },
        {
          "output_type": "stream",
          "name": "stderr",
          "text": [
            "520it [07:29,  1.16it/s]"
          ]
        },
        {
          "output_type": "stream",
          "name": "stdout",
          "text": [
            "loss of batch 520: 0.0027236349415034056\n"
          ]
        },
        {
          "output_type": "stream",
          "name": "stderr",
          "text": [
            "530it [07:37,  1.16it/s]"
          ]
        },
        {
          "output_type": "stream",
          "name": "stdout",
          "text": [
            "loss of batch 530: 0.0031692776829004288\n"
          ]
        },
        {
          "output_type": "stream",
          "name": "stderr",
          "text": [
            "540it [07:46,  1.16it/s]"
          ]
        },
        {
          "output_type": "stream",
          "name": "stdout",
          "text": [
            "loss of batch 540: 0.0025393411051481962\n"
          ]
        },
        {
          "output_type": "stream",
          "name": "stderr",
          "text": [
            "550it [07:55,  1.16it/s]"
          ]
        },
        {
          "output_type": "stream",
          "name": "stdout",
          "text": [
            "loss of batch 550: 0.002796228276565671\n"
          ]
        },
        {
          "output_type": "stream",
          "name": "stderr",
          "text": [
            "560it [08:03,  1.16it/s]"
          ]
        },
        {
          "output_type": "stream",
          "name": "stdout",
          "text": [
            "loss of batch 560: 0.003068663412705064\n"
          ]
        },
        {
          "output_type": "stream",
          "name": "stderr",
          "text": [
            "570it [08:12,  1.16it/s]"
          ]
        },
        {
          "output_type": "stream",
          "name": "stdout",
          "text": [
            "loss of batch 570: 0.0023140432313084602\n"
          ]
        },
        {
          "output_type": "stream",
          "name": "stderr",
          "text": [
            "580it [08:20,  1.15it/s]"
          ]
        },
        {
          "output_type": "stream",
          "name": "stdout",
          "text": [
            "loss of batch 580: 0.0026252842508256435\n"
          ]
        },
        {
          "output_type": "stream",
          "name": "stderr",
          "text": [
            "590it [08:29,  1.16it/s]"
          ]
        },
        {
          "output_type": "stream",
          "name": "stdout",
          "text": [
            "loss of batch 590: 0.002776885172352195\n"
          ]
        },
        {
          "output_type": "stream",
          "name": "stderr",
          "text": [
            "600it [08:38,  1.16it/s]"
          ]
        },
        {
          "output_type": "stream",
          "name": "stdout",
          "text": [
            "loss of batch 600: 0.0024801900144666433\n"
          ]
        },
        {
          "output_type": "stream",
          "name": "stderr",
          "text": [
            "610it [08:46,  1.16it/s]"
          ]
        },
        {
          "output_type": "stream",
          "name": "stdout",
          "text": [
            "loss of batch 610: 0.0030302705708891153\n"
          ]
        },
        {
          "output_type": "stream",
          "name": "stderr",
          "text": [
            "620it [08:55,  1.16it/s]"
          ]
        },
        {
          "output_type": "stream",
          "name": "stdout",
          "text": [
            "loss of batch 620: 0.003254240844398737\n"
          ]
        },
        {
          "output_type": "stream",
          "name": "stderr",
          "text": [
            "630it [09:04,  1.16it/s]"
          ]
        },
        {
          "output_type": "stream",
          "name": "stdout",
          "text": [
            "loss of batch 630: 0.0033708326518535614\n"
          ]
        },
        {
          "output_type": "stream",
          "name": "stderr",
          "text": [
            "640it [09:12,  1.16it/s]"
          ]
        },
        {
          "output_type": "stream",
          "name": "stdout",
          "text": [
            "loss of batch 640: 0.8049832582473755\n"
          ]
        },
        {
          "output_type": "stream",
          "name": "stderr",
          "text": [
            "650it [09:21,  1.16it/s]"
          ]
        },
        {
          "output_type": "stream",
          "name": "stdout",
          "text": [
            "loss of batch 650: 0.0029988910537213087\n"
          ]
        },
        {
          "output_type": "stream",
          "name": "stderr",
          "text": [
            "660it [09:30,  1.16it/s]"
          ]
        },
        {
          "output_type": "stream",
          "name": "stdout",
          "text": [
            "loss of batch 660: 0.6495758891105652\n"
          ]
        },
        {
          "output_type": "stream",
          "name": "stderr",
          "text": [
            "670it [09:38,  1.16it/s]"
          ]
        },
        {
          "output_type": "stream",
          "name": "stdout",
          "text": [
            "loss of batch 670: 1.2899690866470337\n"
          ]
        },
        {
          "output_type": "stream",
          "name": "stderr",
          "text": [
            "680it [09:47,  1.16it/s]"
          ]
        },
        {
          "output_type": "stream",
          "name": "stdout",
          "text": [
            "loss of batch 680: 0.6599408984184265\n"
          ]
        },
        {
          "output_type": "stream",
          "name": "stderr",
          "text": [
            "690it [09:55,  1.16it/s]"
          ]
        },
        {
          "output_type": "stream",
          "name": "stdout",
          "text": [
            "loss of batch 690: 0.003425226779654622\n"
          ]
        },
        {
          "output_type": "stream",
          "name": "stderr",
          "text": [
            "700it [10:04,  1.16it/s]"
          ]
        },
        {
          "output_type": "stream",
          "name": "stdout",
          "text": [
            "loss of batch 700: 0.0027867385651916265\n"
          ]
        },
        {
          "output_type": "stream",
          "name": "stderr",
          "text": [
            "710it [10:13,  1.15it/s]"
          ]
        },
        {
          "output_type": "stream",
          "name": "stdout",
          "text": [
            "loss of batch 710: 0.0037216295022517443\n"
          ]
        },
        {
          "output_type": "stream",
          "name": "stderr",
          "text": [
            "720it [10:21,  1.15it/s]"
          ]
        },
        {
          "output_type": "stream",
          "name": "stdout",
          "text": [
            "loss of batch 720: 0.6418136954307556\n"
          ]
        },
        {
          "output_type": "stream",
          "name": "stderr",
          "text": [
            "730it [10:30,  1.16it/s]"
          ]
        },
        {
          "output_type": "stream",
          "name": "stdout",
          "text": [
            "loss of batch 730: 0.0033810294698923826\n"
          ]
        },
        {
          "output_type": "stream",
          "name": "stderr",
          "text": [
            "740it [10:39,  1.16it/s]"
          ]
        },
        {
          "output_type": "stream",
          "name": "stdout",
          "text": [
            "loss of batch 740: 0.6792346835136414\n"
          ]
        },
        {
          "output_type": "stream",
          "name": "stderr",
          "text": [
            "750it [10:47,  1.16it/s]"
          ]
        },
        {
          "output_type": "stream",
          "name": "stdout",
          "text": [
            "loss of batch 750: 0.003226503962650895\n"
          ]
        },
        {
          "output_type": "stream",
          "name": "stderr",
          "text": [
            "760it [10:56,  1.16it/s]"
          ]
        },
        {
          "output_type": "stream",
          "name": "stdout",
          "text": [
            "loss of batch 760: 0.0028213877230882645\n"
          ]
        },
        {
          "output_type": "stream",
          "name": "stderr",
          "text": [
            "770it [11:05,  1.16it/s]"
          ]
        },
        {
          "output_type": "stream",
          "name": "stdout",
          "text": [
            "loss of batch 770: 0.0028986067045480013\n"
          ]
        },
        {
          "output_type": "stream",
          "name": "stderr",
          "text": [
            "780it [11:13,  1.16it/s]"
          ]
        },
        {
          "output_type": "stream",
          "name": "stdout",
          "text": [
            "loss of batch 780: 0.5320590734481812\n"
          ]
        },
        {
          "output_type": "stream",
          "name": "stderr",
          "text": [
            "790it [11:22,  1.16it/s]"
          ]
        },
        {
          "output_type": "stream",
          "name": "stdout",
          "text": [
            "loss of batch 790: 0.003127445699647069\n"
          ]
        },
        {
          "output_type": "stream",
          "name": "stderr",
          "text": [
            "800it [11:30,  1.16it/s]"
          ]
        },
        {
          "output_type": "stream",
          "name": "stdout",
          "text": [
            "loss of batch 800: 0.5246055722236633\n"
          ]
        },
        {
          "output_type": "stream",
          "name": "stderr",
          "text": [
            "810it [11:39,  1.16it/s]"
          ]
        },
        {
          "output_type": "stream",
          "name": "stdout",
          "text": [
            "loss of batch 810: 0.0031548438128083944\n"
          ]
        },
        {
          "output_type": "stream",
          "name": "stderr",
          "text": [
            "820it [11:48,  1.16it/s]"
          ]
        },
        {
          "output_type": "stream",
          "name": "stdout",
          "text": [
            "loss of batch 820: 0.0023395284079015255\n"
          ]
        },
        {
          "output_type": "stream",
          "name": "stderr",
          "text": [
            "830it [11:56,  1.16it/s]"
          ]
        },
        {
          "output_type": "stream",
          "name": "stdout",
          "text": [
            "loss of batch 830: 0.0025066579692065716\n"
          ]
        },
        {
          "output_type": "stream",
          "name": "stderr",
          "text": [
            "840it [12:05,  1.16it/s]"
          ]
        },
        {
          "output_type": "stream",
          "name": "stdout",
          "text": [
            "loss of batch 840: 0.0025538757909089327\n"
          ]
        },
        {
          "output_type": "stream",
          "name": "stderr",
          "text": [
            "850it [12:14,  1.16it/s]"
          ]
        },
        {
          "output_type": "stream",
          "name": "stdout",
          "text": [
            "loss of batch 850: 0.0023103044368326664\n"
          ]
        },
        {
          "output_type": "stream",
          "name": "stderr",
          "text": [
            "860it [12:22,  1.16it/s]"
          ]
        },
        {
          "output_type": "stream",
          "name": "stdout",
          "text": [
            "loss of batch 860: 0.0029523090925067663\n"
          ]
        },
        {
          "output_type": "stream",
          "name": "stderr",
          "text": [
            "870it [12:31,  1.16it/s]"
          ]
        },
        {
          "output_type": "stream",
          "name": "stdout",
          "text": [
            "loss of batch 870: 0.12026932835578918\n"
          ]
        },
        {
          "output_type": "stream",
          "name": "stderr",
          "text": [
            "880it [12:40,  1.16it/s]"
          ]
        },
        {
          "output_type": "stream",
          "name": "stdout",
          "text": [
            "loss of batch 880: 0.0067762285470962524\n"
          ]
        },
        {
          "output_type": "stream",
          "name": "stderr",
          "text": [
            "890it [12:48,  1.16it/s]"
          ]
        },
        {
          "output_type": "stream",
          "name": "stdout",
          "text": [
            "loss of batch 890: 0.0050510223954916\n"
          ]
        },
        {
          "output_type": "stream",
          "name": "stderr",
          "text": [
            "900it [12:57,  1.15it/s]"
          ]
        },
        {
          "output_type": "stream",
          "name": "stdout",
          "text": [
            "loss of batch 900: 0.08684171736240387\n"
          ]
        },
        {
          "output_type": "stream",
          "name": "stderr",
          "text": [
            "910it [13:05,  1.16it/s]"
          ]
        },
        {
          "output_type": "stream",
          "name": "stdout",
          "text": [
            "loss of batch 910: 0.06845199316740036\n"
          ]
        },
        {
          "output_type": "stream",
          "name": "stderr",
          "text": [
            "920it [13:14,  1.16it/s]"
          ]
        },
        {
          "output_type": "stream",
          "name": "stdout",
          "text": [
            "loss of batch 920: 0.003861414035782218\n"
          ]
        },
        {
          "output_type": "stream",
          "name": "stderr",
          "text": [
            "930it [13:23,  1.16it/s]"
          ]
        },
        {
          "output_type": "stream",
          "name": "stdout",
          "text": [
            "loss of batch 930: 0.12518364191055298\n"
          ]
        },
        {
          "output_type": "stream",
          "name": "stderr",
          "text": [
            "940it [13:31,  1.16it/s]"
          ]
        },
        {
          "output_type": "stream",
          "name": "stdout",
          "text": [
            "loss of batch 940: 0.38570132851600647\n"
          ]
        },
        {
          "output_type": "stream",
          "name": "stderr",
          "text": [
            "950it [13:40,  1.16it/s]"
          ]
        },
        {
          "output_type": "stream",
          "name": "stdout",
          "text": [
            "loss of batch 950: 0.2754668593406677\n"
          ]
        },
        {
          "output_type": "stream",
          "name": "stderr",
          "text": [
            "960it [13:49,  1.16it/s]"
          ]
        },
        {
          "output_type": "stream",
          "name": "stdout",
          "text": [
            "loss of batch 960: 0.002481186529621482\n"
          ]
        },
        {
          "output_type": "stream",
          "name": "stderr",
          "text": [
            "970it [13:57,  1.16it/s]"
          ]
        },
        {
          "output_type": "stream",
          "name": "stdout",
          "text": [
            "loss of batch 970: 0.0029191740322858095\n"
          ]
        },
        {
          "output_type": "stream",
          "name": "stderr",
          "text": [
            "980it [14:06,  1.16it/s]"
          ]
        },
        {
          "output_type": "stream",
          "name": "stdout",
          "text": [
            "loss of batch 980: 0.002480573020875454\n"
          ]
        },
        {
          "output_type": "stream",
          "name": "stderr",
          "text": [
            "990it [14:15,  1.16it/s]"
          ]
        },
        {
          "output_type": "stream",
          "name": "stdout",
          "text": [
            "loss of batch 990: 1.1130908727645874\n"
          ]
        },
        {
          "output_type": "stream",
          "name": "stderr",
          "text": [
            "1000it [14:23,  1.16it/s]"
          ]
        },
        {
          "output_type": "stream",
          "name": "stdout",
          "text": [
            "loss of batch 1000: 0.08538473397493362\n"
          ]
        },
        {
          "output_type": "stream",
          "name": "stderr",
          "text": [
            "1010it [14:32,  1.16it/s]"
          ]
        },
        {
          "output_type": "stream",
          "name": "stdout",
          "text": [
            "loss of batch 1010: 0.002511027967557311\n"
          ]
        },
        {
          "output_type": "stream",
          "name": "stderr",
          "text": [
            "1020it [14:40,  1.16it/s]"
          ]
        },
        {
          "output_type": "stream",
          "name": "stdout",
          "text": [
            "loss of batch 1020: 1.107822299003601\n"
          ]
        },
        {
          "output_type": "stream",
          "name": "stderr",
          "text": [
            "1030it [14:49,  1.16it/s]"
          ]
        },
        {
          "output_type": "stream",
          "name": "stdout",
          "text": [
            "loss of batch 1030: 0.24621397256851196\n"
          ]
        },
        {
          "output_type": "stream",
          "name": "stderr",
          "text": [
            "1040it [14:58,  1.16it/s]"
          ]
        },
        {
          "output_type": "stream",
          "name": "stdout",
          "text": [
            "loss of batch 1040: 0.0033990161027759314\n"
          ]
        },
        {
          "output_type": "stream",
          "name": "stderr",
          "text": [
            "1050it [15:06,  1.16it/s]"
          ]
        },
        {
          "output_type": "stream",
          "name": "stdout",
          "text": [
            "loss of batch 1050: 0.003682144219055772\n"
          ]
        },
        {
          "output_type": "stream",
          "name": "stderr",
          "text": [
            "1060it [15:15,  1.16it/s]"
          ]
        },
        {
          "output_type": "stream",
          "name": "stdout",
          "text": [
            "loss of batch 1060: 0.5447106957435608\n"
          ]
        },
        {
          "output_type": "stream",
          "name": "stderr",
          "text": [
            "1070it [15:24,  1.16it/s]"
          ]
        },
        {
          "output_type": "stream",
          "name": "stdout",
          "text": [
            "loss of batch 1070: 0.0039152717217803\n"
          ]
        },
        {
          "output_type": "stream",
          "name": "stderr",
          "text": [
            "1080it [15:32,  1.16it/s]"
          ]
        },
        {
          "output_type": "stream",
          "name": "stdout",
          "text": [
            "loss of batch 1080: 0.6236993074417114\n"
          ]
        },
        {
          "output_type": "stream",
          "name": "stderr",
          "text": [
            "1090it [15:41,  1.16it/s]"
          ]
        },
        {
          "output_type": "stream",
          "name": "stdout",
          "text": [
            "loss of batch 1090: 0.4257470965385437\n"
          ]
        },
        {
          "output_type": "stream",
          "name": "stderr",
          "text": [
            "1100it [15:50,  1.16it/s]"
          ]
        },
        {
          "output_type": "stream",
          "name": "stdout",
          "text": [
            "loss of batch 1100: 0.8557946681976318\n"
          ]
        },
        {
          "output_type": "stream",
          "name": "stderr",
          "text": [
            "1110it [15:58,  1.16it/s]"
          ]
        },
        {
          "output_type": "stream",
          "name": "stdout",
          "text": [
            "loss of batch 1110: 0.0037393197417259216\n"
          ]
        },
        {
          "output_type": "stream",
          "name": "stderr",
          "text": [
            "1120it [16:07,  1.16it/s]"
          ]
        },
        {
          "output_type": "stream",
          "name": "stdout",
          "text": [
            "loss of batch 1120: 0.5914976000785828\n"
          ]
        },
        {
          "output_type": "stream",
          "name": "stderr",
          "text": [
            "1130it [16:15,  1.16it/s]"
          ]
        },
        {
          "output_type": "stream",
          "name": "stdout",
          "text": [
            "loss of batch 1130: 0.003099712310358882\n"
          ]
        },
        {
          "output_type": "stream",
          "name": "stderr",
          "text": [
            "1140it [16:24,  1.16it/s]"
          ]
        },
        {
          "output_type": "stream",
          "name": "stdout",
          "text": [
            "loss of batch 1140: 0.5269726514816284\n"
          ]
        },
        {
          "output_type": "stream",
          "name": "stderr",
          "text": [
            "1150it [16:33,  1.16it/s]"
          ]
        },
        {
          "output_type": "stream",
          "name": "stdout",
          "text": [
            "loss of batch 1150: 0.003517559263855219\n"
          ]
        },
        {
          "output_type": "stream",
          "name": "stderr",
          "text": [
            "1160it [16:41,  1.16it/s]"
          ]
        },
        {
          "output_type": "stream",
          "name": "stdout",
          "text": [
            "loss of batch 1160: 0.019504891708493233\n"
          ]
        },
        {
          "output_type": "stream",
          "name": "stderr",
          "text": [
            "1170it [16:50,  1.16it/s]"
          ]
        },
        {
          "output_type": "stream",
          "name": "stdout",
          "text": [
            "loss of batch 1170: 0.5029193162918091\n"
          ]
        },
        {
          "output_type": "stream",
          "name": "stderr",
          "text": [
            "1180it [16:59,  1.16it/s]"
          ]
        },
        {
          "output_type": "stream",
          "name": "stdout",
          "text": [
            "loss of batch 1180: 0.002814612351357937\n"
          ]
        },
        {
          "output_type": "stream",
          "name": "stderr",
          "text": [
            "1190it [17:07,  1.16it/s]"
          ]
        },
        {
          "output_type": "stream",
          "name": "stdout",
          "text": [
            "loss of batch 1190: 0.724070131778717\n"
          ]
        },
        {
          "output_type": "stream",
          "name": "stderr",
          "text": [
            "1200it [17:16,  1.16it/s]"
          ]
        },
        {
          "output_type": "stream",
          "name": "stdout",
          "text": [
            "loss of batch 1200: 0.5296126008033752\n"
          ]
        },
        {
          "output_type": "stream",
          "name": "stderr",
          "text": [
            "1210it [17:24,  1.16it/s]"
          ]
        },
        {
          "output_type": "stream",
          "name": "stdout",
          "text": [
            "loss of batch 1210: 0.8950343132019043\n"
          ]
        },
        {
          "output_type": "stream",
          "name": "stderr",
          "text": [
            "1220it [17:33,  1.16it/s]"
          ]
        },
        {
          "output_type": "stream",
          "name": "stdout",
          "text": [
            "loss of batch 1220: 0.8073055148124695\n"
          ]
        },
        {
          "output_type": "stream",
          "name": "stderr",
          "text": [
            "1230it [17:42,  1.15it/s]"
          ]
        },
        {
          "output_type": "stream",
          "name": "stdout",
          "text": [
            "loss of batch 1230: 0.0028785658068954945\n"
          ]
        },
        {
          "output_type": "stream",
          "name": "stderr",
          "text": [
            "1240it [17:50,  1.15it/s]"
          ]
        },
        {
          "output_type": "stream",
          "name": "stdout",
          "text": [
            "loss of batch 1240: 0.0027488362975418568\n"
          ]
        },
        {
          "output_type": "stream",
          "name": "stderr",
          "text": [
            "1250it [17:59,  1.15it/s]"
          ]
        },
        {
          "output_type": "stream",
          "name": "stdout",
          "text": [
            "loss of batch 1250: 1.3611857891082764\n"
          ]
        },
        {
          "output_type": "stream",
          "name": "stderr",
          "text": [
            "1260it [18:08,  1.16it/s]"
          ]
        },
        {
          "output_type": "stream",
          "name": "stdout",
          "text": [
            "loss of batch 1260: 0.5858463644981384\n"
          ]
        },
        {
          "output_type": "stream",
          "name": "stderr",
          "text": [
            "1270it [18:16,  1.16it/s]"
          ]
        },
        {
          "output_type": "stream",
          "name": "stdout",
          "text": [
            "loss of batch 1270: 0.5692450404167175\n"
          ]
        },
        {
          "output_type": "stream",
          "name": "stderr",
          "text": [
            "1280it [18:25,  1.16it/s]"
          ]
        },
        {
          "output_type": "stream",
          "name": "stdout",
          "text": [
            "loss of batch 1280: 0.004972766153514385\n"
          ]
        },
        {
          "output_type": "stream",
          "name": "stderr",
          "text": [
            "1290it [18:34,  1.16it/s]"
          ]
        },
        {
          "output_type": "stream",
          "name": "stdout",
          "text": [
            "loss of batch 1290: 0.0037577804177999496\n"
          ]
        },
        {
          "output_type": "stream",
          "name": "stderr",
          "text": [
            "1300it [18:42,  1.16it/s]"
          ]
        },
        {
          "output_type": "stream",
          "name": "stdout",
          "text": [
            "loss of batch 1300: 0.00294644758105278\n"
          ]
        },
        {
          "output_type": "stream",
          "name": "stderr",
          "text": [
            "1310it [18:51,  1.16it/s]"
          ]
        },
        {
          "output_type": "stream",
          "name": "stdout",
          "text": [
            "loss of batch 1310: 0.8085212707519531\n"
          ]
        },
        {
          "output_type": "stream",
          "name": "stderr",
          "text": [
            "1320it [19:00,  1.16it/s]"
          ]
        },
        {
          "output_type": "stream",
          "name": "stdout",
          "text": [
            "loss of batch 1320: 0.0031255201902240515\n"
          ]
        },
        {
          "output_type": "stream",
          "name": "stderr",
          "text": [
            "1330it [19:08,  1.16it/s]"
          ]
        },
        {
          "output_type": "stream",
          "name": "stdout",
          "text": [
            "loss of batch 1330: 0.0027821878902614117\n"
          ]
        },
        {
          "output_type": "stream",
          "name": "stderr",
          "text": [
            "1340it [19:17,  1.16it/s]"
          ]
        },
        {
          "output_type": "stream",
          "name": "stdout",
          "text": [
            "loss of batch 1340: 0.7018024921417236\n"
          ]
        },
        {
          "output_type": "stream",
          "name": "stderr",
          "text": [
            "1350it [19:25,  1.16it/s]"
          ]
        },
        {
          "output_type": "stream",
          "name": "stdout",
          "text": [
            "loss of batch 1350: 0.6738181114196777\n"
          ]
        },
        {
          "output_type": "stream",
          "name": "stderr",
          "text": [
            "1360it [19:34,  1.16it/s]"
          ]
        },
        {
          "output_type": "stream",
          "name": "stdout",
          "text": [
            "loss of batch 1360: 0.0024281993974000216\n"
          ]
        },
        {
          "output_type": "stream",
          "name": "stderr",
          "text": [
            "1370it [19:43,  1.16it/s]"
          ]
        },
        {
          "output_type": "stream",
          "name": "stdout",
          "text": [
            "loss of batch 1370: 0.5041412711143494\n"
          ]
        },
        {
          "output_type": "stream",
          "name": "stderr",
          "text": [
            "1380it [19:51,  1.16it/s]"
          ]
        },
        {
          "output_type": "stream",
          "name": "stdout",
          "text": [
            "loss of batch 1380: 0.0027460691053420305\n"
          ]
        },
        {
          "output_type": "stream",
          "name": "stderr",
          "text": [
            "1390it [20:00,  1.16it/s]"
          ]
        },
        {
          "output_type": "stream",
          "name": "stdout",
          "text": [
            "loss of batch 1390: 0.0021634078584611416\n"
          ]
        },
        {
          "output_type": "stream",
          "name": "stderr",
          "text": [
            "1400it [20:09,  1.16it/s]"
          ]
        },
        {
          "output_type": "stream",
          "name": "stdout",
          "text": [
            "loss of batch 1400: 0.0023126995656639338\n"
          ]
        },
        {
          "output_type": "stream",
          "name": "stderr",
          "text": [
            "1410it [20:17,  1.16it/s]"
          ]
        },
        {
          "output_type": "stream",
          "name": "stdout",
          "text": [
            "loss of batch 1410: 0.06793472915887833\n"
          ]
        },
        {
          "output_type": "stream",
          "name": "stderr",
          "text": [
            "1420it [20:26,  1.16it/s]"
          ]
        },
        {
          "output_type": "stream",
          "name": "stdout",
          "text": [
            "loss of batch 1420: 0.19999918341636658\n"
          ]
        },
        {
          "output_type": "stream",
          "name": "stderr",
          "text": [
            "1430it [20:35,  1.16it/s]"
          ]
        },
        {
          "output_type": "stream",
          "name": "stdout",
          "text": [
            "loss of batch 1430: 0.0020349081605672836\n"
          ]
        },
        {
          "output_type": "stream",
          "name": "stderr",
          "text": [
            "1440it [20:43,  1.16it/s]"
          ]
        },
        {
          "output_type": "stream",
          "name": "stdout",
          "text": [
            "loss of batch 1440: 0.0032670078799128532\n"
          ]
        },
        {
          "output_type": "stream",
          "name": "stderr",
          "text": [
            "1450it [20:52,  1.16it/s]"
          ]
        },
        {
          "output_type": "stream",
          "name": "stdout",
          "text": [
            "loss of batch 1450: 0.002219422487542033\n"
          ]
        },
        {
          "output_type": "stream",
          "name": "stderr",
          "text": [
            "1460it [21:01,  1.16it/s]"
          ]
        },
        {
          "output_type": "stream",
          "name": "stdout",
          "text": [
            "loss of batch 1460: 0.0025071727577596903\n"
          ]
        },
        {
          "output_type": "stream",
          "name": "stderr",
          "text": [
            "1470it [21:09,  1.16it/s]"
          ]
        },
        {
          "output_type": "stream",
          "name": "stdout",
          "text": [
            "loss of batch 1470: 0.040832553058862686\n"
          ]
        },
        {
          "output_type": "stream",
          "name": "stderr",
          "text": [
            "1480it [21:18,  1.16it/s]"
          ]
        },
        {
          "output_type": "stream",
          "name": "stdout",
          "text": [
            "loss of batch 1480: 0.7219112515449524\n"
          ]
        },
        {
          "output_type": "stream",
          "name": "stderr",
          "text": [
            "1490it [21:26,  1.16it/s]"
          ]
        },
        {
          "output_type": "stream",
          "name": "stdout",
          "text": [
            "loss of batch 1490: 0.007595770992338657\n"
          ]
        },
        {
          "output_type": "stream",
          "name": "stderr",
          "text": [
            "1500it [21:35,  1.16it/s]"
          ]
        },
        {
          "output_type": "stream",
          "name": "stdout",
          "text": [
            "loss of batch 1500: 0.0036029117181897163\n"
          ]
        },
        {
          "output_type": "stream",
          "name": "stderr",
          "text": [
            "1510it [21:44,  1.16it/s]"
          ]
        },
        {
          "output_type": "stream",
          "name": "stdout",
          "text": [
            "loss of batch 1510: 0.009504523128271103\n"
          ]
        },
        {
          "output_type": "stream",
          "name": "stderr",
          "text": [
            "1520it [21:52,  1.16it/s]"
          ]
        },
        {
          "output_type": "stream",
          "name": "stdout",
          "text": [
            "loss of batch 1520: 0.00449927756562829\n"
          ]
        },
        {
          "output_type": "stream",
          "name": "stderr",
          "text": [
            "1530it [22:01,  1.16it/s]"
          ]
        },
        {
          "output_type": "stream",
          "name": "stdout",
          "text": [
            "loss of batch 1530: 0.223110631108284\n"
          ]
        },
        {
          "output_type": "stream",
          "name": "stderr",
          "text": [
            "1540it [22:10,  1.16it/s]"
          ]
        },
        {
          "output_type": "stream",
          "name": "stdout",
          "text": [
            "loss of batch 1540: 0.447498083114624\n"
          ]
        },
        {
          "output_type": "stream",
          "name": "stderr",
          "text": [
            "1550it [22:18,  1.16it/s]"
          ]
        },
        {
          "output_type": "stream",
          "name": "stdout",
          "text": [
            "loss of batch 1550: 0.004585192073136568\n"
          ]
        },
        {
          "output_type": "stream",
          "name": "stderr",
          "text": [
            "1560it [22:27,  1.16it/s]"
          ]
        },
        {
          "output_type": "stream",
          "name": "stdout",
          "text": [
            "loss of batch 1560: 0.6772656440734863\n"
          ]
        },
        {
          "output_type": "stream",
          "name": "stderr",
          "text": [
            "1570it [22:35,  1.16it/s]"
          ]
        },
        {
          "output_type": "stream",
          "name": "stdout",
          "text": [
            "loss of batch 1570: 0.004254799336194992\n"
          ]
        },
        {
          "output_type": "stream",
          "name": "stderr",
          "text": [
            "1580it [22:44,  1.16it/s]"
          ]
        },
        {
          "output_type": "stream",
          "name": "stdout",
          "text": [
            "loss of batch 1580: 1.4259198904037476\n"
          ]
        },
        {
          "output_type": "stream",
          "name": "stderr",
          "text": [
            "1590it [22:53,  1.16it/s]"
          ]
        },
        {
          "output_type": "stream",
          "name": "stdout",
          "text": [
            "loss of batch 1590: 1.1033356189727783\n"
          ]
        },
        {
          "output_type": "stream",
          "name": "stderr",
          "text": [
            "1600it [23:01,  1.16it/s]"
          ]
        },
        {
          "output_type": "stream",
          "name": "stdout",
          "text": [
            "loss of batch 1600: 0.005776928272098303\n"
          ]
        },
        {
          "output_type": "stream",
          "name": "stderr",
          "text": [
            "1610it [23:10,  1.16it/s]"
          ]
        },
        {
          "output_type": "stream",
          "name": "stdout",
          "text": [
            "loss of batch 1610: 0.007979695685207844\n"
          ]
        },
        {
          "output_type": "stream",
          "name": "stderr",
          "text": [
            "1620it [23:19,  1.16it/s]"
          ]
        },
        {
          "output_type": "stream",
          "name": "stdout",
          "text": [
            "loss of batch 1620: 0.00541506614536047\n"
          ]
        },
        {
          "output_type": "stream",
          "name": "stderr",
          "text": [
            "1630it [23:27,  1.16it/s]"
          ]
        },
        {
          "output_type": "stream",
          "name": "stdout",
          "text": [
            "loss of batch 1630: 0.37168246507644653\n"
          ]
        },
        {
          "output_type": "stream",
          "name": "stderr",
          "text": [
            "1640it [23:36,  1.16it/s]"
          ]
        },
        {
          "output_type": "stream",
          "name": "stdout",
          "text": [
            "loss of batch 1640: 0.003002698067575693\n"
          ]
        },
        {
          "output_type": "stream",
          "name": "stderr",
          "text": [
            "1650it [23:45,  1.16it/s]"
          ]
        },
        {
          "output_type": "stream",
          "name": "stdout",
          "text": [
            "loss of batch 1650: 0.005005432292819023\n"
          ]
        },
        {
          "output_type": "stream",
          "name": "stderr",
          "text": [
            "1660it [23:53,  1.16it/s]"
          ]
        },
        {
          "output_type": "stream",
          "name": "stdout",
          "text": [
            "loss of batch 1660: 0.6549947261810303\n"
          ]
        },
        {
          "output_type": "stream",
          "name": "stderr",
          "text": [
            "1670it [24:02,  1.16it/s]"
          ]
        },
        {
          "output_type": "stream",
          "name": "stdout",
          "text": [
            "loss of batch 1670: 0.004491268657147884\n"
          ]
        },
        {
          "output_type": "stream",
          "name": "stderr",
          "text": [
            "1680it [24:10,  1.16it/s]"
          ]
        },
        {
          "output_type": "stream",
          "name": "stdout",
          "text": [
            "loss of batch 1680: 0.0062845139764249325\n"
          ]
        },
        {
          "output_type": "stream",
          "name": "stderr",
          "text": [
            "1690it [24:19,  1.16it/s]"
          ]
        },
        {
          "output_type": "stream",
          "name": "stdout",
          "text": [
            "loss of batch 1690: 0.04477757215499878\n"
          ]
        },
        {
          "output_type": "stream",
          "name": "stderr",
          "text": [
            "1700it [24:28,  1.16it/s]"
          ]
        },
        {
          "output_type": "stream",
          "name": "stdout",
          "text": [
            "loss of batch 1700: 0.00938109029084444\n"
          ]
        },
        {
          "output_type": "stream",
          "name": "stderr",
          "text": [
            "1710it [24:36,  1.16it/s]"
          ]
        },
        {
          "output_type": "stream",
          "name": "stdout",
          "text": [
            "loss of batch 1710: 0.6928756833076477\n"
          ]
        },
        {
          "output_type": "stream",
          "name": "stderr",
          "text": [
            "1720it [24:45,  1.16it/s]"
          ]
        },
        {
          "output_type": "stream",
          "name": "stdout",
          "text": [
            "loss of batch 1720: 0.28589531779289246\n"
          ]
        },
        {
          "output_type": "stream",
          "name": "stderr",
          "text": [
            "1730it [24:54,  1.16it/s]"
          ]
        },
        {
          "output_type": "stream",
          "name": "stdout",
          "text": [
            "loss of batch 1730: 0.013942530378699303\n"
          ]
        },
        {
          "output_type": "stream",
          "name": "stderr",
          "text": [
            "1740it [25:02,  1.16it/s]"
          ]
        },
        {
          "output_type": "stream",
          "name": "stdout",
          "text": [
            "loss of batch 1740: 0.7689400315284729\n"
          ]
        },
        {
          "output_type": "stream",
          "name": "stderr",
          "text": [
            "1750it [25:11,  1.16it/s]"
          ]
        },
        {
          "output_type": "stream",
          "name": "stdout",
          "text": [
            "loss of batch 1750: 0.0030378540977835655\n"
          ]
        },
        {
          "output_type": "stream",
          "name": "stderr",
          "text": [
            "1760it [25:19,  1.16it/s]"
          ]
        },
        {
          "output_type": "stream",
          "name": "stdout",
          "text": [
            "loss of batch 1760: 0.8201553821563721\n"
          ]
        },
        {
          "output_type": "stream",
          "name": "stderr",
          "text": [
            "1770it [25:28,  1.16it/s]"
          ]
        },
        {
          "output_type": "stream",
          "name": "stdout",
          "text": [
            "loss of batch 1770: 0.003307778388261795\n"
          ]
        },
        {
          "output_type": "stream",
          "name": "stderr",
          "text": [
            "1780it [25:37,  1.16it/s]"
          ]
        },
        {
          "output_type": "stream",
          "name": "stdout",
          "text": [
            "loss of batch 1780: 1.5206992626190186\n"
          ]
        },
        {
          "output_type": "stream",
          "name": "stderr",
          "text": [
            "1790it [25:45,  1.16it/s]"
          ]
        },
        {
          "output_type": "stream",
          "name": "stdout",
          "text": [
            "loss of batch 1790: 0.023354921489953995\n"
          ]
        },
        {
          "output_type": "stream",
          "name": "stderr",
          "text": [
            "1800it [25:54,  1.16it/s]"
          ]
        },
        {
          "output_type": "stream",
          "name": "stdout",
          "text": [
            "loss of batch 1800: 0.7429071068763733\n"
          ]
        },
        {
          "output_type": "stream",
          "name": "stderr",
          "text": [
            "1810it [26:03,  1.16it/s]"
          ]
        },
        {
          "output_type": "stream",
          "name": "stdout",
          "text": [
            "loss of batch 1810: 0.0037866949569433928\n"
          ]
        },
        {
          "output_type": "stream",
          "name": "stderr",
          "text": [
            "1820it [26:11,  1.16it/s]"
          ]
        },
        {
          "output_type": "stream",
          "name": "stdout",
          "text": [
            "loss of batch 1820: 0.004057117737829685\n"
          ]
        },
        {
          "output_type": "stream",
          "name": "stderr",
          "text": [
            "1830it [26:20,  1.16it/s]"
          ]
        },
        {
          "output_type": "stream",
          "name": "stdout",
          "text": [
            "loss of batch 1830: 0.0038063153624534607\n"
          ]
        },
        {
          "output_type": "stream",
          "name": "stderr",
          "text": [
            "1840it [26:29,  1.16it/s]"
          ]
        },
        {
          "output_type": "stream",
          "name": "stdout",
          "text": [
            "loss of batch 1840: 0.31941288709640503\n"
          ]
        },
        {
          "output_type": "stream",
          "name": "stderr",
          "text": [
            "1850it [26:37,  1.16it/s]"
          ]
        },
        {
          "output_type": "stream",
          "name": "stdout",
          "text": [
            "loss of batch 1850: 0.00422569690272212\n"
          ]
        },
        {
          "output_type": "stream",
          "name": "stderr",
          "text": [
            "1860it [26:46,  1.16it/s]"
          ]
        },
        {
          "output_type": "stream",
          "name": "stdout",
          "text": [
            "loss of batch 1860: 0.47342365980148315\n"
          ]
        },
        {
          "output_type": "stream",
          "name": "stderr",
          "text": [
            "1870it [26:54,  1.16it/s]"
          ]
        },
        {
          "output_type": "stream",
          "name": "stdout",
          "text": [
            "loss of batch 1870: 0.003661421127617359\n"
          ]
        },
        {
          "output_type": "stream",
          "name": "stderr",
          "text": [
            "1880it [27:03,  1.16it/s]"
          ]
        },
        {
          "output_type": "stream",
          "name": "stdout",
          "text": [
            "loss of batch 1880: 0.004162981640547514\n"
          ]
        },
        {
          "output_type": "stream",
          "name": "stderr",
          "text": [
            "1890it [27:12,  1.16it/s]"
          ]
        },
        {
          "output_type": "stream",
          "name": "stdout",
          "text": [
            "loss of batch 1890: 0.0028719212859869003\n"
          ]
        },
        {
          "output_type": "stream",
          "name": "stderr",
          "text": [
            "1900it [27:20,  1.16it/s]"
          ]
        },
        {
          "output_type": "stream",
          "name": "stdout",
          "text": [
            "loss of batch 1900: 0.0027397419326007366\n"
          ]
        },
        {
          "output_type": "stream",
          "name": "stderr",
          "text": [
            "1910it [27:29,  1.16it/s]"
          ]
        },
        {
          "output_type": "stream",
          "name": "stdout",
          "text": [
            "loss of batch 1910: 0.004646416287869215\n"
          ]
        },
        {
          "output_type": "stream",
          "name": "stderr",
          "text": [
            "1920it [27:38,  1.16it/s]"
          ]
        },
        {
          "output_type": "stream",
          "name": "stdout",
          "text": [
            "loss of batch 1920: 0.002760844072327018\n"
          ]
        },
        {
          "output_type": "stream",
          "name": "stderr",
          "text": [
            "1930it [27:46,  1.16it/s]"
          ]
        },
        {
          "output_type": "stream",
          "name": "stdout",
          "text": [
            "loss of batch 1930: 0.06390700489282608\n"
          ]
        },
        {
          "output_type": "stream",
          "name": "stderr",
          "text": [
            "1940it [27:54,  1.16it/s]"
          ]
        },
        {
          "output_type": "stream",
          "name": "stdout",
          "text": [
            "total loss of epoch 1: 400.04079199407715\n"
          ]
        },
        {
          "output_type": "stream",
          "name": "stderr",
          "text": [
            "\n"
          ]
        }
      ],
      "source": [
        "for epoch in range(NUM_EPOCHS):\n",
        "    model.train()\n",
        "    torch.set_grad_enabled(True)\n",
        "    total_train_loss=0\n",
        "    \n",
        "    for i,batch in tqdm(enumerate(train_dataloader)):\n",
        "        model.zero_grad()\n",
        "        input_ids, attention_masks, token_type_ids, labels=(batch[0].to(device), \n",
        "                                                            batch[1].to(device), \n",
        "                                                            batch[2].to(device), \n",
        "                                                            torch.nn.functional.one_hot(batch[3].to(torch.int64), 3).squeeze(1).float().to(device))\n",
        "        outputs = model(input_ids, token_type_ids=token_type_ids, attention_mask=attention_masks, labels=labels)\n",
        "        loss=outputs[0]\n",
        "        if i%10==0:\n",
        "            print(f'loss of batch {i}: {loss}')\n",
        "        total_train_loss+=loss.item()\n",
        "        optimizer.zero_grad()\n",
        "        loss.backward()\n",
        "        torch.nn.utils.clip_grad_norm_(model.parameters(),1.0)\n",
        "\n",
        "        optimizer.step()\n",
        "    print(f'total loss of epoch {epoch}: {total_train_loss}')\n",
        "    gc.collect()"
      ]
    },
    {
      "cell_type": "markdown",
      "source": [
        "# Result"
      ],
      "metadata": {
        "id": "Z2qm1cY43Aq6"
      },
      "id": "Z2qm1cY43Aq6"
    },
    {
      "cell_type": "code",
      "execution_count": 36,
      "id": "dc222285",
      "metadata": {
        "id": "dc222285",
        "colab": {
          "base_uri": "https://localhost:8080/"
        },
        "outputId": "53ae73f1-7204-4649-9128-c4093e27a66d"
      },
      "outputs": [
        {
          "output_type": "stream",
          "name": "stdout",
          "text": [
            "\n",
            "Prediction complete.\n",
            "Average loss: 0.06408783759197172\n"
          ]
        }
      ],
      "source": [
        "stacked_val_labels = []\n",
        "true_labels = []\n",
        "model.eval()\n",
        "\n",
        "torch.set_grad_enabled(False)\n",
        "total_val_loss = 0\n",
        "\n",
        "for j, batch in enumerate(test_dataloader):\n",
        "    input_ids, attention_masks, token_type_ids,labels=(batch[0].to(device), \n",
        "                                                        batch[1].to(device), \n",
        "                                                        batch[2].to(device),\n",
        "                                                torch.nn.functional.one_hot(batch[3].to(torch.int64), 3).squeeze(1).float().to(device))\n",
        "    outputs = model(input_ids, token_type_ids=token_type_ids, attention_mask=attention_masks,labels = labels)\n",
        "\n",
        "    loss = outputs.loss\n",
        "    logits = outputs.logits\n",
        "    true = batch[3]\n",
        "\n",
        "    val_preds = logits.detach().cpu().numpy()\n",
        "    total_val_loss += loss.item()\n",
        "    if j == 0:  # first batch\n",
        "        stacked_val_preds = val_preds\n",
        "        true_labels = true\n",
        "\n",
        "    else:\n",
        "        stacked_val_preds = np.vstack((stacked_val_preds, val_preds))\n",
        "        true_labels = np.vstack((true_labels, true))\n",
        "        #stacked_val_preds.extend(val_preds)\n",
        "    #print(len(stacked_val_preds))\n",
        "\n",
        "    \n",
        "            \n",
        "print(f'\\nPrediction complete.\\nAverage loss: {total_val_loss/len(test_dataset_final)}')\n"
      ]
    },
    {
      "cell_type": "code",
      "execution_count": 37,
      "id": "310cd770",
      "metadata": {
        "id": "310cd770"
      },
      "outputs": [],
      "source": [
        "test_preds = np.argmax(stacked_val_preds, axis=1)"
      ]
    },
    {
      "cell_type": "code",
      "execution_count": 38,
      "id": "96b64ba2",
      "metadata": {
        "id": "96b64ba2",
        "colab": {
          "base_uri": "https://localhost:8080/"
        },
        "outputId": "5503855a-7152-4d1a-f623-4a3953be979a"
      },
      "outputs": [
        {
          "output_type": "execute_result",
          "data": {
            "text/plain": [
              "array([2, 0, 1, ..., 0, 2, 2])"
            ]
          },
          "metadata": {},
          "execution_count": 38
        }
      ],
      "source": [
        "test_preds"
      ]
    },
    {
      "cell_type": "code",
      "execution_count": 52,
      "id": "dba86ecf",
      "metadata": {
        "id": "dba86ecf"
      },
      "outputs": [],
      "source": [
        "true = true_labels.flatten().astype('int64')"
      ]
    },
    {
      "cell_type": "code",
      "execution_count": 71,
      "id": "187fa430",
      "metadata": {
        "id": "187fa430",
        "colab": {
          "base_uri": "https://localhost:8080/"
        },
        "outputId": "435b397e-6b24-423f-ff57-c0b4652006bc"
      },
      "outputs": [
        {
          "output_type": "execute_result",
          "data": {
            "text/plain": [
              "0.8960396039603961"
            ]
          },
          "metadata": {},
          "execution_count": 71
        }
      ],
      "source": [
        "acc = np.sum(test_preds == true)/len(test_preds)\n",
        "acc"
      ]
    },
    {
      "cell_type": "code",
      "source": [
        "precision, recall, fscore, support = precision_recall_fscore_support(true, test_preds)"
      ],
      "metadata": {
        "id": "duU9uuIwyvYB"
      },
      "id": "duU9uuIwyvYB",
      "execution_count": 60,
      "outputs": []
    },
    {
      "cell_type": "code",
      "execution_count": 67,
      "id": "1dac54e4",
      "metadata": {
        "id": "1dac54e4"
      },
      "outputs": [],
      "source": [
        "score_data = []\n",
        "for i,(p,r,f,s) in enumerate(zip(precision, recall, fscore, support)):\n",
        "  score_data.append((i,p,r,f,s))"
      ]
    },
    {
      "cell_type": "code",
      "execution_count": 69,
      "id": "a15d3a01",
      "metadata": {
        "id": "a15d3a01"
      },
      "outputs": [],
      "source": [
        "df = pd.DataFrame(score_data,columns=['label','precision','recall','fscore','support'])"
      ]
    },
    {
      "cell_type": "code",
      "execution_count": 70,
      "id": "80be4ac1",
      "metadata": {
        "id": "80be4ac1",
        "colab": {
          "base_uri": "https://localhost:8080/",
          "height": 143
        },
        "outputId": "735e788b-8b4d-458e-8c0e-d430af1904f0"
      },
      "outputs": [
        {
          "output_type": "execute_result",
          "data": {
            "text/plain": [
              "   label  precision    recall    fscore  support\n",
              "0      0   0.904126  0.906326  0.905225      822\n",
              "1      1   0.874172  0.858257  0.866142      769\n",
              "2      2   0.907692  0.920768  0.914184      833"
            ],
            "text/html": [
              "\n",
              "  <div id=\"df-d8f70feb-9bef-4c3c-8d90-df5df0c26817\">\n",
              "    <div class=\"colab-df-container\">\n",
              "      <div>\n",
              "<style scoped>\n",
              "    .dataframe tbody tr th:only-of-type {\n",
              "        vertical-align: middle;\n",
              "    }\n",
              "\n",
              "    .dataframe tbody tr th {\n",
              "        vertical-align: top;\n",
              "    }\n",
              "\n",
              "    .dataframe thead th {\n",
              "        text-align: right;\n",
              "    }\n",
              "</style>\n",
              "<table border=\"1\" class=\"dataframe\">\n",
              "  <thead>\n",
              "    <tr style=\"text-align: right;\">\n",
              "      <th></th>\n",
              "      <th>label</th>\n",
              "      <th>precision</th>\n",
              "      <th>recall</th>\n",
              "      <th>fscore</th>\n",
              "      <th>support</th>\n",
              "    </tr>\n",
              "  </thead>\n",
              "  <tbody>\n",
              "    <tr>\n",
              "      <th>0</th>\n",
              "      <td>0</td>\n",
              "      <td>0.904126</td>\n",
              "      <td>0.906326</td>\n",
              "      <td>0.905225</td>\n",
              "      <td>822</td>\n",
              "    </tr>\n",
              "    <tr>\n",
              "      <th>1</th>\n",
              "      <td>1</td>\n",
              "      <td>0.874172</td>\n",
              "      <td>0.858257</td>\n",
              "      <td>0.866142</td>\n",
              "      <td>769</td>\n",
              "    </tr>\n",
              "    <tr>\n",
              "      <th>2</th>\n",
              "      <td>2</td>\n",
              "      <td>0.907692</td>\n",
              "      <td>0.920768</td>\n",
              "      <td>0.914184</td>\n",
              "      <td>833</td>\n",
              "    </tr>\n",
              "  </tbody>\n",
              "</table>\n",
              "</div>\n",
              "      <button class=\"colab-df-convert\" onclick=\"convertToInteractive('df-d8f70feb-9bef-4c3c-8d90-df5df0c26817')\"\n",
              "              title=\"Convert this dataframe to an interactive table.\"\n",
              "              style=\"display:none;\">\n",
              "        \n",
              "  <svg xmlns=\"http://www.w3.org/2000/svg\" height=\"24px\"viewBox=\"0 0 24 24\"\n",
              "       width=\"24px\">\n",
              "    <path d=\"M0 0h24v24H0V0z\" fill=\"none\"/>\n",
              "    <path d=\"M18.56 5.44l.94 2.06.94-2.06 2.06-.94-2.06-.94-.94-2.06-.94 2.06-2.06.94zm-11 1L8.5 8.5l.94-2.06 2.06-.94-2.06-.94L8.5 2.5l-.94 2.06-2.06.94zm10 10l.94 2.06.94-2.06 2.06-.94-2.06-.94-.94-2.06-.94 2.06-2.06.94z\"/><path d=\"M17.41 7.96l-1.37-1.37c-.4-.4-.92-.59-1.43-.59-.52 0-1.04.2-1.43.59L10.3 9.45l-7.72 7.72c-.78.78-.78 2.05 0 2.83L4 21.41c.39.39.9.59 1.41.59.51 0 1.02-.2 1.41-.59l7.78-7.78 2.81-2.81c.8-.78.8-2.07 0-2.86zM5.41 20L4 18.59l7.72-7.72 1.47 1.35L5.41 20z\"/>\n",
              "  </svg>\n",
              "      </button>\n",
              "      \n",
              "  <style>\n",
              "    .colab-df-container {\n",
              "      display:flex;\n",
              "      flex-wrap:wrap;\n",
              "      gap: 12px;\n",
              "    }\n",
              "\n",
              "    .colab-df-convert {\n",
              "      background-color: #E8F0FE;\n",
              "      border: none;\n",
              "      border-radius: 50%;\n",
              "      cursor: pointer;\n",
              "      display: none;\n",
              "      fill: #1967D2;\n",
              "      height: 32px;\n",
              "      padding: 0 0 0 0;\n",
              "      width: 32px;\n",
              "    }\n",
              "\n",
              "    .colab-df-convert:hover {\n",
              "      background-color: #E2EBFA;\n",
              "      box-shadow: 0px 1px 2px rgba(60, 64, 67, 0.3), 0px 1px 3px 1px rgba(60, 64, 67, 0.15);\n",
              "      fill: #174EA6;\n",
              "    }\n",
              "\n",
              "    [theme=dark] .colab-df-convert {\n",
              "      background-color: #3B4455;\n",
              "      fill: #D2E3FC;\n",
              "    }\n",
              "\n",
              "    [theme=dark] .colab-df-convert:hover {\n",
              "      background-color: #434B5C;\n",
              "      box-shadow: 0px 1px 3px 1px rgba(0, 0, 0, 0.15);\n",
              "      filter: drop-shadow(0px 1px 2px rgba(0, 0, 0, 0.3));\n",
              "      fill: #FFFFFF;\n",
              "    }\n",
              "  </style>\n",
              "\n",
              "      <script>\n",
              "        const buttonEl =\n",
              "          document.querySelector('#df-d8f70feb-9bef-4c3c-8d90-df5df0c26817 button.colab-df-convert');\n",
              "        buttonEl.style.display =\n",
              "          google.colab.kernel.accessAllowed ? 'block' : 'none';\n",
              "\n",
              "        async function convertToInteractive(key) {\n",
              "          const element = document.querySelector('#df-d8f70feb-9bef-4c3c-8d90-df5df0c26817');\n",
              "          const dataTable =\n",
              "            await google.colab.kernel.invokeFunction('convertToInteractive',\n",
              "                                                     [key], {});\n",
              "          if (!dataTable) return;\n",
              "\n",
              "          const docLinkHtml = 'Like what you see? Visit the ' +\n",
              "            '<a target=\"_blank\" href=https://colab.research.google.com/notebooks/data_table.ipynb>data table notebook</a>'\n",
              "            + ' to learn more about interactive tables.';\n",
              "          element.innerHTML = '';\n",
              "          dataTable['output_type'] = 'display_data';\n",
              "          await google.colab.output.renderOutput(dataTable, element);\n",
              "          const docLink = document.createElement('div');\n",
              "          docLink.innerHTML = docLinkHtml;\n",
              "          element.appendChild(docLink);\n",
              "        }\n",
              "      </script>\n",
              "    </div>\n",
              "  </div>\n",
              "  "
            ]
          },
          "metadata": {},
          "execution_count": 70
        }
      ],
      "source": [
        "df"
      ]
    }
  ],
  "metadata": {
    "kernelspec": {
      "display_name": "Python 3",
      "language": "python",
      "name": "python3"
    },
    "language_info": {
      "codemirror_mode": {
        "name": "ipython",
        "version": 3
      },
      "file_extension": ".py",
      "mimetype": "text/x-python",
      "name": "python",
      "nbconvert_exporter": "python",
      "pygments_lexer": "ipython3",
      "version": "3.9.7"
    },
    "colab": {
      "name": "“xlmRoberta.ipynb”的副本",
      "provenance": []
    },
    "accelerator": "GPU",
    "gpuClass": "standard",
    "widgets": {
      "application/vnd.jupyter.widget-state+json": {
        "bcc650ffb6fb4dd8b378d0392163a0c6": {
          "model_module": "@jupyter-widgets/controls",
          "model_name": "HBoxModel",
          "model_module_version": "1.5.0",
          "state": {
            "_dom_classes": [],
            "_model_module": "@jupyter-widgets/controls",
            "_model_module_version": "1.5.0",
            "_model_name": "HBoxModel",
            "_view_count": null,
            "_view_module": "@jupyter-widgets/controls",
            "_view_module_version": "1.5.0",
            "_view_name": "HBoxView",
            "box_style": "",
            "children": [
              "IPY_MODEL_254607f0195342ef8f7a6aef54e99616",
              "IPY_MODEL_6da65bb82b7d4cab9513cbdcf7c72e8e",
              "IPY_MODEL_ee213b4890e0443791d95a1d70144801"
            ],
            "layout": "IPY_MODEL_bd1e195df7554874935af6a03a43d629"
          }
        },
        "254607f0195342ef8f7a6aef54e99616": {
          "model_module": "@jupyter-widgets/controls",
          "model_name": "HTMLModel",
          "model_module_version": "1.5.0",
          "state": {
            "_dom_classes": [],
            "_model_module": "@jupyter-widgets/controls",
            "_model_module_version": "1.5.0",
            "_model_name": "HTMLModel",
            "_view_count": null,
            "_view_module": "@jupyter-widgets/controls",
            "_view_module_version": "1.5.0",
            "_view_name": "HTMLView",
            "description": "",
            "description_tooltip": null,
            "layout": "IPY_MODEL_d5d727afe17741039625dc0dfd6b587f",
            "placeholder": "​",
            "style": "IPY_MODEL_3311b17d127f4369b5b34977ee841b96",
            "value": "Downloading: 100%"
          }
        },
        "6da65bb82b7d4cab9513cbdcf7c72e8e": {
          "model_module": "@jupyter-widgets/controls",
          "model_name": "FloatProgressModel",
          "model_module_version": "1.5.0",
          "state": {
            "_dom_classes": [],
            "_model_module": "@jupyter-widgets/controls",
            "_model_module_version": "1.5.0",
            "_model_name": "FloatProgressModel",
            "_view_count": null,
            "_view_module": "@jupyter-widgets/controls",
            "_view_module_version": "1.5.0",
            "_view_name": "ProgressView",
            "bar_style": "success",
            "description": "",
            "description_tooltip": null,
            "layout": "IPY_MODEL_620d604407bd4b11831f6ef3f7ddd8f1",
            "max": 25,
            "min": 0,
            "orientation": "horizontal",
            "style": "IPY_MODEL_0fa8c197e2cf436f8d148301d5f64c57",
            "value": 25
          }
        },
        "ee213b4890e0443791d95a1d70144801": {
          "model_module": "@jupyter-widgets/controls",
          "model_name": "HTMLModel",
          "model_module_version": "1.5.0",
          "state": {
            "_dom_classes": [],
            "_model_module": "@jupyter-widgets/controls",
            "_model_module_version": "1.5.0",
            "_model_name": "HTMLModel",
            "_view_count": null,
            "_view_module": "@jupyter-widgets/controls",
            "_view_module_version": "1.5.0",
            "_view_name": "HTMLView",
            "description": "",
            "description_tooltip": null,
            "layout": "IPY_MODEL_114845a9f20e4c52a50b106f467c6422",
            "placeholder": "​",
            "style": "IPY_MODEL_7131859f1e7d4542a33030e1e5657fdd",
            "value": " 25.0/25.0 [00:00&lt;00:00, 708B/s]"
          }
        },
        "bd1e195df7554874935af6a03a43d629": {
          "model_module": "@jupyter-widgets/base",
          "model_name": "LayoutModel",
          "model_module_version": "1.2.0",
          "state": {
            "_model_module": "@jupyter-widgets/base",
            "_model_module_version": "1.2.0",
            "_model_name": "LayoutModel",
            "_view_count": null,
            "_view_module": "@jupyter-widgets/base",
            "_view_module_version": "1.2.0",
            "_view_name": "LayoutView",
            "align_content": null,
            "align_items": null,
            "align_self": null,
            "border": null,
            "bottom": null,
            "display": null,
            "flex": null,
            "flex_flow": null,
            "grid_area": null,
            "grid_auto_columns": null,
            "grid_auto_flow": null,
            "grid_auto_rows": null,
            "grid_column": null,
            "grid_gap": null,
            "grid_row": null,
            "grid_template_areas": null,
            "grid_template_columns": null,
            "grid_template_rows": null,
            "height": null,
            "justify_content": null,
            "justify_items": null,
            "left": null,
            "margin": null,
            "max_height": null,
            "max_width": null,
            "min_height": null,
            "min_width": null,
            "object_fit": null,
            "object_position": null,
            "order": null,
            "overflow": null,
            "overflow_x": null,
            "overflow_y": null,
            "padding": null,
            "right": null,
            "top": null,
            "visibility": null,
            "width": null
          }
        },
        "d5d727afe17741039625dc0dfd6b587f": {
          "model_module": "@jupyter-widgets/base",
          "model_name": "LayoutModel",
          "model_module_version": "1.2.0",
          "state": {
            "_model_module": "@jupyter-widgets/base",
            "_model_module_version": "1.2.0",
            "_model_name": "LayoutModel",
            "_view_count": null,
            "_view_module": "@jupyter-widgets/base",
            "_view_module_version": "1.2.0",
            "_view_name": "LayoutView",
            "align_content": null,
            "align_items": null,
            "align_self": null,
            "border": null,
            "bottom": null,
            "display": null,
            "flex": null,
            "flex_flow": null,
            "grid_area": null,
            "grid_auto_columns": null,
            "grid_auto_flow": null,
            "grid_auto_rows": null,
            "grid_column": null,
            "grid_gap": null,
            "grid_row": null,
            "grid_template_areas": null,
            "grid_template_columns": null,
            "grid_template_rows": null,
            "height": null,
            "justify_content": null,
            "justify_items": null,
            "left": null,
            "margin": null,
            "max_height": null,
            "max_width": null,
            "min_height": null,
            "min_width": null,
            "object_fit": null,
            "object_position": null,
            "order": null,
            "overflow": null,
            "overflow_x": null,
            "overflow_y": null,
            "padding": null,
            "right": null,
            "top": null,
            "visibility": null,
            "width": null
          }
        },
        "3311b17d127f4369b5b34977ee841b96": {
          "model_module": "@jupyter-widgets/controls",
          "model_name": "DescriptionStyleModel",
          "model_module_version": "1.5.0",
          "state": {
            "_model_module": "@jupyter-widgets/controls",
            "_model_module_version": "1.5.0",
            "_model_name": "DescriptionStyleModel",
            "_view_count": null,
            "_view_module": "@jupyter-widgets/base",
            "_view_module_version": "1.2.0",
            "_view_name": "StyleView",
            "description_width": ""
          }
        },
        "620d604407bd4b11831f6ef3f7ddd8f1": {
          "model_module": "@jupyter-widgets/base",
          "model_name": "LayoutModel",
          "model_module_version": "1.2.0",
          "state": {
            "_model_module": "@jupyter-widgets/base",
            "_model_module_version": "1.2.0",
            "_model_name": "LayoutModel",
            "_view_count": null,
            "_view_module": "@jupyter-widgets/base",
            "_view_module_version": "1.2.0",
            "_view_name": "LayoutView",
            "align_content": null,
            "align_items": null,
            "align_self": null,
            "border": null,
            "bottom": null,
            "display": null,
            "flex": null,
            "flex_flow": null,
            "grid_area": null,
            "grid_auto_columns": null,
            "grid_auto_flow": null,
            "grid_auto_rows": null,
            "grid_column": null,
            "grid_gap": null,
            "grid_row": null,
            "grid_template_areas": null,
            "grid_template_columns": null,
            "grid_template_rows": null,
            "height": null,
            "justify_content": null,
            "justify_items": null,
            "left": null,
            "margin": null,
            "max_height": null,
            "max_width": null,
            "min_height": null,
            "min_width": null,
            "object_fit": null,
            "object_position": null,
            "order": null,
            "overflow": null,
            "overflow_x": null,
            "overflow_y": null,
            "padding": null,
            "right": null,
            "top": null,
            "visibility": null,
            "width": null
          }
        },
        "0fa8c197e2cf436f8d148301d5f64c57": {
          "model_module": "@jupyter-widgets/controls",
          "model_name": "ProgressStyleModel",
          "model_module_version": "1.5.0",
          "state": {
            "_model_module": "@jupyter-widgets/controls",
            "_model_module_version": "1.5.0",
            "_model_name": "ProgressStyleModel",
            "_view_count": null,
            "_view_module": "@jupyter-widgets/base",
            "_view_module_version": "1.2.0",
            "_view_name": "StyleView",
            "bar_color": null,
            "description_width": ""
          }
        },
        "114845a9f20e4c52a50b106f467c6422": {
          "model_module": "@jupyter-widgets/base",
          "model_name": "LayoutModel",
          "model_module_version": "1.2.0",
          "state": {
            "_model_module": "@jupyter-widgets/base",
            "_model_module_version": "1.2.0",
            "_model_name": "LayoutModel",
            "_view_count": null,
            "_view_module": "@jupyter-widgets/base",
            "_view_module_version": "1.2.0",
            "_view_name": "LayoutView",
            "align_content": null,
            "align_items": null,
            "align_self": null,
            "border": null,
            "bottom": null,
            "display": null,
            "flex": null,
            "flex_flow": null,
            "grid_area": null,
            "grid_auto_columns": null,
            "grid_auto_flow": null,
            "grid_auto_rows": null,
            "grid_column": null,
            "grid_gap": null,
            "grid_row": null,
            "grid_template_areas": null,
            "grid_template_columns": null,
            "grid_template_rows": null,
            "height": null,
            "justify_content": null,
            "justify_items": null,
            "left": null,
            "margin": null,
            "max_height": null,
            "max_width": null,
            "min_height": null,
            "min_width": null,
            "object_fit": null,
            "object_position": null,
            "order": null,
            "overflow": null,
            "overflow_x": null,
            "overflow_y": null,
            "padding": null,
            "right": null,
            "top": null,
            "visibility": null,
            "width": null
          }
        },
        "7131859f1e7d4542a33030e1e5657fdd": {
          "model_module": "@jupyter-widgets/controls",
          "model_name": "DescriptionStyleModel",
          "model_module_version": "1.5.0",
          "state": {
            "_model_module": "@jupyter-widgets/controls",
            "_model_module_version": "1.5.0",
            "_model_name": "DescriptionStyleModel",
            "_view_count": null,
            "_view_module": "@jupyter-widgets/base",
            "_view_module_version": "1.2.0",
            "_view_name": "StyleView",
            "description_width": ""
          }
        },
        "be32f04dec2447aab5a0722d46ec9409": {
          "model_module": "@jupyter-widgets/controls",
          "model_name": "HBoxModel",
          "model_module_version": "1.5.0",
          "state": {
            "_dom_classes": [],
            "_model_module": "@jupyter-widgets/controls",
            "_model_module_version": "1.5.0",
            "_model_name": "HBoxModel",
            "_view_count": null,
            "_view_module": "@jupyter-widgets/controls",
            "_view_module_version": "1.5.0",
            "_view_name": "HBoxView",
            "box_style": "",
            "children": [
              "IPY_MODEL_093e997949e844429d7b52cc35e3fec8",
              "IPY_MODEL_7bd99a9853b14822800347897d4e81b0",
              "IPY_MODEL_327aba8dc084474cb38e8768974f7af1"
            ],
            "layout": "IPY_MODEL_3ff9f06038b04bb2bfd88ed8b8da44fd"
          }
        },
        "093e997949e844429d7b52cc35e3fec8": {
          "model_module": "@jupyter-widgets/controls",
          "model_name": "HTMLModel",
          "model_module_version": "1.5.0",
          "state": {
            "_dom_classes": [],
            "_model_module": "@jupyter-widgets/controls",
            "_model_module_version": "1.5.0",
            "_model_name": "HTMLModel",
            "_view_count": null,
            "_view_module": "@jupyter-widgets/controls",
            "_view_module_version": "1.5.0",
            "_view_name": "HTMLView",
            "description": "",
            "description_tooltip": null,
            "layout": "IPY_MODEL_5e3762ea28594d33bd05f2bd5ef5ddff",
            "placeholder": "​",
            "style": "IPY_MODEL_2dd59fdefd4741e7ac4653a7b40d5636",
            "value": "Downloading: 100%"
          }
        },
        "7bd99a9853b14822800347897d4e81b0": {
          "model_module": "@jupyter-widgets/controls",
          "model_name": "FloatProgressModel",
          "model_module_version": "1.5.0",
          "state": {
            "_dom_classes": [],
            "_model_module": "@jupyter-widgets/controls",
            "_model_module_version": "1.5.0",
            "_model_name": "FloatProgressModel",
            "_view_count": null,
            "_view_module": "@jupyter-widgets/controls",
            "_view_module_version": "1.5.0",
            "_view_name": "ProgressView",
            "bar_style": "success",
            "description": "",
            "description_tooltip": null,
            "layout": "IPY_MODEL_3c637409769a4aceba94867e6108d9f0",
            "max": 734,
            "min": 0,
            "orientation": "horizontal",
            "style": "IPY_MODEL_0f40cb7648d44683a5ba829d67266d89",
            "value": 734
          }
        },
        "327aba8dc084474cb38e8768974f7af1": {
          "model_module": "@jupyter-widgets/controls",
          "model_name": "HTMLModel",
          "model_module_version": "1.5.0",
          "state": {
            "_dom_classes": [],
            "_model_module": "@jupyter-widgets/controls",
            "_model_module_version": "1.5.0",
            "_model_name": "HTMLModel",
            "_view_count": null,
            "_view_module": "@jupyter-widgets/controls",
            "_view_module_version": "1.5.0",
            "_view_name": "HTMLView",
            "description": "",
            "description_tooltip": null,
            "layout": "IPY_MODEL_be694db61e1c458681724fcbca0bb584",
            "placeholder": "​",
            "style": "IPY_MODEL_d464a750cf5a44b0b03aedfe5dc41b97",
            "value": " 734/734 [00:00&lt;00:00, 23.1kB/s]"
          }
        },
        "3ff9f06038b04bb2bfd88ed8b8da44fd": {
          "model_module": "@jupyter-widgets/base",
          "model_name": "LayoutModel",
          "model_module_version": "1.2.0",
          "state": {
            "_model_module": "@jupyter-widgets/base",
            "_model_module_version": "1.2.0",
            "_model_name": "LayoutModel",
            "_view_count": null,
            "_view_module": "@jupyter-widgets/base",
            "_view_module_version": "1.2.0",
            "_view_name": "LayoutView",
            "align_content": null,
            "align_items": null,
            "align_self": null,
            "border": null,
            "bottom": null,
            "display": null,
            "flex": null,
            "flex_flow": null,
            "grid_area": null,
            "grid_auto_columns": null,
            "grid_auto_flow": null,
            "grid_auto_rows": null,
            "grid_column": null,
            "grid_gap": null,
            "grid_row": null,
            "grid_template_areas": null,
            "grid_template_columns": null,
            "grid_template_rows": null,
            "height": null,
            "justify_content": null,
            "justify_items": null,
            "left": null,
            "margin": null,
            "max_height": null,
            "max_width": null,
            "min_height": null,
            "min_width": null,
            "object_fit": null,
            "object_position": null,
            "order": null,
            "overflow": null,
            "overflow_x": null,
            "overflow_y": null,
            "padding": null,
            "right": null,
            "top": null,
            "visibility": null,
            "width": null
          }
        },
        "5e3762ea28594d33bd05f2bd5ef5ddff": {
          "model_module": "@jupyter-widgets/base",
          "model_name": "LayoutModel",
          "model_module_version": "1.2.0",
          "state": {
            "_model_module": "@jupyter-widgets/base",
            "_model_module_version": "1.2.0",
            "_model_name": "LayoutModel",
            "_view_count": null,
            "_view_module": "@jupyter-widgets/base",
            "_view_module_version": "1.2.0",
            "_view_name": "LayoutView",
            "align_content": null,
            "align_items": null,
            "align_self": null,
            "border": null,
            "bottom": null,
            "display": null,
            "flex": null,
            "flex_flow": null,
            "grid_area": null,
            "grid_auto_columns": null,
            "grid_auto_flow": null,
            "grid_auto_rows": null,
            "grid_column": null,
            "grid_gap": null,
            "grid_row": null,
            "grid_template_areas": null,
            "grid_template_columns": null,
            "grid_template_rows": null,
            "height": null,
            "justify_content": null,
            "justify_items": null,
            "left": null,
            "margin": null,
            "max_height": null,
            "max_width": null,
            "min_height": null,
            "min_width": null,
            "object_fit": null,
            "object_position": null,
            "order": null,
            "overflow": null,
            "overflow_x": null,
            "overflow_y": null,
            "padding": null,
            "right": null,
            "top": null,
            "visibility": null,
            "width": null
          }
        },
        "2dd59fdefd4741e7ac4653a7b40d5636": {
          "model_module": "@jupyter-widgets/controls",
          "model_name": "DescriptionStyleModel",
          "model_module_version": "1.5.0",
          "state": {
            "_model_module": "@jupyter-widgets/controls",
            "_model_module_version": "1.5.0",
            "_model_name": "DescriptionStyleModel",
            "_view_count": null,
            "_view_module": "@jupyter-widgets/base",
            "_view_module_version": "1.2.0",
            "_view_name": "StyleView",
            "description_width": ""
          }
        },
        "3c637409769a4aceba94867e6108d9f0": {
          "model_module": "@jupyter-widgets/base",
          "model_name": "LayoutModel",
          "model_module_version": "1.2.0",
          "state": {
            "_model_module": "@jupyter-widgets/base",
            "_model_module_version": "1.2.0",
            "_model_name": "LayoutModel",
            "_view_count": null,
            "_view_module": "@jupyter-widgets/base",
            "_view_module_version": "1.2.0",
            "_view_name": "LayoutView",
            "align_content": null,
            "align_items": null,
            "align_self": null,
            "border": null,
            "bottom": null,
            "display": null,
            "flex": null,
            "flex_flow": null,
            "grid_area": null,
            "grid_auto_columns": null,
            "grid_auto_flow": null,
            "grid_auto_rows": null,
            "grid_column": null,
            "grid_gap": null,
            "grid_row": null,
            "grid_template_areas": null,
            "grid_template_columns": null,
            "grid_template_rows": null,
            "height": null,
            "justify_content": null,
            "justify_items": null,
            "left": null,
            "margin": null,
            "max_height": null,
            "max_width": null,
            "min_height": null,
            "min_width": null,
            "object_fit": null,
            "object_position": null,
            "order": null,
            "overflow": null,
            "overflow_x": null,
            "overflow_y": null,
            "padding": null,
            "right": null,
            "top": null,
            "visibility": null,
            "width": null
          }
        },
        "0f40cb7648d44683a5ba829d67266d89": {
          "model_module": "@jupyter-widgets/controls",
          "model_name": "ProgressStyleModel",
          "model_module_version": "1.5.0",
          "state": {
            "_model_module": "@jupyter-widgets/controls",
            "_model_module_version": "1.5.0",
            "_model_name": "ProgressStyleModel",
            "_view_count": null,
            "_view_module": "@jupyter-widgets/base",
            "_view_module_version": "1.2.0",
            "_view_name": "StyleView",
            "bar_color": null,
            "description_width": ""
          }
        },
        "be694db61e1c458681724fcbca0bb584": {
          "model_module": "@jupyter-widgets/base",
          "model_name": "LayoutModel",
          "model_module_version": "1.2.0",
          "state": {
            "_model_module": "@jupyter-widgets/base",
            "_model_module_version": "1.2.0",
            "_model_name": "LayoutModel",
            "_view_count": null,
            "_view_module": "@jupyter-widgets/base",
            "_view_module_version": "1.2.0",
            "_view_name": "LayoutView",
            "align_content": null,
            "align_items": null,
            "align_self": null,
            "border": null,
            "bottom": null,
            "display": null,
            "flex": null,
            "flex_flow": null,
            "grid_area": null,
            "grid_auto_columns": null,
            "grid_auto_flow": null,
            "grid_auto_rows": null,
            "grid_column": null,
            "grid_gap": null,
            "grid_row": null,
            "grid_template_areas": null,
            "grid_template_columns": null,
            "grid_template_rows": null,
            "height": null,
            "justify_content": null,
            "justify_items": null,
            "left": null,
            "margin": null,
            "max_height": null,
            "max_width": null,
            "min_height": null,
            "min_width": null,
            "object_fit": null,
            "object_position": null,
            "order": null,
            "overflow": null,
            "overflow_x": null,
            "overflow_y": null,
            "padding": null,
            "right": null,
            "top": null,
            "visibility": null,
            "width": null
          }
        },
        "d464a750cf5a44b0b03aedfe5dc41b97": {
          "model_module": "@jupyter-widgets/controls",
          "model_name": "DescriptionStyleModel",
          "model_module_version": "1.5.0",
          "state": {
            "_model_module": "@jupyter-widgets/controls",
            "_model_module_version": "1.5.0",
            "_model_name": "DescriptionStyleModel",
            "_view_count": null,
            "_view_module": "@jupyter-widgets/base",
            "_view_module_version": "1.2.0",
            "_view_name": "StyleView",
            "description_width": ""
          }
        },
        "72b77102c7f641f698323c6f7813ca61": {
          "model_module": "@jupyter-widgets/controls",
          "model_name": "HBoxModel",
          "model_module_version": "1.5.0",
          "state": {
            "_dom_classes": [],
            "_model_module": "@jupyter-widgets/controls",
            "_model_module_version": "1.5.0",
            "_model_name": "HBoxModel",
            "_view_count": null,
            "_view_module": "@jupyter-widgets/controls",
            "_view_module_version": "1.5.0",
            "_view_name": "HBoxView",
            "box_style": "",
            "children": [
              "IPY_MODEL_7e553fd2adbc4ae2bc12740b092b2f52",
              "IPY_MODEL_4ff01976c103476b8812d28dc2198395",
              "IPY_MODEL_3aabacd70e034a9a98befb0531b1f552"
            ],
            "layout": "IPY_MODEL_d069353471e64bb590d403dfd96cb4f3"
          }
        },
        "7e553fd2adbc4ae2bc12740b092b2f52": {
          "model_module": "@jupyter-widgets/controls",
          "model_name": "HTMLModel",
          "model_module_version": "1.5.0",
          "state": {
            "_dom_classes": [],
            "_model_module": "@jupyter-widgets/controls",
            "_model_module_version": "1.5.0",
            "_model_name": "HTMLModel",
            "_view_count": null,
            "_view_module": "@jupyter-widgets/controls",
            "_view_module_version": "1.5.0",
            "_view_name": "HTMLView",
            "description": "",
            "description_tooltip": null,
            "layout": "IPY_MODEL_72006be252b6495ab303ac66a1d28eb5",
            "placeholder": "​",
            "style": "IPY_MODEL_a1bfe14229b34d088b1c06cc447b7a6d",
            "value": "Downloading: 100%"
          }
        },
        "4ff01976c103476b8812d28dc2198395": {
          "model_module": "@jupyter-widgets/controls",
          "model_name": "FloatProgressModel",
          "model_module_version": "1.5.0",
          "state": {
            "_dom_classes": [],
            "_model_module": "@jupyter-widgets/controls",
            "_model_module_version": "1.5.0",
            "_model_name": "FloatProgressModel",
            "_view_count": null,
            "_view_module": "@jupyter-widgets/controls",
            "_view_module_version": "1.5.0",
            "_view_name": "ProgressView",
            "bar_style": "success",
            "description": "",
            "description_tooltip": null,
            "layout": "IPY_MODEL_37cb2e399b5349f2b1b3d3b199b00864",
            "max": 5069051,
            "min": 0,
            "orientation": "horizontal",
            "style": "IPY_MODEL_4bc7cbb3ef234034b6a9d5d89cba9162",
            "value": 5069051
          }
        },
        "3aabacd70e034a9a98befb0531b1f552": {
          "model_module": "@jupyter-widgets/controls",
          "model_name": "HTMLModel",
          "model_module_version": "1.5.0",
          "state": {
            "_dom_classes": [],
            "_model_module": "@jupyter-widgets/controls",
            "_model_module_version": "1.5.0",
            "_model_name": "HTMLModel",
            "_view_count": null,
            "_view_module": "@jupyter-widgets/controls",
            "_view_module_version": "1.5.0",
            "_view_name": "HTMLView",
            "description": "",
            "description_tooltip": null,
            "layout": "IPY_MODEL_a43f49e280484cc0b4647b8fa1907c44",
            "placeholder": "​",
            "style": "IPY_MODEL_84cff91a9b674a99ae2a9f7c393a77f4",
            "value": " 4.83M/4.83M [00:01&lt;00:00, 4.39MB/s]"
          }
        },
        "d069353471e64bb590d403dfd96cb4f3": {
          "model_module": "@jupyter-widgets/base",
          "model_name": "LayoutModel",
          "model_module_version": "1.2.0",
          "state": {
            "_model_module": "@jupyter-widgets/base",
            "_model_module_version": "1.2.0",
            "_model_name": "LayoutModel",
            "_view_count": null,
            "_view_module": "@jupyter-widgets/base",
            "_view_module_version": "1.2.0",
            "_view_name": "LayoutView",
            "align_content": null,
            "align_items": null,
            "align_self": null,
            "border": null,
            "bottom": null,
            "display": null,
            "flex": null,
            "flex_flow": null,
            "grid_area": null,
            "grid_auto_columns": null,
            "grid_auto_flow": null,
            "grid_auto_rows": null,
            "grid_column": null,
            "grid_gap": null,
            "grid_row": null,
            "grid_template_areas": null,
            "grid_template_columns": null,
            "grid_template_rows": null,
            "height": null,
            "justify_content": null,
            "justify_items": null,
            "left": null,
            "margin": null,
            "max_height": null,
            "max_width": null,
            "min_height": null,
            "min_width": null,
            "object_fit": null,
            "object_position": null,
            "order": null,
            "overflow": null,
            "overflow_x": null,
            "overflow_y": null,
            "padding": null,
            "right": null,
            "top": null,
            "visibility": null,
            "width": null
          }
        },
        "72006be252b6495ab303ac66a1d28eb5": {
          "model_module": "@jupyter-widgets/base",
          "model_name": "LayoutModel",
          "model_module_version": "1.2.0",
          "state": {
            "_model_module": "@jupyter-widgets/base",
            "_model_module_version": "1.2.0",
            "_model_name": "LayoutModel",
            "_view_count": null,
            "_view_module": "@jupyter-widgets/base",
            "_view_module_version": "1.2.0",
            "_view_name": "LayoutView",
            "align_content": null,
            "align_items": null,
            "align_self": null,
            "border": null,
            "bottom": null,
            "display": null,
            "flex": null,
            "flex_flow": null,
            "grid_area": null,
            "grid_auto_columns": null,
            "grid_auto_flow": null,
            "grid_auto_rows": null,
            "grid_column": null,
            "grid_gap": null,
            "grid_row": null,
            "grid_template_areas": null,
            "grid_template_columns": null,
            "grid_template_rows": null,
            "height": null,
            "justify_content": null,
            "justify_items": null,
            "left": null,
            "margin": null,
            "max_height": null,
            "max_width": null,
            "min_height": null,
            "min_width": null,
            "object_fit": null,
            "object_position": null,
            "order": null,
            "overflow": null,
            "overflow_x": null,
            "overflow_y": null,
            "padding": null,
            "right": null,
            "top": null,
            "visibility": null,
            "width": null
          }
        },
        "a1bfe14229b34d088b1c06cc447b7a6d": {
          "model_module": "@jupyter-widgets/controls",
          "model_name": "DescriptionStyleModel",
          "model_module_version": "1.5.0",
          "state": {
            "_model_module": "@jupyter-widgets/controls",
            "_model_module_version": "1.5.0",
            "_model_name": "DescriptionStyleModel",
            "_view_count": null,
            "_view_module": "@jupyter-widgets/base",
            "_view_module_version": "1.2.0",
            "_view_name": "StyleView",
            "description_width": ""
          }
        },
        "37cb2e399b5349f2b1b3d3b199b00864": {
          "model_module": "@jupyter-widgets/base",
          "model_name": "LayoutModel",
          "model_module_version": "1.2.0",
          "state": {
            "_model_module": "@jupyter-widgets/base",
            "_model_module_version": "1.2.0",
            "_model_name": "LayoutModel",
            "_view_count": null,
            "_view_module": "@jupyter-widgets/base",
            "_view_module_version": "1.2.0",
            "_view_name": "LayoutView",
            "align_content": null,
            "align_items": null,
            "align_self": null,
            "border": null,
            "bottom": null,
            "display": null,
            "flex": null,
            "flex_flow": null,
            "grid_area": null,
            "grid_auto_columns": null,
            "grid_auto_flow": null,
            "grid_auto_rows": null,
            "grid_column": null,
            "grid_gap": null,
            "grid_row": null,
            "grid_template_areas": null,
            "grid_template_columns": null,
            "grid_template_rows": null,
            "height": null,
            "justify_content": null,
            "justify_items": null,
            "left": null,
            "margin": null,
            "max_height": null,
            "max_width": null,
            "min_height": null,
            "min_width": null,
            "object_fit": null,
            "object_position": null,
            "order": null,
            "overflow": null,
            "overflow_x": null,
            "overflow_y": null,
            "padding": null,
            "right": null,
            "top": null,
            "visibility": null,
            "width": null
          }
        },
        "4bc7cbb3ef234034b6a9d5d89cba9162": {
          "model_module": "@jupyter-widgets/controls",
          "model_name": "ProgressStyleModel",
          "model_module_version": "1.5.0",
          "state": {
            "_model_module": "@jupyter-widgets/controls",
            "_model_module_version": "1.5.0",
            "_model_name": "ProgressStyleModel",
            "_view_count": null,
            "_view_module": "@jupyter-widgets/base",
            "_view_module_version": "1.2.0",
            "_view_name": "StyleView",
            "bar_color": null,
            "description_width": ""
          }
        },
        "a43f49e280484cc0b4647b8fa1907c44": {
          "model_module": "@jupyter-widgets/base",
          "model_name": "LayoutModel",
          "model_module_version": "1.2.0",
          "state": {
            "_model_module": "@jupyter-widgets/base",
            "_model_module_version": "1.2.0",
            "_model_name": "LayoutModel",
            "_view_count": null,
            "_view_module": "@jupyter-widgets/base",
            "_view_module_version": "1.2.0",
            "_view_name": "LayoutView",
            "align_content": null,
            "align_items": null,
            "align_self": null,
            "border": null,
            "bottom": null,
            "display": null,
            "flex": null,
            "flex_flow": null,
            "grid_area": null,
            "grid_auto_columns": null,
            "grid_auto_flow": null,
            "grid_auto_rows": null,
            "grid_column": null,
            "grid_gap": null,
            "grid_row": null,
            "grid_template_areas": null,
            "grid_template_columns": null,
            "grid_template_rows": null,
            "height": null,
            "justify_content": null,
            "justify_items": null,
            "left": null,
            "margin": null,
            "max_height": null,
            "max_width": null,
            "min_height": null,
            "min_width": null,
            "object_fit": null,
            "object_position": null,
            "order": null,
            "overflow": null,
            "overflow_x": null,
            "overflow_y": null,
            "padding": null,
            "right": null,
            "top": null,
            "visibility": null,
            "width": null
          }
        },
        "84cff91a9b674a99ae2a9f7c393a77f4": {
          "model_module": "@jupyter-widgets/controls",
          "model_name": "DescriptionStyleModel",
          "model_module_version": "1.5.0",
          "state": {
            "_model_module": "@jupyter-widgets/controls",
            "_model_module_version": "1.5.0",
            "_model_name": "DescriptionStyleModel",
            "_view_count": null,
            "_view_module": "@jupyter-widgets/base",
            "_view_module_version": "1.2.0",
            "_view_name": "StyleView",
            "description_width": ""
          }
        },
        "897bb910802e49b1ad32e76bed7c5f54": {
          "model_module": "@jupyter-widgets/controls",
          "model_name": "HBoxModel",
          "model_module_version": "1.5.0",
          "state": {
            "_dom_classes": [],
            "_model_module": "@jupyter-widgets/controls",
            "_model_module_version": "1.5.0",
            "_model_name": "HBoxModel",
            "_view_count": null,
            "_view_module": "@jupyter-widgets/controls",
            "_view_module_version": "1.5.0",
            "_view_name": "HBoxView",
            "box_style": "",
            "children": [
              "IPY_MODEL_8a08fe6cbc1f4911b2b7377e61dbd80c",
              "IPY_MODEL_250f961cb25844cba90c8d44ada28da7",
              "IPY_MODEL_5cef114e44a64fe4a85e9c49e26165a4"
            ],
            "layout": "IPY_MODEL_c6bc3c8682864c7e9bbedeb4e8d5a6aa"
          }
        },
        "8a08fe6cbc1f4911b2b7377e61dbd80c": {
          "model_module": "@jupyter-widgets/controls",
          "model_name": "HTMLModel",
          "model_module_version": "1.5.0",
          "state": {
            "_dom_classes": [],
            "_model_module": "@jupyter-widgets/controls",
            "_model_module_version": "1.5.0",
            "_model_name": "HTMLModel",
            "_view_count": null,
            "_view_module": "@jupyter-widgets/controls",
            "_view_module_version": "1.5.0",
            "_view_name": "HTMLView",
            "description": "",
            "description_tooltip": null,
            "layout": "IPY_MODEL_7ab8a315ae664024a340bfe6b439aabb",
            "placeholder": "​",
            "style": "IPY_MODEL_a10451044ff14dddb987395ef08ad5f1",
            "value": "Downloading: 100%"
          }
        },
        "250f961cb25844cba90c8d44ada28da7": {
          "model_module": "@jupyter-widgets/controls",
          "model_name": "FloatProgressModel",
          "model_module_version": "1.5.0",
          "state": {
            "_dom_classes": [],
            "_model_module": "@jupyter-widgets/controls",
            "_model_module_version": "1.5.0",
            "_model_name": "FloatProgressModel",
            "_view_count": null,
            "_view_module": "@jupyter-widgets/controls",
            "_view_module_version": "1.5.0",
            "_view_name": "ProgressView",
            "bar_style": "success",
            "description": "",
            "description_tooltip": null,
            "layout": "IPY_MODEL_10beda5b902c4a6bbaa3712324bb4aef",
            "max": 150,
            "min": 0,
            "orientation": "horizontal",
            "style": "IPY_MODEL_eb66e31abeca4180b469b412ee14662e",
            "value": 150
          }
        },
        "5cef114e44a64fe4a85e9c49e26165a4": {
          "model_module": "@jupyter-widgets/controls",
          "model_name": "HTMLModel",
          "model_module_version": "1.5.0",
          "state": {
            "_dom_classes": [],
            "_model_module": "@jupyter-widgets/controls",
            "_model_module_version": "1.5.0",
            "_model_name": "HTMLModel",
            "_view_count": null,
            "_view_module": "@jupyter-widgets/controls",
            "_view_module_version": "1.5.0",
            "_view_name": "HTMLView",
            "description": "",
            "description_tooltip": null,
            "layout": "IPY_MODEL_e668f730db244d45b4b957ce6213d374",
            "placeholder": "​",
            "style": "IPY_MODEL_36ca9710bf6941dca040f0fa13db7d60",
            "value": " 150/150 [00:00&lt;00:00, 1.39kB/s]"
          }
        },
        "c6bc3c8682864c7e9bbedeb4e8d5a6aa": {
          "model_module": "@jupyter-widgets/base",
          "model_name": "LayoutModel",
          "model_module_version": "1.2.0",
          "state": {
            "_model_module": "@jupyter-widgets/base",
            "_model_module_version": "1.2.0",
            "_model_name": "LayoutModel",
            "_view_count": null,
            "_view_module": "@jupyter-widgets/base",
            "_view_module_version": "1.2.0",
            "_view_name": "LayoutView",
            "align_content": null,
            "align_items": null,
            "align_self": null,
            "border": null,
            "bottom": null,
            "display": null,
            "flex": null,
            "flex_flow": null,
            "grid_area": null,
            "grid_auto_columns": null,
            "grid_auto_flow": null,
            "grid_auto_rows": null,
            "grid_column": null,
            "grid_gap": null,
            "grid_row": null,
            "grid_template_areas": null,
            "grid_template_columns": null,
            "grid_template_rows": null,
            "height": null,
            "justify_content": null,
            "justify_items": null,
            "left": null,
            "margin": null,
            "max_height": null,
            "max_width": null,
            "min_height": null,
            "min_width": null,
            "object_fit": null,
            "object_position": null,
            "order": null,
            "overflow": null,
            "overflow_x": null,
            "overflow_y": null,
            "padding": null,
            "right": null,
            "top": null,
            "visibility": null,
            "width": null
          }
        },
        "7ab8a315ae664024a340bfe6b439aabb": {
          "model_module": "@jupyter-widgets/base",
          "model_name": "LayoutModel",
          "model_module_version": "1.2.0",
          "state": {
            "_model_module": "@jupyter-widgets/base",
            "_model_module_version": "1.2.0",
            "_model_name": "LayoutModel",
            "_view_count": null,
            "_view_module": "@jupyter-widgets/base",
            "_view_module_version": "1.2.0",
            "_view_name": "LayoutView",
            "align_content": null,
            "align_items": null,
            "align_self": null,
            "border": null,
            "bottom": null,
            "display": null,
            "flex": null,
            "flex_flow": null,
            "grid_area": null,
            "grid_auto_columns": null,
            "grid_auto_flow": null,
            "grid_auto_rows": null,
            "grid_column": null,
            "grid_gap": null,
            "grid_row": null,
            "grid_template_areas": null,
            "grid_template_columns": null,
            "grid_template_rows": null,
            "height": null,
            "justify_content": null,
            "justify_items": null,
            "left": null,
            "margin": null,
            "max_height": null,
            "max_width": null,
            "min_height": null,
            "min_width": null,
            "object_fit": null,
            "object_position": null,
            "order": null,
            "overflow": null,
            "overflow_x": null,
            "overflow_y": null,
            "padding": null,
            "right": null,
            "top": null,
            "visibility": null,
            "width": null
          }
        },
        "a10451044ff14dddb987395ef08ad5f1": {
          "model_module": "@jupyter-widgets/controls",
          "model_name": "DescriptionStyleModel",
          "model_module_version": "1.5.0",
          "state": {
            "_model_module": "@jupyter-widgets/controls",
            "_model_module_version": "1.5.0",
            "_model_name": "DescriptionStyleModel",
            "_view_count": null,
            "_view_module": "@jupyter-widgets/base",
            "_view_module_version": "1.2.0",
            "_view_name": "StyleView",
            "description_width": ""
          }
        },
        "10beda5b902c4a6bbaa3712324bb4aef": {
          "model_module": "@jupyter-widgets/base",
          "model_name": "LayoutModel",
          "model_module_version": "1.2.0",
          "state": {
            "_model_module": "@jupyter-widgets/base",
            "_model_module_version": "1.2.0",
            "_model_name": "LayoutModel",
            "_view_count": null,
            "_view_module": "@jupyter-widgets/base",
            "_view_module_version": "1.2.0",
            "_view_name": "LayoutView",
            "align_content": null,
            "align_items": null,
            "align_self": null,
            "border": null,
            "bottom": null,
            "display": null,
            "flex": null,
            "flex_flow": null,
            "grid_area": null,
            "grid_auto_columns": null,
            "grid_auto_flow": null,
            "grid_auto_rows": null,
            "grid_column": null,
            "grid_gap": null,
            "grid_row": null,
            "grid_template_areas": null,
            "grid_template_columns": null,
            "grid_template_rows": null,
            "height": null,
            "justify_content": null,
            "justify_items": null,
            "left": null,
            "margin": null,
            "max_height": null,
            "max_width": null,
            "min_height": null,
            "min_width": null,
            "object_fit": null,
            "object_position": null,
            "order": null,
            "overflow": null,
            "overflow_x": null,
            "overflow_y": null,
            "padding": null,
            "right": null,
            "top": null,
            "visibility": null,
            "width": null
          }
        },
        "eb66e31abeca4180b469b412ee14662e": {
          "model_module": "@jupyter-widgets/controls",
          "model_name": "ProgressStyleModel",
          "model_module_version": "1.5.0",
          "state": {
            "_model_module": "@jupyter-widgets/controls",
            "_model_module_version": "1.5.0",
            "_model_name": "ProgressStyleModel",
            "_view_count": null,
            "_view_module": "@jupyter-widgets/base",
            "_view_module_version": "1.2.0",
            "_view_name": "StyleView",
            "bar_color": null,
            "description_width": ""
          }
        },
        "e668f730db244d45b4b957ce6213d374": {
          "model_module": "@jupyter-widgets/base",
          "model_name": "LayoutModel",
          "model_module_version": "1.2.0",
          "state": {
            "_model_module": "@jupyter-widgets/base",
            "_model_module_version": "1.2.0",
            "_model_name": "LayoutModel",
            "_view_count": null,
            "_view_module": "@jupyter-widgets/base",
            "_view_module_version": "1.2.0",
            "_view_name": "LayoutView",
            "align_content": null,
            "align_items": null,
            "align_self": null,
            "border": null,
            "bottom": null,
            "display": null,
            "flex": null,
            "flex_flow": null,
            "grid_area": null,
            "grid_auto_columns": null,
            "grid_auto_flow": null,
            "grid_auto_rows": null,
            "grid_column": null,
            "grid_gap": null,
            "grid_row": null,
            "grid_template_areas": null,
            "grid_template_columns": null,
            "grid_template_rows": null,
            "height": null,
            "justify_content": null,
            "justify_items": null,
            "left": null,
            "margin": null,
            "max_height": null,
            "max_width": null,
            "min_height": null,
            "min_width": null,
            "object_fit": null,
            "object_position": null,
            "order": null,
            "overflow": null,
            "overflow_x": null,
            "overflow_y": null,
            "padding": null,
            "right": null,
            "top": null,
            "visibility": null,
            "width": null
          }
        },
        "36ca9710bf6941dca040f0fa13db7d60": {
          "model_module": "@jupyter-widgets/controls",
          "model_name": "DescriptionStyleModel",
          "model_module_version": "1.5.0",
          "state": {
            "_model_module": "@jupyter-widgets/controls",
            "_model_module_version": "1.5.0",
            "_model_name": "DescriptionStyleModel",
            "_view_count": null,
            "_view_module": "@jupyter-widgets/base",
            "_view_module_version": "1.2.0",
            "_view_name": "StyleView",
            "description_width": ""
          }
        },
        "34f9b42c95214ff3b94cd7ba72164f0e": {
          "model_module": "@jupyter-widgets/controls",
          "model_name": "HBoxModel",
          "model_module_version": "1.5.0",
          "state": {
            "_dom_classes": [],
            "_model_module": "@jupyter-widgets/controls",
            "_model_module_version": "1.5.0",
            "_model_name": "HBoxModel",
            "_view_count": null,
            "_view_module": "@jupyter-widgets/controls",
            "_view_module_version": "1.5.0",
            "_view_name": "HBoxView",
            "box_style": "",
            "children": [
              "IPY_MODEL_fb588d6c7ec94b6b9b504908c53040e2",
              "IPY_MODEL_50a4260fa2304a74b03ef6c99744ca80",
              "IPY_MODEL_9d66e4e117834c9e8217ac75617dbf72"
            ],
            "layout": "IPY_MODEL_2044855256164a7ea871654c905fc1fc"
          }
        },
        "fb588d6c7ec94b6b9b504908c53040e2": {
          "model_module": "@jupyter-widgets/controls",
          "model_name": "HTMLModel",
          "model_module_version": "1.5.0",
          "state": {
            "_dom_classes": [],
            "_model_module": "@jupyter-widgets/controls",
            "_model_module_version": "1.5.0",
            "_model_name": "HTMLModel",
            "_view_count": null,
            "_view_module": "@jupyter-widgets/controls",
            "_view_module_version": "1.5.0",
            "_view_name": "HTMLView",
            "description": "",
            "description_tooltip": null,
            "layout": "IPY_MODEL_b5983b58f0364f37aaf91230a2dd7751",
            "placeholder": "​",
            "style": "IPY_MODEL_66c2c2b47c7a468c93ee52212cb6e473",
            "value": "Downloading: 100%"
          }
        },
        "50a4260fa2304a74b03ef6c99744ca80": {
          "model_module": "@jupyter-widgets/controls",
          "model_name": "FloatProgressModel",
          "model_module_version": "1.5.0",
          "state": {
            "_dom_classes": [],
            "_model_module": "@jupyter-widgets/controls",
            "_model_module_version": "1.5.0",
            "_model_name": "FloatProgressModel",
            "_view_count": null,
            "_view_module": "@jupyter-widgets/controls",
            "_view_module_version": "1.5.0",
            "_view_name": "ProgressView",
            "bar_style": "success",
            "description": "",
            "description_tooltip": null,
            "layout": "IPY_MODEL_eb3776edcf9d4064b4237ff1f64ab99e",
            "max": 2243942751,
            "min": 0,
            "orientation": "horizontal",
            "style": "IPY_MODEL_861b0d84b5904aa29d8e2d61baf8e56b",
            "value": 2243942751
          }
        },
        "9d66e4e117834c9e8217ac75617dbf72": {
          "model_module": "@jupyter-widgets/controls",
          "model_name": "HTMLModel",
          "model_module_version": "1.5.0",
          "state": {
            "_dom_classes": [],
            "_model_module": "@jupyter-widgets/controls",
            "_model_module_version": "1.5.0",
            "_model_name": "HTMLModel",
            "_view_count": null,
            "_view_module": "@jupyter-widgets/controls",
            "_view_module_version": "1.5.0",
            "_view_name": "HTMLView",
            "description": "",
            "description_tooltip": null,
            "layout": "IPY_MODEL_a5f08c47a2674dde83aef36a2f3c350f",
            "placeholder": "​",
            "style": "IPY_MODEL_5d54d9d098e14093829ba8a665d150be",
            "value": " 2.09G/2.09G [00:40&lt;00:00, 58.5MB/s]"
          }
        },
        "2044855256164a7ea871654c905fc1fc": {
          "model_module": "@jupyter-widgets/base",
          "model_name": "LayoutModel",
          "model_module_version": "1.2.0",
          "state": {
            "_model_module": "@jupyter-widgets/base",
            "_model_module_version": "1.2.0",
            "_model_name": "LayoutModel",
            "_view_count": null,
            "_view_module": "@jupyter-widgets/base",
            "_view_module_version": "1.2.0",
            "_view_name": "LayoutView",
            "align_content": null,
            "align_items": null,
            "align_self": null,
            "border": null,
            "bottom": null,
            "display": null,
            "flex": null,
            "flex_flow": null,
            "grid_area": null,
            "grid_auto_columns": null,
            "grid_auto_flow": null,
            "grid_auto_rows": null,
            "grid_column": null,
            "grid_gap": null,
            "grid_row": null,
            "grid_template_areas": null,
            "grid_template_columns": null,
            "grid_template_rows": null,
            "height": null,
            "justify_content": null,
            "justify_items": null,
            "left": null,
            "margin": null,
            "max_height": null,
            "max_width": null,
            "min_height": null,
            "min_width": null,
            "object_fit": null,
            "object_position": null,
            "order": null,
            "overflow": null,
            "overflow_x": null,
            "overflow_y": null,
            "padding": null,
            "right": null,
            "top": null,
            "visibility": null,
            "width": null
          }
        },
        "b5983b58f0364f37aaf91230a2dd7751": {
          "model_module": "@jupyter-widgets/base",
          "model_name": "LayoutModel",
          "model_module_version": "1.2.0",
          "state": {
            "_model_module": "@jupyter-widgets/base",
            "_model_module_version": "1.2.0",
            "_model_name": "LayoutModel",
            "_view_count": null,
            "_view_module": "@jupyter-widgets/base",
            "_view_module_version": "1.2.0",
            "_view_name": "LayoutView",
            "align_content": null,
            "align_items": null,
            "align_self": null,
            "border": null,
            "bottom": null,
            "display": null,
            "flex": null,
            "flex_flow": null,
            "grid_area": null,
            "grid_auto_columns": null,
            "grid_auto_flow": null,
            "grid_auto_rows": null,
            "grid_column": null,
            "grid_gap": null,
            "grid_row": null,
            "grid_template_areas": null,
            "grid_template_columns": null,
            "grid_template_rows": null,
            "height": null,
            "justify_content": null,
            "justify_items": null,
            "left": null,
            "margin": null,
            "max_height": null,
            "max_width": null,
            "min_height": null,
            "min_width": null,
            "object_fit": null,
            "object_position": null,
            "order": null,
            "overflow": null,
            "overflow_x": null,
            "overflow_y": null,
            "padding": null,
            "right": null,
            "top": null,
            "visibility": null,
            "width": null
          }
        },
        "66c2c2b47c7a468c93ee52212cb6e473": {
          "model_module": "@jupyter-widgets/controls",
          "model_name": "DescriptionStyleModel",
          "model_module_version": "1.5.0",
          "state": {
            "_model_module": "@jupyter-widgets/controls",
            "_model_module_version": "1.5.0",
            "_model_name": "DescriptionStyleModel",
            "_view_count": null,
            "_view_module": "@jupyter-widgets/base",
            "_view_module_version": "1.2.0",
            "_view_name": "StyleView",
            "description_width": ""
          }
        },
        "eb3776edcf9d4064b4237ff1f64ab99e": {
          "model_module": "@jupyter-widgets/base",
          "model_name": "LayoutModel",
          "model_module_version": "1.2.0",
          "state": {
            "_model_module": "@jupyter-widgets/base",
            "_model_module_version": "1.2.0",
            "_model_name": "LayoutModel",
            "_view_count": null,
            "_view_module": "@jupyter-widgets/base",
            "_view_module_version": "1.2.0",
            "_view_name": "LayoutView",
            "align_content": null,
            "align_items": null,
            "align_self": null,
            "border": null,
            "bottom": null,
            "display": null,
            "flex": null,
            "flex_flow": null,
            "grid_area": null,
            "grid_auto_columns": null,
            "grid_auto_flow": null,
            "grid_auto_rows": null,
            "grid_column": null,
            "grid_gap": null,
            "grid_row": null,
            "grid_template_areas": null,
            "grid_template_columns": null,
            "grid_template_rows": null,
            "height": null,
            "justify_content": null,
            "justify_items": null,
            "left": null,
            "margin": null,
            "max_height": null,
            "max_width": null,
            "min_height": null,
            "min_width": null,
            "object_fit": null,
            "object_position": null,
            "order": null,
            "overflow": null,
            "overflow_x": null,
            "overflow_y": null,
            "padding": null,
            "right": null,
            "top": null,
            "visibility": null,
            "width": null
          }
        },
        "861b0d84b5904aa29d8e2d61baf8e56b": {
          "model_module": "@jupyter-widgets/controls",
          "model_name": "ProgressStyleModel",
          "model_module_version": "1.5.0",
          "state": {
            "_model_module": "@jupyter-widgets/controls",
            "_model_module_version": "1.5.0",
            "_model_name": "ProgressStyleModel",
            "_view_count": null,
            "_view_module": "@jupyter-widgets/base",
            "_view_module_version": "1.2.0",
            "_view_name": "StyleView",
            "bar_color": null,
            "description_width": ""
          }
        },
        "a5f08c47a2674dde83aef36a2f3c350f": {
          "model_module": "@jupyter-widgets/base",
          "model_name": "LayoutModel",
          "model_module_version": "1.2.0",
          "state": {
            "_model_module": "@jupyter-widgets/base",
            "_model_module_version": "1.2.0",
            "_model_name": "LayoutModel",
            "_view_count": null,
            "_view_module": "@jupyter-widgets/base",
            "_view_module_version": "1.2.0",
            "_view_name": "LayoutView",
            "align_content": null,
            "align_items": null,
            "align_self": null,
            "border": null,
            "bottom": null,
            "display": null,
            "flex": null,
            "flex_flow": null,
            "grid_area": null,
            "grid_auto_columns": null,
            "grid_auto_flow": null,
            "grid_auto_rows": null,
            "grid_column": null,
            "grid_gap": null,
            "grid_row": null,
            "grid_template_areas": null,
            "grid_template_columns": null,
            "grid_template_rows": null,
            "height": null,
            "justify_content": null,
            "justify_items": null,
            "left": null,
            "margin": null,
            "max_height": null,
            "max_width": null,
            "min_height": null,
            "min_width": null,
            "object_fit": null,
            "object_position": null,
            "order": null,
            "overflow": null,
            "overflow_x": null,
            "overflow_y": null,
            "padding": null,
            "right": null,
            "top": null,
            "visibility": null,
            "width": null
          }
        },
        "5d54d9d098e14093829ba8a665d150be": {
          "model_module": "@jupyter-widgets/controls",
          "model_name": "DescriptionStyleModel",
          "model_module_version": "1.5.0",
          "state": {
            "_model_module": "@jupyter-widgets/controls",
            "_model_module_version": "1.5.0",
            "_model_name": "DescriptionStyleModel",
            "_view_count": null,
            "_view_module": "@jupyter-widgets/base",
            "_view_module_version": "1.2.0",
            "_view_name": "StyleView",
            "description_width": ""
          }
        }
      }
    }
  },
  "nbformat": 4,
  "nbformat_minor": 5
}