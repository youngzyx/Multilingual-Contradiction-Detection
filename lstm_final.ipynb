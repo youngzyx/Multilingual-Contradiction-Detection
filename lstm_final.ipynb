{
  "cells": [
    {
      "cell_type": "code",
      "source": [
        "! pip install transformers\n",
        "! pip install sentencepiece"
      ],
      "metadata": {
        "colab": {
          "base_uri": "https://localhost:8080/"
        },
        "id": "HkPbiIEuEzi-",
        "outputId": "6a1c91ad-64f0-4579-87a5-331620b17871"
      },
      "id": "HkPbiIEuEzi-",
      "execution_count": 1,
      "outputs": [
        {
          "output_type": "stream",
          "name": "stdout",
          "text": [
            "Looking in indexes: https://pypi.org/simple, https://us-python.pkg.dev/colab-wheels/public/simple/\n",
            "Requirement already satisfied: transformers in /usr/local/lib/python3.7/dist-packages (4.20.1)\n",
            "Requirement already satisfied: huggingface-hub<1.0,>=0.1.0 in /usr/local/lib/python3.7/dist-packages (from transformers) (0.8.1)\n",
            "Requirement already satisfied: regex!=2019.12.17 in /usr/local/lib/python3.7/dist-packages (from transformers) (2022.6.2)\n",
            "Requirement already satisfied: numpy>=1.17 in /usr/local/lib/python3.7/dist-packages (from transformers) (1.21.6)\n",
            "Requirement already satisfied: importlib-metadata in /usr/local/lib/python3.7/dist-packages (from transformers) (4.11.4)\n",
            "Requirement already satisfied: packaging>=20.0 in /usr/local/lib/python3.7/dist-packages (from transformers) (21.3)\n",
            "Requirement already satisfied: requests in /usr/local/lib/python3.7/dist-packages (from transformers) (2.23.0)\n",
            "Requirement already satisfied: tqdm>=4.27 in /usr/local/lib/python3.7/dist-packages (from transformers) (4.64.0)\n",
            "Requirement already satisfied: pyyaml>=5.1 in /usr/local/lib/python3.7/dist-packages (from transformers) (6.0)\n",
            "Requirement already satisfied: filelock in /usr/local/lib/python3.7/dist-packages (from transformers) (3.7.1)\n",
            "Requirement already satisfied: tokenizers!=0.11.3,<0.13,>=0.11.1 in /usr/local/lib/python3.7/dist-packages (from transformers) (0.12.1)\n",
            "Requirement already satisfied: typing-extensions>=3.7.4.3 in /usr/local/lib/python3.7/dist-packages (from huggingface-hub<1.0,>=0.1.0->transformers) (4.1.1)\n",
            "Requirement already satisfied: pyparsing!=3.0.5,>=2.0.2 in /usr/local/lib/python3.7/dist-packages (from packaging>=20.0->transformers) (3.0.9)\n",
            "Requirement already satisfied: zipp>=0.5 in /usr/local/lib/python3.7/dist-packages (from importlib-metadata->transformers) (3.8.0)\n",
            "Requirement already satisfied: urllib3!=1.25.0,!=1.25.1,<1.26,>=1.21.1 in /usr/local/lib/python3.7/dist-packages (from requests->transformers) (1.24.3)\n",
            "Requirement already satisfied: certifi>=2017.4.17 in /usr/local/lib/python3.7/dist-packages (from requests->transformers) (2022.6.15)\n",
            "Requirement already satisfied: chardet<4,>=3.0.2 in /usr/local/lib/python3.7/dist-packages (from requests->transformers) (3.0.4)\n",
            "Requirement already satisfied: idna<3,>=2.5 in /usr/local/lib/python3.7/dist-packages (from requests->transformers) (2.10)\n",
            "Looking in indexes: https://pypi.org/simple, https://us-python.pkg.dev/colab-wheels/public/simple/\n",
            "Requirement already satisfied: sentencepiece in /usr/local/lib/python3.7/dist-packages (0.1.96)\n"
          ]
        }
      ]
    },
    {
      "cell_type": "code",
      "execution_count": 2,
      "id": "97015d3a",
      "metadata": {
        "ExecuteTime": {
          "end_time": "2022-06-30T04:40:26.867642Z",
          "start_time": "2022-06-30T04:40:24.029874Z"
        },
        "colab": {
          "base_uri": "https://localhost:8080/"
        },
        "id": "97015d3a",
        "outputId": "47951e37-a669-4ee6-b0d8-2361ab9834ed"
      },
      "outputs": [
        {
          "output_type": "stream",
          "name": "stdout",
          "text": [
            "1.11.0+cu113\n"
          ]
        }
      ],
      "source": [
        "#huggingface libraries \n",
        "import transformers\n",
        "from transformers import BertTokenizer, BertForSequenceClassification\n",
        "from transformers import XLMRobertaTokenizer, XLMRobertaForSequenceClassification\n",
        "from transformers import AdamW\n",
        "#torch\n",
        "import torch\n",
        "import torch.nn as nn\n",
        "import torch.nn.functional as F\n",
        "import torch.optim as optim\n",
        "from torch.utils.data import DataLoader, RandomSampler, SequentialSampler, Dataset, TensorDataset\n",
        "\n",
        "#random libraries\n",
        "from tqdm import tqdm \n",
        "import pandas as pd\n",
        "import numpy as np\n",
        "import os\n",
        "import gc\n",
        "import random\n",
        "\n",
        "# set a seed value\n",
        "torch.manual_seed(555)\n",
        "\n",
        "from sklearn.utils import shuffle\n",
        "from sklearn.metrics import roc_auc_score, accuracy_score\n",
        "\n",
        "import warnings\n",
        "warnings.filterwarnings(\"ignore\")\n",
        "\n",
        "\n",
        "print(torch.__version__)"
      ]
    },
    {
      "cell_type": "code",
      "execution_count": 3,
      "id": "03d33752",
      "metadata": {
        "ExecuteTime": {
          "end_time": "2022-06-30T04:40:29.363614Z",
          "start_time": "2022-06-30T04:40:29.353862Z"
        },
        "colab": {
          "base_uri": "https://localhost:8080/"
        },
        "id": "03d33752",
        "outputId": "35294407-d5cd-478f-d6f9-0019ead3cb4d"
      },
      "outputs": [
        {
          "output_type": "execute_result",
          "data": {
            "text/plain": [
              "device(type='cuda')"
            ]
          },
          "metadata": {},
          "execution_count": 3
        }
      ],
      "source": [
        "device = torch.device('cuda' if torch.cuda.is_available() else 'cpu')\n",
        "device"
      ]
    },
    {
      "cell_type": "code",
      "execution_count": 4,
      "id": "21e94ecd",
      "metadata": {
        "ExecuteTime": {
          "end_time": "2022-06-30T04:40:30.237426Z",
          "start_time": "2022-06-30T04:40:30.147616Z"
        },
        "id": "21e94ecd"
      },
      "outputs": [],
      "source": [
        "if device.type == 'cuda':\n",
        "  path = 'sample_data/'\n",
        "else:\n",
        "  path = 'contradictory-my-dear-watson/'\n",
        "\n",
        "df_train = pd.read_csv(path+'train.csv')\n",
        "df_test = pd.read_csv(path+'test.csv')"
      ]
    },
    {
      "cell_type": "code",
      "execution_count": 5,
      "id": "98d48c10",
      "metadata": {
        "ExecuteTime": {
          "end_time": "2022-06-30T04:58:23.717080Z",
          "start_time": "2022-06-30T04:58:23.625960Z"
        },
        "colab": {
          "base_uri": "https://localhost:8080/",
          "height": 424
        },
        "id": "98d48c10",
        "outputId": "453502e9-99a7-4fa6-c733-3907a846cfce"
      },
      "outputs": [
        {
          "output_type": "execute_result",
          "data": {
            "text/plain": [
              "           id                                            premise  \\\n",
              "0  5130fd2cb5  and these comments were considered in formulat...   \n",
              "1  5b72532a0b  These are issues that we wrestle with in pract...   \n",
              "2  3931fbe82a  Des petites choses comme celles-là font une di...   \n",
              "3  5622f0c60b  you know they can't really defend themselves l...   \n",
              "4  86aaa48b45  ในการเล่นบทบาทสมมุติก็เช่นกัน โอกาสที่จะได้แสด...   \n",
              "\n",
              "                                          hypothesis lang_abv language  label  \n",
              "0  The rules developed in the interim were put to...       en  English      0  \n",
              "1  Practice groups are not permitted to work on t...       en  English      2  \n",
              "2              J'essayais d'accomplir quelque chose.       fr   French      0  \n",
              "3  They can't defend themselves because of their ...       en  English      0  \n",
              "4    เด็กสามารถเห็นได้ว่าชาติพันธุ์แตกต่างกันอย่างไร       th     Thai      1  "
            ],
            "text/html": [
              "\n",
              "  <div id=\"df-8ac03459-3ff0-41ec-a64c-45b594feb57d\">\n",
              "    <div class=\"colab-df-container\">\n",
              "      <div>\n",
              "<style scoped>\n",
              "    .dataframe tbody tr th:only-of-type {\n",
              "        vertical-align: middle;\n",
              "    }\n",
              "\n",
              "    .dataframe tbody tr th {\n",
              "        vertical-align: top;\n",
              "    }\n",
              "\n",
              "    .dataframe thead th {\n",
              "        text-align: right;\n",
              "    }\n",
              "</style>\n",
              "<table border=\"1\" class=\"dataframe\">\n",
              "  <thead>\n",
              "    <tr style=\"text-align: right;\">\n",
              "      <th></th>\n",
              "      <th>id</th>\n",
              "      <th>premise</th>\n",
              "      <th>hypothesis</th>\n",
              "      <th>lang_abv</th>\n",
              "      <th>language</th>\n",
              "      <th>label</th>\n",
              "    </tr>\n",
              "  </thead>\n",
              "  <tbody>\n",
              "    <tr>\n",
              "      <th>0</th>\n",
              "      <td>5130fd2cb5</td>\n",
              "      <td>and these comments were considered in formulat...</td>\n",
              "      <td>The rules developed in the interim were put to...</td>\n",
              "      <td>en</td>\n",
              "      <td>English</td>\n",
              "      <td>0</td>\n",
              "    </tr>\n",
              "    <tr>\n",
              "      <th>1</th>\n",
              "      <td>5b72532a0b</td>\n",
              "      <td>These are issues that we wrestle with in pract...</td>\n",
              "      <td>Practice groups are not permitted to work on t...</td>\n",
              "      <td>en</td>\n",
              "      <td>English</td>\n",
              "      <td>2</td>\n",
              "    </tr>\n",
              "    <tr>\n",
              "      <th>2</th>\n",
              "      <td>3931fbe82a</td>\n",
              "      <td>Des petites choses comme celles-là font une di...</td>\n",
              "      <td>J'essayais d'accomplir quelque chose.</td>\n",
              "      <td>fr</td>\n",
              "      <td>French</td>\n",
              "      <td>0</td>\n",
              "    </tr>\n",
              "    <tr>\n",
              "      <th>3</th>\n",
              "      <td>5622f0c60b</td>\n",
              "      <td>you know they can't really defend themselves l...</td>\n",
              "      <td>They can't defend themselves because of their ...</td>\n",
              "      <td>en</td>\n",
              "      <td>English</td>\n",
              "      <td>0</td>\n",
              "    </tr>\n",
              "    <tr>\n",
              "      <th>4</th>\n",
              "      <td>86aaa48b45</td>\n",
              "      <td>ในการเล่นบทบาทสมมุติก็เช่นกัน โอกาสที่จะได้แสด...</td>\n",
              "      <td>เด็กสามารถเห็นได้ว่าชาติพันธุ์แตกต่างกันอย่างไร</td>\n",
              "      <td>th</td>\n",
              "      <td>Thai</td>\n",
              "      <td>1</td>\n",
              "    </tr>\n",
              "  </tbody>\n",
              "</table>\n",
              "</div>\n",
              "      <button class=\"colab-df-convert\" onclick=\"convertToInteractive('df-8ac03459-3ff0-41ec-a64c-45b594feb57d')\"\n",
              "              title=\"Convert this dataframe to an interactive table.\"\n",
              "              style=\"display:none;\">\n",
              "        \n",
              "  <svg xmlns=\"http://www.w3.org/2000/svg\" height=\"24px\"viewBox=\"0 0 24 24\"\n",
              "       width=\"24px\">\n",
              "    <path d=\"M0 0h24v24H0V0z\" fill=\"none\"/>\n",
              "    <path d=\"M18.56 5.44l.94 2.06.94-2.06 2.06-.94-2.06-.94-.94-2.06-.94 2.06-2.06.94zm-11 1L8.5 8.5l.94-2.06 2.06-.94-2.06-.94L8.5 2.5l-.94 2.06-2.06.94zm10 10l.94 2.06.94-2.06 2.06-.94-2.06-.94-.94-2.06-.94 2.06-2.06.94z\"/><path d=\"M17.41 7.96l-1.37-1.37c-.4-.4-.92-.59-1.43-.59-.52 0-1.04.2-1.43.59L10.3 9.45l-7.72 7.72c-.78.78-.78 2.05 0 2.83L4 21.41c.39.39.9.59 1.41.59.51 0 1.02-.2 1.41-.59l7.78-7.78 2.81-2.81c.8-.78.8-2.07 0-2.86zM5.41 20L4 18.59l7.72-7.72 1.47 1.35L5.41 20z\"/>\n",
              "  </svg>\n",
              "      </button>\n",
              "      \n",
              "  <style>\n",
              "    .colab-df-container {\n",
              "      display:flex;\n",
              "      flex-wrap:wrap;\n",
              "      gap: 12px;\n",
              "    }\n",
              "\n",
              "    .colab-df-convert {\n",
              "      background-color: #E8F0FE;\n",
              "      border: none;\n",
              "      border-radius: 50%;\n",
              "      cursor: pointer;\n",
              "      display: none;\n",
              "      fill: #1967D2;\n",
              "      height: 32px;\n",
              "      padding: 0 0 0 0;\n",
              "      width: 32px;\n",
              "    }\n",
              "\n",
              "    .colab-df-convert:hover {\n",
              "      background-color: #E2EBFA;\n",
              "      box-shadow: 0px 1px 2px rgba(60, 64, 67, 0.3), 0px 1px 3px 1px rgba(60, 64, 67, 0.15);\n",
              "      fill: #174EA6;\n",
              "    }\n",
              "\n",
              "    [theme=dark] .colab-df-convert {\n",
              "      background-color: #3B4455;\n",
              "      fill: #D2E3FC;\n",
              "    }\n",
              "\n",
              "    [theme=dark] .colab-df-convert:hover {\n",
              "      background-color: #434B5C;\n",
              "      box-shadow: 0px 1px 3px 1px rgba(0, 0, 0, 0.15);\n",
              "      filter: drop-shadow(0px 1px 2px rgba(0, 0, 0, 0.3));\n",
              "      fill: #FFFFFF;\n",
              "    }\n",
              "  </style>\n",
              "\n",
              "      <script>\n",
              "        const buttonEl =\n",
              "          document.querySelector('#df-8ac03459-3ff0-41ec-a64c-45b594feb57d button.colab-df-convert');\n",
              "        buttonEl.style.display =\n",
              "          google.colab.kernel.accessAllowed ? 'block' : 'none';\n",
              "\n",
              "        async function convertToInteractive(key) {\n",
              "          const element = document.querySelector('#df-8ac03459-3ff0-41ec-a64c-45b594feb57d');\n",
              "          const dataTable =\n",
              "            await google.colab.kernel.invokeFunction('convertToInteractive',\n",
              "                                                     [key], {});\n",
              "          if (!dataTable) return;\n",
              "\n",
              "          const docLinkHtml = 'Like what you see? Visit the ' +\n",
              "            '<a target=\"_blank\" href=https://colab.research.google.com/notebooks/data_table.ipynb>data table notebook</a>'\n",
              "            + ' to learn more about interactive tables.';\n",
              "          element.innerHTML = '';\n",
              "          dataTable['output_type'] = 'display_data';\n",
              "          await google.colab.output.renderOutput(dataTable, element);\n",
              "          const docLink = document.createElement('div');\n",
              "          docLink.innerHTML = docLinkHtml;\n",
              "          element.appendChild(docLink);\n",
              "        }\n",
              "      </script>\n",
              "    </div>\n",
              "  </div>\n",
              "  "
            ]
          },
          "metadata": {},
          "execution_count": 5
        }
      ],
      "source": [
        "df_train.head()"
      ]
    },
    {
      "cell_type": "code",
      "execution_count": 6,
      "id": "afc22227",
      "metadata": {
        "ExecuteTime": {
          "end_time": "2022-06-30T04:40:32.558668Z",
          "start_time": "2022-06-30T04:40:32.551692Z"
        },
        "colab": {
          "base_uri": "https://localhost:8080/"
        },
        "id": "afc22227",
        "outputId": "cba26b40-2226-469b-f4c8-e83941f1563e"
      },
      "outputs": [
        {
          "output_type": "execute_result",
          "data": {
            "text/plain": [
              "((12120, 6), (5195, 5))"
            ]
          },
          "metadata": {},
          "execution_count": 6
        }
      ],
      "source": [
        "df_train.shape,df_test.shape"
      ]
    },
    {
      "cell_type": "code",
      "execution_count": 7,
      "id": "8d0d598a",
      "metadata": {
        "ExecuteTime": {
          "end_time": "2022-06-30T04:40:33.887933Z",
          "start_time": "2022-06-30T04:40:33.880109Z"
        },
        "colab": {
          "base_uri": "https://localhost:8080/"
        },
        "id": "8d0d598a",
        "outputId": "d9339609-0e15-46b1-bd7c-851af6e0e219"
      },
      "outputs": [
        {
          "output_type": "execute_result",
          "data": {
            "text/plain": [
              "id            0\n",
              "premise       0\n",
              "hypothesis    0\n",
              "lang_abv      0\n",
              "language      0\n",
              "label         0\n",
              "dtype: int64"
            ]
          },
          "metadata": {},
          "execution_count": 7
        }
      ],
      "source": [
        "df_train.isnull().sum()"
      ]
    },
    {
      "cell_type": "code",
      "execution_count": 8,
      "id": "90a34ade",
      "metadata": {
        "ExecuteTime": {
          "end_time": "2022-06-30T04:40:35.250037Z",
          "start_time": "2022-06-30T04:40:35.242359Z"
        },
        "colab": {
          "base_uri": "https://localhost:8080/"
        },
        "id": "90a34ade",
        "outputId": "f5dea545-0fd5-4da8-e686-230997d7a935"
      },
      "outputs": [
        {
          "output_type": "execute_result",
          "data": {
            "text/plain": [
              "id            0\n",
              "premise       0\n",
              "hypothesis    0\n",
              "lang_abv      0\n",
              "language      0\n",
              "dtype: int64"
            ]
          },
          "metadata": {},
          "execution_count": 8
        }
      ],
      "source": [
        "df_test.isnull().sum()"
      ]
    },
    {
      "cell_type": "code",
      "execution_count": 9,
      "id": "e5606686",
      "metadata": {
        "ExecuteTime": {
          "end_time": "2022-06-30T04:40:35.788649Z",
          "start_time": "2022-06-30T04:40:35.756750Z"
        },
        "colab": {
          "base_uri": "https://localhost:8080/"
        },
        "id": "e5606686",
        "outputId": "e24fbfb2-b05d-4007-b9a3-b9aee5693966"
      },
      "outputs": [
        {
          "output_type": "execute_result",
          "data": {
            "text/plain": [
              "(0, 0)"
            ]
          },
          "metadata": {},
          "execution_count": 9
        }
      ],
      "source": [
        "df_train.duplicated().sum(),df_test.duplicated().sum()"
      ]
    },
    {
      "cell_type": "markdown",
      "id": "f8edd2e0",
      "metadata": {
        "id": "f8edd2e0"
      },
      "source": [
        "# Preprocessing"
      ]
    },
    {
      "cell_type": "code",
      "execution_count": 10,
      "id": "006f6504",
      "metadata": {
        "ExecuteTime": {
          "end_time": "2022-06-30T04:41:00.318165Z",
          "start_time": "2022-06-30T04:41:00.310275Z"
        },
        "id": "006f6504"
      },
      "outputs": [],
      "source": [
        "from transformers import TFAutoModel, AutoTokenizer"
      ]
    },
    {
      "cell_type": "code",
      "execution_count": 11,
      "id": "9e589a67",
      "metadata": {
        "ExecuteTime": {
          "end_time": "2022-06-30T04:40:50.792097Z",
          "start_time": "2022-06-30T04:40:50.786588Z"
        },
        "colab": {
          "base_uri": "https://localhost:8080/"
        },
        "id": "9e589a67",
        "outputId": "292f573b-68c7-4f75-ccd2-c4918c2b9277"
      },
      "outputs": [
        {
          "output_type": "execute_result",
          "data": {
            "text/plain": [
              "2"
            ]
          },
          "metadata": {},
          "execution_count": 11
        }
      ],
      "source": [
        "model_name = 'bert-base-multilingual-uncased'\n",
        "#model_name = 'xlm-roberta-base'\n",
        "# model_name = 'joeddav/xlm-roberta-large-xnli' \n",
        "batch_size = 32\n",
        "MAX_LENGTH = 256\n",
        "NUM_EPOCHS = 3\n",
        "L_RATE = 1e-5\n",
        "NUM_CORES = os.cpu_count()\n",
        "NUM_CORES"
      ]
    },
    {
      "cell_type": "code",
      "execution_count": 12,
      "id": "e07645ff",
      "metadata": {
        "ExecuteTime": {
          "end_time": "2022-06-30T05:02:03.874824Z",
          "start_time": "2022-06-30T05:02:03.868416Z"
        },
        "id": "e07645ff"
      },
      "outputs": [],
      "source": [
        "def preprocess(data1, tokenizer):\n",
        "    kwargs = { 'truncation': True,\n",
        "    'max_length': MAX_LENGTH,\n",
        "    'padding': 'max_length',\n",
        "     'return_attention_mask': True, \n",
        "    'return_token_type_ids': True     \n",
        "    }\n",
        "    data = list(zip(data1['premise'], data1['hypothesis']))\n",
        "    tokenized = tokenizer.batch_encode_plus(data,**kwargs)\n",
        "    input_ids = torch.LongTensor(tokenized.input_ids)\n",
        "    attention_masks = torch.LongTensor(tokenized.attention_mask)\n",
        "    token_type_ids = torch.LongTensor(tokenized.token_type_ids)\n",
        "    return input_ids, attention_masks, token_type_ids"
      ]
    },
    {
      "cell_type": "code",
      "execution_count": 13,
      "id": "8d40e164",
      "metadata": {
        "ExecuteTime": {
          "end_time": "2022-06-30T05:01:41.172623Z",
          "start_time": "2022-06-30T05:01:38.139005Z"
        },
        "id": "8d40e164"
      },
      "outputs": [],
      "source": [
        "tokenizer = AutoTokenizer.from_pretrained(model_name,padding_side = 'left')"
      ]
    },
    {
      "cell_type": "code",
      "execution_count": 14,
      "id": "ee871fe8",
      "metadata": {
        "ExecuteTime": {
          "end_time": "2022-06-30T04:41:29.423133Z",
          "start_time": "2022-06-30T04:41:29.411628Z"
        },
        "id": "ee871fe8"
      },
      "outputs": [],
      "source": [
        "n = len(df_train)\n",
        "idx = np.array(range(n))\n",
        "train_idx = np.random.choice(range(n),size = int(n*0.8),replace = False)\n",
        "valid_idx = idx[np.isin(idx,train_idx)==False]\n",
        "train_df = df_train.iloc[train_idx].reset_index(drop = True)\n",
        "valid_df = df_train.iloc[valid_idx].reset_index(drop = True)"
      ]
    },
    {
      "cell_type": "code",
      "execution_count": 15,
      "id": "7964f23d",
      "metadata": {
        "ExecuteTime": {
          "end_time": "2022-06-30T05:02:08.474699Z",
          "start_time": "2022-06-30T05:02:07.125929Z"
        },
        "colab": {
          "base_uri": "https://localhost:8080/"
        },
        "id": "7964f23d",
        "outputId": "f0c57b4c-3837-4d2e-8127-7a132dd7cb47"
      },
      "outputs": [
        {
          "output_type": "execute_result",
          "data": {
            "text/plain": [
              "<torch.utils.data.dataset.TensorDataset at 0x7f64e719d890>"
            ]
          },
          "metadata": {},
          "execution_count": 15
        }
      ],
      "source": [
        "input_ids, attention_masks, token_type_ids = preprocess(train_df,tokenizer)\n",
        "labels = torch.Tensor(train_df['label']).reshape(-1, 1)\n",
        "train_dataset_final = TensorDataset(input_ids,labels)\n",
        "train_dataloader = DataLoader(train_dataset_final, sampler=RandomSampler(train_dataset_final), batch_size=batch_size)\n",
        "train_dataset_final"
      ]
    },
    {
      "cell_type": "code",
      "execution_count": 16,
      "id": "e1b72bf0",
      "metadata": {
        "ExecuteTime": {
          "end_time": "2022-06-30T04:41:32.545633Z",
          "start_time": "2022-06-30T04:41:32.542363Z"
        },
        "colab": {
          "base_uri": "https://localhost:8080/"
        },
        "id": "e1b72bf0",
        "outputId": "70049c69-8e69-44b3-c935-92df9036d819"
      },
      "outputs": [
        {
          "output_type": "stream",
          "name": "stdout",
          "text": [
            "303\n"
          ]
        }
      ],
      "source": [
        "print(len(train_dataloader))"
      ]
    },
    {
      "cell_type": "code",
      "execution_count": 17,
      "id": "ee95a6cf",
      "metadata": {
        "ExecuteTime": {
          "end_time": "2022-06-30T04:41:33.744663Z",
          "start_time": "2022-06-30T04:41:33.401400Z"
        },
        "colab": {
          "base_uri": "https://localhost:8080/"
        },
        "id": "ee95a6cf",
        "outputId": "3260584a-b084-4ee5-8fdf-609b94335a58"
      },
      "outputs": [
        {
          "output_type": "execute_result",
          "data": {
            "text/plain": [
              "76"
            ]
          },
          "metadata": {},
          "execution_count": 17
        }
      ],
      "source": [
        "input_ids_test, attention_masks_test, token_type_ids_test = preprocess(valid_df,tokenizer)\n",
        "labels = torch.Tensor(valid_df['label']).reshape(-1, 1)\n",
        "test_dataset_final = TensorDataset(input_ids_test, labels)\n",
        "test_dataloader = DataLoader(test_dataset_final, sampler=SequentialSampler(test_dataset_final), batch_size=batch_size)\n",
        "len(test_dataloader)"
      ]
    },
    {
      "cell_type": "markdown",
      "id": "214b291f",
      "metadata": {
        "id": "214b291f"
      },
      "source": [
        "# Model"
      ]
    },
    {
      "cell_type": "code",
      "execution_count": 35,
      "id": "4294da7e",
      "metadata": {
        "ExecuteTime": {
          "end_time": "2022-06-30T04:45:54.585450Z",
          "start_time": "2022-06-30T04:45:54.580727Z"
        },
        "id": "4294da7e"
      },
      "outputs": [],
      "source": [
        "class LSTM(nn.Module):\n",
        "    def __init__(self, dict_length, emb_size, hidden_size):\n",
        "        super().__init__()\n",
        "\n",
        "                \n",
        "        self.emb_en = nn.Embedding(dict_length, emb_size)\n",
        "        self.lstm = nn.LSTM(input_size=emb_size, hidden_size=hidden_size, batch_first=True)\n",
        "        self.linear1 = nn.Linear(hidden_size,50)\n",
        "        self.linear2 = nn.Linear(50,3)\n",
        "        self.relu = nn.ReLU()\n",
        "        self.emb_en.weight.data.uniform_(0,0.05)\n",
        "    def forward(self, x):\n",
        "        \n",
        "        outputs, (hidden, cell) = self.lstm(self.emb_en(x))        \n",
        "        hidden = torch.squeeze(hidden)\n",
        "        out = self.linear1(hidden)\n",
        "        out = self.relu(out)\n",
        "        out = self.linear2(out)\n",
        "        return out"
      ]
    },
    {
      "cell_type": "code",
      "execution_count": 36,
      "id": "b5969d44",
      "metadata": {
        "ExecuteTime": {
          "end_time": "2022-06-30T04:45:56.779906Z",
          "start_time": "2022-06-30T04:45:56.698729Z"
        },
        "id": "b5969d44"
      },
      "outputs": [],
      "source": [
        "vocab_size = len(tokenizer.get_vocab())"
      ]
    },
    {
      "cell_type": "code",
      "execution_count": 47,
      "id": "37b723c0",
      "metadata": {
        "ExecuteTime": {
          "end_time": "2022-06-30T05:02:22.550845Z",
          "start_time": "2022-06-30T05:02:22.461897Z"
        },
        "id": "37b723c0"
      },
      "outputs": [],
      "source": [
        "model = LSTM(vocab_size,100,100).to(device)"
      ]
    },
    {
      "cell_type": "code",
      "execution_count": 48,
      "id": "ad1a1f73",
      "metadata": {
        "ExecuteTime": {
          "end_time": "2022-06-30T05:02:15.878704Z",
          "start_time": "2022-06-30T05:02:15.870450Z"
        },
        "id": "ad1a1f73"
      },
      "outputs": [],
      "source": [
        "batch = next(iter(train_dataloader))\n",
        "b_input_ids = batch[0].to(device)\n",
        "b_labels = batch[1].to(device)"
      ]
    },
    {
      "cell_type": "code",
      "execution_count": 39,
      "id": "5cf8dc32",
      "metadata": {
        "ExecuteTime": {
          "end_time": "2022-06-30T05:02:26.319845Z",
          "start_time": "2022-06-30T05:02:26.239053Z"
        },
        "colab": {
          "base_uri": "https://localhost:8080/"
        },
        "id": "5cf8dc32",
        "outputId": "005e4366-b796-46e9-e485-da8efb0aef4d"
      },
      "outputs": [
        {
          "output_type": "execute_result",
          "data": {
            "text/plain": [
              "tensor([[-0.1004, -0.0885, -0.0320],\n",
              "        [-0.1006, -0.0882, -0.0327],\n",
              "        [-0.1002, -0.0886, -0.0321],\n",
              "        [-0.1001, -0.0891, -0.0321],\n",
              "        [-0.1008, -0.0881, -0.0335],\n",
              "        [-0.1002, -0.0888, -0.0322],\n",
              "        [-0.1007, -0.0885, -0.0323],\n",
              "        [-0.1006, -0.0891, -0.0322],\n",
              "        [-0.1005, -0.0889, -0.0322],\n",
              "        [-0.1007, -0.0888, -0.0322],\n",
              "        [-0.1005, -0.0883, -0.0323],\n",
              "        [-0.1005, -0.0888, -0.0326],\n",
              "        [-0.1003, -0.0888, -0.0321],\n",
              "        [-0.1000, -0.0881, -0.0322],\n",
              "        [-0.1003, -0.0888, -0.0323],\n",
              "        [-0.1004, -0.0888, -0.0322],\n",
              "        [-0.1004, -0.0885, -0.0322],\n",
              "        [-0.1002, -0.0883, -0.0322],\n",
              "        [-0.1005, -0.0889, -0.0322],\n",
              "        [-0.1007, -0.0885, -0.0325],\n",
              "        [-0.1005, -0.0889, -0.0319],\n",
              "        [-0.1004, -0.0884, -0.0321],\n",
              "        [-0.1003, -0.0885, -0.0319],\n",
              "        [-0.1009, -0.0891, -0.0327],\n",
              "        [-0.1001, -0.0884, -0.0322],\n",
              "        [-0.1008, -0.0888, -0.0324],\n",
              "        [-0.1005, -0.0888, -0.0325],\n",
              "        [-0.1008, -0.0891, -0.0324],\n",
              "        [-0.1006, -0.0889, -0.0320],\n",
              "        [-0.1004, -0.0879, -0.0320],\n",
              "        [-0.1005, -0.0887, -0.0319],\n",
              "        [-0.1004, -0.0885, -0.0322]], device='cuda:0',\n",
              "       grad_fn=<AddmmBackward0>)"
            ]
          },
          "metadata": {},
          "execution_count": 39
        }
      ],
      "source": [
        "outputs = model(b_input_ids)\n",
        "outputs"
      ]
    },
    {
      "cell_type": "code",
      "execution_count": 40,
      "id": "d1060514",
      "metadata": {
        "ExecuteTime": {
          "end_time": "2022-06-30T05:02:56.919104Z",
          "start_time": "2022-06-30T05:02:56.904945Z"
        },
        "id": "d1060514"
      },
      "outputs": [],
      "source": [
        "seed_val = 1024\n",
        "\n",
        "random.seed(seed_val)\n",
        "np.random.seed(seed_val)\n",
        "torch.manual_seed(seed_val)\n",
        "torch.cuda.manual_seed_all(seed_val)"
      ]
    },
    {
      "cell_type": "code",
      "execution_count": 41,
      "id": "472fce30",
      "metadata": {
        "ExecuteTime": {
          "end_time": "2022-06-30T05:21:48.122076Z",
          "start_time": "2022-06-30T05:21:48.108034Z"
        },
        "id": "472fce30"
      },
      "outputs": [],
      "source": [
        "def train_loop(model,train_dl,test_dl,optimizer,epochs = 5, lossFun = nn.CrossEntropyLoss()):\n",
        "    train_losses = []\n",
        "    train_accs = []\n",
        "    valid_losses = []\n",
        "    valid_accs = []\n",
        "    softmax = nn.LogSoftmax(dim = 1)\n",
        "    for i in range(epochs):\n",
        "        model.train()\n",
        "        train_loss = []\n",
        "        correct = 0\n",
        "        n = 0\n",
        "        for data in train_dl:\n",
        "            \n",
        "            ids = data[0].to(device)\n",
        "            label = data[-1].long().squeeze(1).to(device)\n",
        "            yhat = softmax(model(ids))\n",
        "            y_pred = torch.argmax(yhat)\n",
        "            loss = lossFun(yhat, label)\n",
        "            optimizer.zero_grad()\n",
        "            loss.backward()\n",
        "            optimizer.step()\n",
        "            train_loss.append(loss)\n",
        "            correct += torch.sum(y_pred==label)\n",
        "            n+= len(label)\n",
        "#             y_preds.append(y_pred)\n",
        "#             ys.append(rating)\n",
        "        \n",
        "        trainloss= torch.mean(torch.stack(train_loss))\n",
        "        trainacc = correct/n\n",
        "        testloss,testacc = valid_loss(model,test_dl,softmax = nn.LogSoftmax(dim = 1))\n",
        "        \n",
        "        train_losses.append(trainloss)\n",
        "        train_accs.append(trainacc)\n",
        "        valid_losses.append(testloss)\n",
        "        valid_accs.append(testacc)\n",
        "        \n",
        "        print(\"train: \\t loss %.3f acc %.3f \\tvalid:\\t loss %.3f acc %.3f\" % (trainloss,trainacc, testloss,testacc)) \n",
        "    return train_losses,train_accs,valid_losses,valid_accs\n",
        "\n",
        "def valid_loss(model,test_dl,lossFun = nn.CrossEntropyLoss(),softmax=nn.LogSoftmax(dim = 1)):\n",
        "    model.eval()\n",
        "    val_loss = []\n",
        "    correct = 0\n",
        "    n = 0\n",
        "    for data in test_dl:\n",
        "        ids = data[0].to(device)\n",
        "        label = data[-1].long().squeeze(1).to(device)\n",
        "        yhat = softmax(model(ids))\n",
        "        y_pred = torch.argmax(yhat)\n",
        "        loss = lossFun(yhat, label)\n",
        "\n",
        "        val_loss.append(loss)\n",
        "        correct += torch.sum(y_pred==label)\n",
        "        n+= len(label)\n",
        "#     trainacc = torch.sum(torch.stack(y_preds)==torch.stack(ys))\n",
        "    return torch.mean(torch.stack(val_loss)),correct/n"
      ]
    },
    {
      "cell_type": "code",
      "execution_count": 49,
      "id": "d8ccada7",
      "metadata": {
        "ExecuteTime": {
          "end_time": "2022-06-30T04:45:59.135055Z",
          "start_time": "2022-06-30T04:45:59.129052Z"
        },
        "id": "d8ccada7"
      },
      "outputs": [],
      "source": [
        "optimizer = AdamW(model.parameters(),\n",
        "              lr = 0.001, \n",
        "              eps = 1e-8\n",
        "            )"
      ]
    },
    {
      "cell_type": "code",
      "source": [
        "tl = []\n",
        "ta = []\n",
        "vl = []\n",
        "va = []"
      ],
      "metadata": {
        "id": "AVPiBb0nIq9Y"
      },
      "id": "AVPiBb0nIq9Y",
      "execution_count": 50,
      "outputs": []
    },
    {
      "cell_type": "code",
      "execution_count": 51,
      "id": "c230a1fb",
      "metadata": {
        "ExecuteTime": {
          "start_time": "2022-06-30T05:22:46.359Z"
        },
        "colab": {
          "base_uri": "https://localhost:8080/"
        },
        "id": "c230a1fb",
        "outputId": "d54afde7-1599-493e-9fbf-bc2cdd14d38a"
      },
      "outputs": [
        {
          "output_type": "stream",
          "name": "stdout",
          "text": [
            "train: \t loss 1.099 acc 0.006 \tvalid:\t loss 1.099 acc 0.013\n",
            "train: \t loss 1.047 acc 0.010 \tvalid:\t loss 1.117 acc 0.019\n",
            "train: \t loss 0.710 acc 0.011 \tvalid:\t loss 1.399 acc 0.005\n",
            "train: \t loss 0.348 acc 0.017 \tvalid:\t loss 1.890 acc 0.020\n",
            "train: \t loss 0.197 acc 0.016 \tvalid:\t loss 2.394 acc 0.024\n"
          ]
        }
      ],
      "source": [
        "train_losses,train_accs,valid_losses,valid_accs = train_loop(model,train_dataloader,test_dataloader,optimizer,epochs=5)\n",
        "tl.extend(train_losses)\n",
        "ta.extend(train_accs)\n",
        "vl.extend(valid_losses)\n",
        "va.extend(valid_accs)"
      ]
    },
    {
      "cell_type": "code",
      "execution_count": 52,
      "id": "187fa430",
      "metadata": {
        "colab": {
          "base_uri": "https://localhost:8080/"
        },
        "id": "187fa430",
        "outputId": "fe2c1b69-b871-4bd7-ac50-2f7c6ddfb107"
      },
      "outputs": [
        {
          "output_type": "stream",
          "name": "stdout",
          "text": [
            "train: \t loss 0.104 acc 0.008 \tvalid:\t loss 2.713 acc 0.024\n",
            "train: \t loss 0.086 acc 0.008 \tvalid:\t loss 2.975 acc 0.024\n",
            "train: \t loss 0.074 acc 0.013 \tvalid:\t loss 3.184 acc 0.024\n",
            "train: \t loss 0.065 acc 0.009 \tvalid:\t loss 3.449 acc 0.024\n",
            "train: \t loss 0.058 acc 0.013 \tvalid:\t loss 3.785 acc 0.024\n"
          ]
        }
      ],
      "source": [
        "def update_learning_rate(optimizer, lr):\n",
        "    for g in optimizer.param_groups:\n",
        "        g['lr'] = lr\n",
        "update_learning_rate(optimizer,0.0001)\n",
        "train_losses,train_accs,valid_losses,valid_accs = train_loop(model,train_dataloader,test_dataloader,optimizer,epochs=5)\n",
        "tl.extend(train_losses)\n",
        "ta.extend(train_accs)\n",
        "vl.extend(valid_losses)\n",
        "va.extend(valid_accs)"
      ]
    },
    {
      "cell_type": "code",
      "execution_count": 53,
      "id": "23f184dd",
      "metadata": {
        "colab": {
          "base_uri": "https://localhost:8080/"
        },
        "id": "23f184dd",
        "outputId": "28c6dd58-dbc8-44a9-9d1b-17d6487dd2a1"
      },
      "outputs": [
        {
          "output_type": "stream",
          "name": "stdout",
          "text": [
            "train: \t loss 0.052 acc 0.013 \tvalid:\t loss 3.962 acc 0.024\n",
            "train: \t loss 0.047 acc 0.019 \tvalid:\t loss 4.103 acc 0.024\n",
            "train: \t loss 0.044 acc 0.021 \tvalid:\t loss 4.337 acc 0.024\n",
            "train: \t loss 0.040 acc 0.013 \tvalid:\t loss 4.611 acc 0.019\n",
            "train: \t loss 0.037 acc 0.018 \tvalid:\t loss 4.902 acc 0.019\n"
          ]
        }
      ],
      "source": [
        "train_losses,train_accs,valid_losses,valid_accs = train_loop(model,train_dataloader,test_dataloader,optimizer,epochs=5)\n",
        "tl.extend(train_losses)\n",
        "ta.extend(train_accs)\n",
        "vl.extend(valid_losses)\n",
        "va.extend(valid_accs)"
      ]
    },
    {
      "cell_type": "code",
      "source": [
        "trainloss= [t.item() for t in tl]\n",
        "validloss = [v.item() for v in vl]\n",
        "trainacc = [t.item() for t in ta]\n",
        "validacc = [v.item() for v in va]"
      ],
      "metadata": {
        "id": "-fsEjIJML5Qd"
      },
      "id": "-fsEjIJML5Qd",
      "execution_count": 66,
      "outputs": []
    },
    {
      "cell_type": "code",
      "source": [
        "import matplotlib.pyplot as plt\n",
        "\n",
        "plt.plot(trainloss)\n",
        "plt.plot(validloss)\n",
        "plt.legend(['train loss','valid loss'])\n",
        "plt.title('LSTM train/valid loss')\n",
        "plt.savefig('lstmloss.png',bbox = 'tight')"
      ],
      "metadata": {
        "colab": {
          "base_uri": "https://localhost:8080/",
          "height": 281
        },
        "id": "9hfTn5aQKpMj",
        "outputId": "dc6d4f53-aff9-4dcc-94a5-4e6eb4eb231f"
      },
      "id": "9hfTn5aQKpMj",
      "execution_count": 69,
      "outputs": [
        {
          "output_type": "display_data",
          "data": {
            "text/plain": [
              "<Figure size 432x288 with 1 Axes>"
            ],
            "image/png": "[encoded data removed]"
          },
          "metadata": {
            "needs_background": "light"
          }
        }
      ]
    },
    {
      "cell_type": "code",
      "source": [
        "plt.plot(trainacc)\n",
        "plt.plot(validacc)\n",
        "plt.legend(['train accuracy','valid accuracy'])\n",
        "plt.title('LSTM train/valid accuracy')\n",
        "plt.savefig('lstmacc.png',bbox = 'tight')"
      ],
      "metadata": {
        "colab": {
          "base_uri": "https://localhost:8080/",
          "height": 281
        },
        "id": "F5VNcjPjLpiQ",
        "outputId": "fb4059fb-142a-40bd-c44b-063bbcade402"
      },
      "id": "F5VNcjPjLpiQ",
      "execution_count": 70,
      "outputs": [
        {
          "output_type": "display_data",
          "data": {
            "text/plain": [
              "<Figure size 432x288 with 1 Axes>"
            ],
            "image/png": "[encoded data removed]"
          },
          "metadata": {
            "needs_background": "light"
          }
        }
      ]
    },
    {
      "cell_type": "code",
      "source": [
        ""
      ],
      "metadata": {
        "id": "CTBIVWgPM2fJ"
      },
      "id": "CTBIVWgPM2fJ",
      "execution_count": null,
      "outputs": []
    }
  ],
  "metadata": {
    "kernelspec": {
      "display_name": "Python 3",
      "language": "python",
      "name": "python3"
    },
    "language_info": {
      "codemirror_mode": {
        "name": "ipython",
        "version": 3
      },
      "file_extension": ".py",
      "mimetype": "text/x-python",
      "name": "python",
      "nbconvert_exporter": "python",
      "pygments_lexer": "ipython3",
      "version": "3.9.7"
    },
    "colab": {
      "name": "lstm.ipynb",
      "provenance": []
    },
    "accelerator": "GPU",
    "gpuClass": "standard"
  },
  "nbformat": 4,
  "nbformat_minor": 5
}