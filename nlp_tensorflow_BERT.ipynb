{
  "cells": [
    {
      "cell_type": "markdown",
      "id": "50de530c",
      "metadata": {
        "papermill": {
          "duration": 0.034112,
          "end_time": "2022-06-15T09:13:15.504782",
          "exception": false,
          "start_time": "2022-06-15T09:13:15.470670",
          "status": "completed"
        },
        "tags": [],
        "id": "50de530c"
      },
      "source": [
        "# Import libraries"
      ]
    },
    {
      "cell_type": "code",
      "source": [
        "! pip install transformers"
      ],
      "metadata": {
        "colab": {
          "base_uri": "https://localhost:8080/"
        },
        "id": "7Bhpl99S5pC8",
        "outputId": "e9ebd48a-d809-41be-a676-6f2629d2c190"
      },
      "id": "7Bhpl99S5pC8",
      "execution_count": 2,
      "outputs": [
        {
          "output_type": "stream",
          "name": "stdout",
          "text": [
            "Looking in indexes: https://pypi.org/simple, https://us-python.pkg.dev/colab-wheels/public/simple/\n",
            "Collecting transformers\n",
            "  Downloading transformers-4.20.1-py3-none-any.whl (4.4 MB)\n",
            "\u001b[K     |████████████████████████████████| 4.4 MB 4.6 MB/s \n",
            "\u001b[?25hRequirement already satisfied: packaging>=20.0 in /usr/local/lib/python3.7/dist-packages (from transformers) (21.3)\n",
            "Requirement already satisfied: filelock in /usr/local/lib/python3.7/dist-packages (from transformers) (3.7.1)\n",
            "Collecting pyyaml>=5.1\n",
            "  Downloading PyYAML-6.0-cp37-cp37m-manylinux_2_5_x86_64.manylinux1_x86_64.manylinux_2_12_x86_64.manylinux2010_x86_64.whl (596 kB)\n",
            "\u001b[K     |████████████████████████████████| 596 kB 36.2 MB/s \n",
            "\u001b[?25hRequirement already satisfied: numpy>=1.17 in /usr/local/lib/python3.7/dist-packages (from transformers) (1.21.6)\n",
            "Requirement already satisfied: regex!=2019.12.17 in /usr/local/lib/python3.7/dist-packages (from transformers) (2022.6.2)\n",
            "Requirement already satisfied: tqdm>=4.27 in /usr/local/lib/python3.7/dist-packages (from transformers) (4.64.0)\n",
            "Collecting huggingface-hub<1.0,>=0.1.0\n",
            "  Downloading huggingface_hub-0.8.1-py3-none-any.whl (101 kB)\n",
            "\u001b[K     |████████████████████████████████| 101 kB 10.4 MB/s \n",
            "\u001b[?25hRequirement already satisfied: importlib-metadata in /usr/local/lib/python3.7/dist-packages (from transformers) (4.11.4)\n",
            "Requirement already satisfied: requests in /usr/local/lib/python3.7/dist-packages (from transformers) (2.23.0)\n",
            "Collecting tokenizers!=0.11.3,<0.13,>=0.11.1\n",
            "  Downloading tokenizers-0.12.1-cp37-cp37m-manylinux_2_12_x86_64.manylinux2010_x86_64.whl (6.6 MB)\n",
            "\u001b[K     |████████████████████████████████| 6.6 MB 39.1 MB/s \n",
            "\u001b[?25hRequirement already satisfied: typing-extensions>=3.7.4.3 in /usr/local/lib/python3.7/dist-packages (from huggingface-hub<1.0,>=0.1.0->transformers) (4.1.1)\n",
            "Requirement already satisfied: pyparsing!=3.0.5,>=2.0.2 in /usr/local/lib/python3.7/dist-packages (from packaging>=20.0->transformers) (3.0.9)\n",
            "Requirement already satisfied: zipp>=0.5 in /usr/local/lib/python3.7/dist-packages (from importlib-metadata->transformers) (3.8.0)\n",
            "Requirement already satisfied: chardet<4,>=3.0.2 in /usr/local/lib/python3.7/dist-packages (from requests->transformers) (3.0.4)\n",
            "Requirement already satisfied: idna<3,>=2.5 in /usr/local/lib/python3.7/dist-packages (from requests->transformers) (2.10)\n",
            "Requirement already satisfied: certifi>=2017.4.17 in /usr/local/lib/python3.7/dist-packages (from requests->transformers) (2022.6.15)\n",
            "Requirement already satisfied: urllib3!=1.25.0,!=1.25.1,<1.26,>=1.21.1 in /usr/local/lib/python3.7/dist-packages (from requests->transformers) (1.24.3)\n",
            "Installing collected packages: pyyaml, tokenizers, huggingface-hub, transformers\n",
            "  Attempting uninstall: pyyaml\n",
            "    Found existing installation: PyYAML 3.13\n",
            "    Uninstalling PyYAML-3.13:\n",
            "      Successfully uninstalled PyYAML-3.13\n",
            "Successfully installed huggingface-hub-0.8.1 pyyaml-6.0 tokenizers-0.12.1 transformers-4.20.1\n"
          ]
        }
      ]
    },
    {
      "cell_type": "code",
      "execution_count": 3,
      "id": "244bbbae",
      "metadata": {
        "ExecuteTime": {
          "end_time": "2022-06-29T05:52:17.501050Z",
          "start_time": "2022-06-29T05:52:13.375355Z"
        },
        "execution": {
          "iopub.execute_input": "2022-06-15T09:13:15.588831Z",
          "iopub.status.busy": "2022-06-15T09:13:15.587568Z",
          "iopub.status.idle": "2022-06-15T09:13:23.045890Z",
          "shell.execute_reply": "2022-06-15T09:13:23.046457Z",
          "shell.execute_reply.started": "2022-06-15T09:00:14.111569Z"
        },
        "papermill": {
          "duration": 7.503329,
          "end_time": "2022-06-15T09:13:23.046779",
          "exception": false,
          "start_time": "2022-06-15T09:13:15.543450",
          "status": "completed"
        },
        "tags": [],
        "id": "244bbbae"
      },
      "outputs": [],
      "source": [
        "import os\n",
        "\n",
        "from transformers import BertTokenizer, TFBertModel\n",
        "import matplotlib.pyplot as plt\n",
        "import numpy as np\n",
        "import pandas as pd\n",
        "import seaborn as sns\n",
        "import tensorflow as tf\n",
        "import torch\n",
        "\n",
        "os.environ[\"WANDB_API_KEY\"] = \"0\""
      ]
    },
    {
      "cell_type": "code",
      "source": [
        "from google.colab import drive\n",
        "drive.mount('/content/drive')"
      ],
      "metadata": {
        "colab": {
          "base_uri": "https://localhost:8080/"
        },
        "id": "ZbCD3YEB51aA",
        "outputId": "253d047b-4095-4025-daf8-dbff028d0c61"
      },
      "id": "ZbCD3YEB51aA",
      "execution_count": 4,
      "outputs": [
        {
          "output_type": "stream",
          "name": "stdout",
          "text": [
            "Mounted at /content/drive\n"
          ]
        }
      ]
    },
    {
      "cell_type": "code",
      "source": [
        "# device = torch.device('cuda' if torch.cuda.is_available() else 'cpu')\n",
        "# if device.type == 'cuda':\n",
        "#   path = '/content/drive/MyDrive/deep_learning_project/'\n",
        "# else:\n",
        "#   path = '/content/drive/MyDrive/deep_learning_project/'\n",
        "#   # path = 'contradictory-my-dear-watson/'\n"
      ],
      "metadata": {
        "id": "uerv38Xk57Td"
      },
      "id": "uerv38Xk57Td",
      "execution_count": null,
      "outputs": []
    },
    {
      "cell_type": "code",
      "execution_count": 5,
      "id": "77fc22dc",
      "metadata": {
        "ExecuteTime": {
          "end_time": "2022-06-29T05:52:17.527498Z",
          "start_time": "2022-06-29T05:52:17.523254Z"
        },
        "execution": {
          "iopub.execute_input": "2022-06-15T09:13:23.330042Z",
          "iopub.status.busy": "2022-06-15T09:13:23.327120Z",
          "iopub.status.idle": "2022-06-15T09:13:29.726121Z",
          "shell.execute_reply": "2022-06-15T09:13:29.725570Z",
          "shell.execute_reply.started": "2022-06-15T09:00:14.411083Z"
        },
        "papermill": {
          "duration": 6.513221,
          "end_time": "2022-06-15T09:13:29.726308",
          "exception": false,
          "start_time": "2022-06-15T09:13:23.213087",
          "status": "completed"
        },
        "tags": [],
        "colab": {
          "base_uri": "https://localhost:8080/"
        },
        "id": "77fc22dc",
        "outputId": "7c23d759-40bb-4150-dcaf-ba26b6041c94"
      },
      "outputs": [
        {
          "output_type": "stream",
          "name": "stdout",
          "text": [
            "INFO:tensorflow:Deallocate tpu buffers before initializing tpu system.\n"
          ]
        },
        {
          "output_type": "stream",
          "name": "stderr",
          "text": [
            "INFO:tensorflow:Deallocate tpu buffers before initializing tpu system.\n"
          ]
        },
        {
          "output_type": "stream",
          "name": "stdout",
          "text": [
            "INFO:tensorflow:Initializing the TPU system: grpc://10.117.85.34:8470\n"
          ]
        },
        {
          "output_type": "stream",
          "name": "stderr",
          "text": [
            "INFO:tensorflow:Initializing the TPU system: grpc://10.117.85.34:8470\n"
          ]
        },
        {
          "output_type": "stream",
          "name": "stdout",
          "text": [
            "INFO:tensorflow:Finished initializing TPU system.\n"
          ]
        },
        {
          "output_type": "stream",
          "name": "stderr",
          "text": [
            "INFO:tensorflow:Finished initializing TPU system.\n",
            "WARNING:absl:`tf.distribute.experimental.TPUStrategy` is deprecated, please use  the non experimental symbol `tf.distribute.TPUStrategy` instead.\n"
          ]
        },
        {
          "output_type": "stream",
          "name": "stdout",
          "text": [
            "INFO:tensorflow:Found TPU system:\n"
          ]
        },
        {
          "output_type": "stream",
          "name": "stderr",
          "text": [
            "INFO:tensorflow:Found TPU system:\n"
          ]
        },
        {
          "output_type": "stream",
          "name": "stdout",
          "text": [
            "INFO:tensorflow:*** Num TPU Cores: 8\n"
          ]
        },
        {
          "output_type": "stream",
          "name": "stderr",
          "text": [
            "INFO:tensorflow:*** Num TPU Cores: 8\n"
          ]
        },
        {
          "output_type": "stream",
          "name": "stdout",
          "text": [
            "INFO:tensorflow:*** Num TPU Workers: 1\n"
          ]
        },
        {
          "output_type": "stream",
          "name": "stderr",
          "text": [
            "INFO:tensorflow:*** Num TPU Workers: 1\n"
          ]
        },
        {
          "output_type": "stream",
          "name": "stdout",
          "text": [
            "INFO:tensorflow:*** Num TPU Cores Per Worker: 8\n"
          ]
        },
        {
          "output_type": "stream",
          "name": "stderr",
          "text": [
            "INFO:tensorflow:*** Num TPU Cores Per Worker: 8\n"
          ]
        },
        {
          "output_type": "stream",
          "name": "stdout",
          "text": [
            "INFO:tensorflow:*** Available Device: _DeviceAttributes(/job:localhost/replica:0/task:0/device:CPU:0, CPU, 0, 0)\n"
          ]
        },
        {
          "output_type": "stream",
          "name": "stderr",
          "text": [
            "INFO:tensorflow:*** Available Device: _DeviceAttributes(/job:localhost/replica:0/task:0/device:CPU:0, CPU, 0, 0)\n"
          ]
        },
        {
          "output_type": "stream",
          "name": "stdout",
          "text": [
            "INFO:tensorflow:*** Available Device: _DeviceAttributes(/job:worker/replica:0/task:0/device:CPU:0, CPU, 0, 0)\n"
          ]
        },
        {
          "output_type": "stream",
          "name": "stderr",
          "text": [
            "INFO:tensorflow:*** Available Device: _DeviceAttributes(/job:worker/replica:0/task:0/device:CPU:0, CPU, 0, 0)\n"
          ]
        },
        {
          "output_type": "stream",
          "name": "stdout",
          "text": [
            "INFO:tensorflow:*** Available Device: _DeviceAttributes(/job:worker/replica:0/task:0/device:TPU:0, TPU, 0, 0)\n"
          ]
        },
        {
          "output_type": "stream",
          "name": "stderr",
          "text": [
            "INFO:tensorflow:*** Available Device: _DeviceAttributes(/job:worker/replica:0/task:0/device:TPU:0, TPU, 0, 0)\n"
          ]
        },
        {
          "output_type": "stream",
          "name": "stdout",
          "text": [
            "INFO:tensorflow:*** Available Device: _DeviceAttributes(/job:worker/replica:0/task:0/device:TPU:1, TPU, 0, 0)\n"
          ]
        },
        {
          "output_type": "stream",
          "name": "stderr",
          "text": [
            "INFO:tensorflow:*** Available Device: _DeviceAttributes(/job:worker/replica:0/task:0/device:TPU:1, TPU, 0, 0)\n"
          ]
        },
        {
          "output_type": "stream",
          "name": "stdout",
          "text": [
            "INFO:tensorflow:*** Available Device: _DeviceAttributes(/job:worker/replica:0/task:0/device:TPU:2, TPU, 0, 0)\n"
          ]
        },
        {
          "output_type": "stream",
          "name": "stderr",
          "text": [
            "INFO:tensorflow:*** Available Device: _DeviceAttributes(/job:worker/replica:0/task:0/device:TPU:2, TPU, 0, 0)\n"
          ]
        },
        {
          "output_type": "stream",
          "name": "stdout",
          "text": [
            "INFO:tensorflow:*** Available Device: _DeviceAttributes(/job:worker/replica:0/task:0/device:TPU:3, TPU, 0, 0)\n"
          ]
        },
        {
          "output_type": "stream",
          "name": "stderr",
          "text": [
            "INFO:tensorflow:*** Available Device: _DeviceAttributes(/job:worker/replica:0/task:0/device:TPU:3, TPU, 0, 0)\n"
          ]
        },
        {
          "output_type": "stream",
          "name": "stdout",
          "text": [
            "INFO:tensorflow:*** Available Device: _DeviceAttributes(/job:worker/replica:0/task:0/device:TPU:4, TPU, 0, 0)\n"
          ]
        },
        {
          "output_type": "stream",
          "name": "stderr",
          "text": [
            "INFO:tensorflow:*** Available Device: _DeviceAttributes(/job:worker/replica:0/task:0/device:TPU:4, TPU, 0, 0)\n"
          ]
        },
        {
          "output_type": "stream",
          "name": "stdout",
          "text": [
            "INFO:tensorflow:*** Available Device: _DeviceAttributes(/job:worker/replica:0/task:0/device:TPU:5, TPU, 0, 0)\n"
          ]
        },
        {
          "output_type": "stream",
          "name": "stderr",
          "text": [
            "INFO:tensorflow:*** Available Device: _DeviceAttributes(/job:worker/replica:0/task:0/device:TPU:5, TPU, 0, 0)\n"
          ]
        },
        {
          "output_type": "stream",
          "name": "stdout",
          "text": [
            "INFO:tensorflow:*** Available Device: _DeviceAttributes(/job:worker/replica:0/task:0/device:TPU:6, TPU, 0, 0)\n"
          ]
        },
        {
          "output_type": "stream",
          "name": "stderr",
          "text": [
            "INFO:tensorflow:*** Available Device: _DeviceAttributes(/job:worker/replica:0/task:0/device:TPU:6, TPU, 0, 0)\n"
          ]
        },
        {
          "output_type": "stream",
          "name": "stdout",
          "text": [
            "INFO:tensorflow:*** Available Device: _DeviceAttributes(/job:worker/replica:0/task:0/device:TPU:7, TPU, 0, 0)\n"
          ]
        },
        {
          "output_type": "stream",
          "name": "stderr",
          "text": [
            "INFO:tensorflow:*** Available Device: _DeviceAttributes(/job:worker/replica:0/task:0/device:TPU:7, TPU, 0, 0)\n"
          ]
        },
        {
          "output_type": "stream",
          "name": "stdout",
          "text": [
            "INFO:tensorflow:*** Available Device: _DeviceAttributes(/job:worker/replica:0/task:0/device:TPU_SYSTEM:0, TPU_SYSTEM, 0, 0)\n"
          ]
        },
        {
          "output_type": "stream",
          "name": "stderr",
          "text": [
            "INFO:tensorflow:*** Available Device: _DeviceAttributes(/job:worker/replica:0/task:0/device:TPU_SYSTEM:0, TPU_SYSTEM, 0, 0)\n"
          ]
        },
        {
          "output_type": "stream",
          "name": "stdout",
          "text": [
            "INFO:tensorflow:*** Available Device: _DeviceAttributes(/job:worker/replica:0/task:0/device:XLA_CPU:0, XLA_CPU, 0, 0)\n"
          ]
        },
        {
          "output_type": "stream",
          "name": "stderr",
          "text": [
            "INFO:tensorflow:*** Available Device: _DeviceAttributes(/job:worker/replica:0/task:0/device:XLA_CPU:0, XLA_CPU, 0, 0)\n"
          ]
        }
      ],
      "source": [
        "try:\n",
        "    tpu = tf.distribute.cluster_resolver.TPUClusterResolver()\n",
        "    tf.config.experimental_connect_to_cluster(tpu)\n",
        "    tf.tpu.experimental.initialize_tpu_system(tpu)\n",
        "    strategy = tf.distribute.experimental.TPUStrategy(tpu)\n",
        "except ValueError:\n",
        "    strategy = tf.distribute.get_strategy() # for CPU and single GPU\n",
        "    print('Number of replicas:', strategy.num_replicas_in_sync)"
      ]
    },
    {
      "cell_type": "code",
      "execution_count": 6,
      "id": "42452b71",
      "metadata": {
        "ExecuteTime": {
          "end_time": "2022-06-29T05:53:23.430817Z",
          "start_time": "2022-06-29T05:53:23.349191Z"
        },
        "execution": {
          "iopub.execute_input": "2022-06-15T09:13:29.862467Z",
          "iopub.status.busy": "2022-06-15T09:13:29.861779Z",
          "iopub.status.idle": "2022-06-15T09:13:30.051109Z",
          "shell.execute_reply": "2022-06-15T09:13:30.050335Z",
          "shell.execute_reply.started": "2022-06-15T09:00:20.493673Z"
        },
        "papermill": {
          "duration": 0.228699,
          "end_time": "2022-06-15T09:13:30.051298",
          "exception": false,
          "start_time": "2022-06-15T09:13:29.822599",
          "status": "completed"
        },
        "tags": [],
        "id": "42452b71"
      },
      "outputs": [],
      "source": [
        "df_train = pd.read_csv(\"/content/drive/MyDrive/deep_learning_project/train.csv\")\n",
        "df_test = pd.read_csv(\"/content/drive/MyDrive/deep_learning_project/test.csv\")"
      ]
    },
    {
      "cell_type": "code",
      "execution_count": 8,
      "id": "aabb037f",
      "metadata": {
        "ExecuteTime": {
          "end_time": "2022-06-29T05:53:24.443737Z",
          "start_time": "2022-06-29T05:53:24.427149Z"
        },
        "execution": {
          "iopub.execute_input": "2022-06-15T09:13:30.119192Z",
          "iopub.status.busy": "2022-06-15T09:13:30.118533Z",
          "iopub.status.idle": "2022-06-15T09:13:30.139953Z",
          "shell.execute_reply": "2022-06-15T09:13:30.140467Z",
          "shell.execute_reply.started": "2022-06-15T09:00:20.609093Z"
        },
        "papermill": {
          "duration": 0.056994,
          "end_time": "2022-06-15T09:13:30.140640",
          "exception": false,
          "start_time": "2022-06-15T09:13:30.083646",
          "status": "completed"
        },
        "tags": [],
        "colab": {
          "base_uri": "https://localhost:8080/",
          "height": 363
        },
        "id": "aabb037f",
        "outputId": "1f7fd1b4-4506-4f03-c369-150e01b1689c"
      },
      "outputs": [
        {
          "output_type": "execute_result",
          "data": {
            "text/plain": [
              "           id                                            premise  \\\n",
              "0  5130fd2cb5  and these comments were considered in formulat...   \n",
              "1  5b72532a0b  These are issues that we wrestle with in pract...   \n",
              "2  3931fbe82a  Des petites choses comme celles-là font une di...   \n",
              "3  5622f0c60b  you know they can't really defend themselves l...   \n",
              "4  86aaa48b45  ในการเล่นบทบาทสมมุติก็เช่นกัน โอกาสที่จะได้แสด...   \n",
              "5  ed7d6a1e62  Bir çiftlikte birisinin, ağıla kapatılmış bu ö...   \n",
              "6  5a0f4908a0  ریاست ہائے متحدہ امریکہ واپس آنے پر، ہج ایف بی...   \n",
              "7  fdcd1bd867              From Cockpit Country to St. Ann's Bay   \n",
              "8  7cfb3d272c  Look, it's your skin, but you're going to be i...   \n",
              "9  8c10229663  Через каждые сто градусов пятна краски меняют ...   \n",
              "\n",
              "                                          hypothesis lang_abv language  label  \n",
              "0  The rules developed in the interim were put to...       en  English      0  \n",
              "1  Practice groups are not permitted to work on t...       en  English      2  \n",
              "2              J'essayais d'accomplir quelque chose.       fr   French      0  \n",
              "3  They can't defend themselves because of their ...       en  English      0  \n",
              "4    เด็กสามารถเห็นได้ว่าชาติพันธุ์แตกต่างกันอย่างไร       th     Thai      1  \n",
              "5    Çiftlikte insanlar farklı terimler kullanırlar.       tr  Turkish      0  \n",
              "6  ہیگ کی تفتیش ایف بی آئی اہلکاروں  کی طرف سے کی...       ur     Urdu      0  \n",
              "7             From St. Ann's Bay to Cockpit Country.       en  English      2  \n",
              "8  The boss will fire you if he sees you slacking...       en  English      1  \n",
              "9         Краска изменяется в соответствии с цветом.       ru  Russian      0  "
            ],
            "text/html": [
              "\n",
              "  <div id=\"df-0dde3a95-bb85-467f-b61a-139dc9c28ae6\">\n",
              "    <div class=\"colab-df-container\">\n",
              "      <div>\n",
              "<style scoped>\n",
              "    .dataframe tbody tr th:only-of-type {\n",
              "        vertical-align: middle;\n",
              "    }\n",
              "\n",
              "    .dataframe tbody tr th {\n",
              "        vertical-align: top;\n",
              "    }\n",
              "\n",
              "    .dataframe thead th {\n",
              "        text-align: right;\n",
              "    }\n",
              "</style>\n",
              "<table border=\"1\" class=\"dataframe\">\n",
              "  <thead>\n",
              "    <tr style=\"text-align: right;\">\n",
              "      <th></th>\n",
              "      <th>id</th>\n",
              "      <th>premise</th>\n",
              "      <th>hypothesis</th>\n",
              "      <th>lang_abv</th>\n",
              "      <th>language</th>\n",
              "      <th>label</th>\n",
              "    </tr>\n",
              "  </thead>\n",
              "  <tbody>\n",
              "    <tr>\n",
              "      <th>0</th>\n",
              "      <td>5130fd2cb5</td>\n",
              "      <td>and these comments were considered in formulat...</td>\n",
              "      <td>The rules developed in the interim were put to...</td>\n",
              "      <td>en</td>\n",
              "      <td>English</td>\n",
              "      <td>0</td>\n",
              "    </tr>\n",
              "    <tr>\n",
              "      <th>1</th>\n",
              "      <td>5b72532a0b</td>\n",
              "      <td>These are issues that we wrestle with in pract...</td>\n",
              "      <td>Practice groups are not permitted to work on t...</td>\n",
              "      <td>en</td>\n",
              "      <td>English</td>\n",
              "      <td>2</td>\n",
              "    </tr>\n",
              "    <tr>\n",
              "      <th>2</th>\n",
              "      <td>3931fbe82a</td>\n",
              "      <td>Des petites choses comme celles-là font une di...</td>\n",
              "      <td>J'essayais d'accomplir quelque chose.</td>\n",
              "      <td>fr</td>\n",
              "      <td>French</td>\n",
              "      <td>0</td>\n",
              "    </tr>\n",
              "    <tr>\n",
              "      <th>3</th>\n",
              "      <td>5622f0c60b</td>\n",
              "      <td>you know they can't really defend themselves l...</td>\n",
              "      <td>They can't defend themselves because of their ...</td>\n",
              "      <td>en</td>\n",
              "      <td>English</td>\n",
              "      <td>0</td>\n",
              "    </tr>\n",
              "    <tr>\n",
              "      <th>4</th>\n",
              "      <td>86aaa48b45</td>\n",
              "      <td>ในการเล่นบทบาทสมมุติก็เช่นกัน โอกาสที่จะได้แสด...</td>\n",
              "      <td>เด็กสามารถเห็นได้ว่าชาติพันธุ์แตกต่างกันอย่างไร</td>\n",
              "      <td>th</td>\n",
              "      <td>Thai</td>\n",
              "      <td>1</td>\n",
              "    </tr>\n",
              "    <tr>\n",
              "      <th>5</th>\n",
              "      <td>ed7d6a1e62</td>\n",
              "      <td>Bir çiftlikte birisinin, ağıla kapatılmış bu ö...</td>\n",
              "      <td>Çiftlikte insanlar farklı terimler kullanırlar.</td>\n",
              "      <td>tr</td>\n",
              "      <td>Turkish</td>\n",
              "      <td>0</td>\n",
              "    </tr>\n",
              "    <tr>\n",
              "      <th>6</th>\n",
              "      <td>5a0f4908a0</td>\n",
              "      <td>ریاست ہائے متحدہ امریکہ واپس آنے پر، ہج ایف بی...</td>\n",
              "      <td>ہیگ کی تفتیش ایف بی آئی اہلکاروں  کی طرف سے کی...</td>\n",
              "      <td>ur</td>\n",
              "      <td>Urdu</td>\n",
              "      <td>0</td>\n",
              "    </tr>\n",
              "    <tr>\n",
              "      <th>7</th>\n",
              "      <td>fdcd1bd867</td>\n",
              "      <td>From Cockpit Country to St. Ann's Bay</td>\n",
              "      <td>From St. Ann's Bay to Cockpit Country.</td>\n",
              "      <td>en</td>\n",
              "      <td>English</td>\n",
              "      <td>2</td>\n",
              "    </tr>\n",
              "    <tr>\n",
              "      <th>8</th>\n",
              "      <td>7cfb3d272c</td>\n",
              "      <td>Look, it's your skin, but you're going to be i...</td>\n",
              "      <td>The boss will fire you if he sees you slacking...</td>\n",
              "      <td>en</td>\n",
              "      <td>English</td>\n",
              "      <td>1</td>\n",
              "    </tr>\n",
              "    <tr>\n",
              "      <th>9</th>\n",
              "      <td>8c10229663</td>\n",
              "      <td>Через каждые сто градусов пятна краски меняют ...</td>\n",
              "      <td>Краска изменяется в соответствии с цветом.</td>\n",
              "      <td>ru</td>\n",
              "      <td>Russian</td>\n",
              "      <td>0</td>\n",
              "    </tr>\n",
              "  </tbody>\n",
              "</table>\n",
              "</div>\n",
              "      <button class=\"colab-df-convert\" onclick=\"convertToInteractive('df-0dde3a95-bb85-467f-b61a-139dc9c28ae6')\"\n",
              "              title=\"Convert this dataframe to an interactive table.\"\n",
              "              style=\"display:none;\">\n",
              "        \n",
              "  <svg xmlns=\"http://www.w3.org/2000/svg\" height=\"24px\"viewBox=\"0 0 24 24\"\n",
              "       width=\"24px\">\n",
              "    <path d=\"M0 0h24v24H0V0z\" fill=\"none\"/>\n",
              "    <path d=\"M18.56 5.44l.94 2.06.94-2.06 2.06-.94-2.06-.94-.94-2.06-.94 2.06-2.06.94zm-11 1L8.5 8.5l.94-2.06 2.06-.94-2.06-.94L8.5 2.5l-.94 2.06-2.06.94zm10 10l.94 2.06.94-2.06 2.06-.94-2.06-.94-.94-2.06-.94 2.06-2.06.94z\"/><path d=\"M17.41 7.96l-1.37-1.37c-.4-.4-.92-.59-1.43-.59-.52 0-1.04.2-1.43.59L10.3 9.45l-7.72 7.72c-.78.78-.78 2.05 0 2.83L4 21.41c.39.39.9.59 1.41.59.51 0 1.02-.2 1.41-.59l7.78-7.78 2.81-2.81c.8-.78.8-2.07 0-2.86zM5.41 20L4 18.59l7.72-7.72 1.47 1.35L5.41 20z\"/>\n",
              "  </svg>\n",
              "      </button>\n",
              "      \n",
              "  <style>\n",
              "    .colab-df-container {\n",
              "      display:flex;\n",
              "      flex-wrap:wrap;\n",
              "      gap: 12px;\n",
              "    }\n",
              "\n",
              "    .colab-df-convert {\n",
              "      background-color: #E8F0FE;\n",
              "      border: none;\n",
              "      border-radius: 50%;\n",
              "      cursor: pointer;\n",
              "      display: none;\n",
              "      fill: #1967D2;\n",
              "      height: 32px;\n",
              "      padding: 0 0 0 0;\n",
              "      width: 32px;\n",
              "    }\n",
              "\n",
              "    .colab-df-convert:hover {\n",
              "      background-color: #E2EBFA;\n",
              "      box-shadow: 0px 1px 2px rgba(60, 64, 67, 0.3), 0px 1px 3px 1px rgba(60, 64, 67, 0.15);\n",
              "      fill: #174EA6;\n",
              "    }\n",
              "\n",
              "    [theme=dark] .colab-df-convert {\n",
              "      background-color: #3B4455;\n",
              "      fill: #D2E3FC;\n",
              "    }\n",
              "\n",
              "    [theme=dark] .colab-df-convert:hover {\n",
              "      background-color: #434B5C;\n",
              "      box-shadow: 0px 1px 3px 1px rgba(0, 0, 0, 0.15);\n",
              "      filter: drop-shadow(0px 1px 2px rgba(0, 0, 0, 0.3));\n",
              "      fill: #FFFFFF;\n",
              "    }\n",
              "  </style>\n",
              "\n",
              "      <script>\n",
              "        const buttonEl =\n",
              "          document.querySelector('#df-0dde3a95-bb85-467f-b61a-139dc9c28ae6 button.colab-df-convert');\n",
              "        buttonEl.style.display =\n",
              "          google.colab.kernel.accessAllowed ? 'block' : 'none';\n",
              "\n",
              "        async function convertToInteractive(key) {\n",
              "          const element = document.querySelector('#df-0dde3a95-bb85-467f-b61a-139dc9c28ae6');\n",
              "          const dataTable =\n",
              "            await google.colab.kernel.invokeFunction('convertToInteractive',\n",
              "                                                     [key], {});\n",
              "          if (!dataTable) return;\n",
              "\n",
              "          const docLinkHtml = 'Like what you see? Visit the ' +\n",
              "            '<a target=\"_blank\" href=https://colab.research.google.com/notebooks/data_table.ipynb>data table notebook</a>'\n",
              "            + ' to learn more about interactive tables.';\n",
              "          element.innerHTML = '';\n",
              "          dataTable['output_type'] = 'display_data';\n",
              "          await google.colab.output.renderOutput(dataTable, element);\n",
              "          const docLink = document.createElement('div');\n",
              "          docLink.innerHTML = docLinkHtml;\n",
              "          element.appendChild(docLink);\n",
              "        }\n",
              "      </script>\n",
              "    </div>\n",
              "  </div>\n",
              "  "
            ]
          },
          "metadata": {},
          "execution_count": 8
        }
      ],
      "source": [
        "df_train.head(10)"
      ]
    },
    {
      "cell_type": "code",
      "execution_count": 9,
      "id": "b96527c2",
      "metadata": {
        "ExecuteTime": {
          "end_time": "2022-06-29T05:53:25.084824Z",
          "start_time": "2022-06-29T05:53:25.075547Z"
        },
        "execution": {
          "iopub.execute_input": "2022-06-15T09:13:30.209126Z",
          "iopub.status.busy": "2022-06-15T09:13:30.208473Z",
          "iopub.status.idle": "2022-06-15T09:13:30.218852Z",
          "shell.execute_reply": "2022-06-15T09:13:30.219309Z",
          "shell.execute_reply.started": "2022-06-15T09:00:20.624491Z"
        },
        "papermill": {
          "duration": 0.046346,
          "end_time": "2022-06-15T09:13:30.219493",
          "exception": false,
          "start_time": "2022-06-15T09:13:30.173147",
          "status": "completed"
        },
        "tags": [],
        "colab": {
          "base_uri": "https://localhost:8080/",
          "height": 363
        },
        "id": "b96527c2",
        "outputId": "0ad24ce2-8f7a-4ba4-c6a1-d766a19ae861"
      },
      "outputs": [
        {
          "output_type": "execute_result",
          "data": {
            "text/plain": [
              "           id                                            premise  \\\n",
              "0  c6d58c3f69  بکس، کیسی، راہیل، یسعیاہ، کیلی، کیلی، اور کولم...   \n",
              "1  cefcc82292                             هذا هو ما تم نصحنا به.   \n",
              "2  e98005252c  et cela est en grande partie dû au fait que le...   \n",
              "3  58518c10ba                   与城市及其他公民及社区组织代表就IMA的艺术发展进行对话&amp   \n",
              "4  c32b0d16df                              Она все еще была там.   \n",
              "5  aa2510d454      His family had lost a son and a daughter now.   \n",
              "6  865d1c7b16  Steps are initiated to allow program board mem...   \n",
              "7  a16f7ed56b  C'était probablement la première chose dont je...   \n",
              "8  6d9fa191e6  agencies' operating trust, enterprise and inte...   \n",
              "9  c156e8fed5                      Hakuna aliyejua walipokwenda.   \n",
              "\n",
              "                                          hypothesis lang_abv language  \n",
              "0  کیسی کے لئے کوئی یادگار نہیں ہوگا, کولمین ہائی...       ur     Urdu  \n",
              "1  عندما يتم إخبارهم بما يجب عليهم فعله ، فشلت ال...       ar   Arabic  \n",
              "2                             Les mères se droguent.       fr   French  \n",
              "3                            IMA与其他组织合作，因为它们都依靠共享资金。       zh  Chinese  \n",
              "4     Мы думали, что она ушла, однако, она осталась.       ru  Russian  \n",
              "5        The son and daughter had lost their father.       en  English  \n",
              "6  There's enough room for 35-40 positions on the...       en  English  \n",
              "7            C'était l'un de mes premiers souvenirs.       fr   French  \n",
              "8  Agencies in financial trouble are usually audi...       en  English  \n",
              "9                         Mafiko yao ilikuwa ni siri       sw  Swahili  "
            ],
            "text/html": [
              "\n",
              "  <div id=\"df-5bbeee4b-6434-4dad-8340-8229d98024e1\">\n",
              "    <div class=\"colab-df-container\">\n",
              "      <div>\n",
              "<style scoped>\n",
              "    .dataframe tbody tr th:only-of-type {\n",
              "        vertical-align: middle;\n",
              "    }\n",
              "\n",
              "    .dataframe tbody tr th {\n",
              "        vertical-align: top;\n",
              "    }\n",
              "\n",
              "    .dataframe thead th {\n",
              "        text-align: right;\n",
              "    }\n",
              "</style>\n",
              "<table border=\"1\" class=\"dataframe\">\n",
              "  <thead>\n",
              "    <tr style=\"text-align: right;\">\n",
              "      <th></th>\n",
              "      <th>id</th>\n",
              "      <th>premise</th>\n",
              "      <th>hypothesis</th>\n",
              "      <th>lang_abv</th>\n",
              "      <th>language</th>\n",
              "    </tr>\n",
              "  </thead>\n",
              "  <tbody>\n",
              "    <tr>\n",
              "      <th>0</th>\n",
              "      <td>c6d58c3f69</td>\n",
              "      <td>بکس، کیسی، راہیل، یسعیاہ، کیلی، کیلی، اور کولم...</td>\n",
              "      <td>کیسی کے لئے کوئی یادگار نہیں ہوگا, کولمین ہائی...</td>\n",
              "      <td>ur</td>\n",
              "      <td>Urdu</td>\n",
              "    </tr>\n",
              "    <tr>\n",
              "      <th>1</th>\n",
              "      <td>cefcc82292</td>\n",
              "      <td>هذا هو ما تم نصحنا به.</td>\n",
              "      <td>عندما يتم إخبارهم بما يجب عليهم فعله ، فشلت ال...</td>\n",
              "      <td>ar</td>\n",
              "      <td>Arabic</td>\n",
              "    </tr>\n",
              "    <tr>\n",
              "      <th>2</th>\n",
              "      <td>e98005252c</td>\n",
              "      <td>et cela est en grande partie dû au fait que le...</td>\n",
              "      <td>Les mères se droguent.</td>\n",
              "      <td>fr</td>\n",
              "      <td>French</td>\n",
              "    </tr>\n",
              "    <tr>\n",
              "      <th>3</th>\n",
              "      <td>58518c10ba</td>\n",
              "      <td>与城市及其他公民及社区组织代表就IMA的艺术发展进行对话&amp;amp</td>\n",
              "      <td>IMA与其他组织合作，因为它们都依靠共享资金。</td>\n",
              "      <td>zh</td>\n",
              "      <td>Chinese</td>\n",
              "    </tr>\n",
              "    <tr>\n",
              "      <th>4</th>\n",
              "      <td>c32b0d16df</td>\n",
              "      <td>Она все еще была там.</td>\n",
              "      <td>Мы думали, что она ушла, однако, она осталась.</td>\n",
              "      <td>ru</td>\n",
              "      <td>Russian</td>\n",
              "    </tr>\n",
              "    <tr>\n",
              "      <th>5</th>\n",
              "      <td>aa2510d454</td>\n",
              "      <td>His family had lost a son and a daughter now.</td>\n",
              "      <td>The son and daughter had lost their father.</td>\n",
              "      <td>en</td>\n",
              "      <td>English</td>\n",
              "    </tr>\n",
              "    <tr>\n",
              "      <th>6</th>\n",
              "      <td>865d1c7b16</td>\n",
              "      <td>Steps are initiated to allow program board mem...</td>\n",
              "      <td>There's enough room for 35-40 positions on the...</td>\n",
              "      <td>en</td>\n",
              "      <td>English</td>\n",
              "    </tr>\n",
              "    <tr>\n",
              "      <th>7</th>\n",
              "      <td>a16f7ed56b</td>\n",
              "      <td>C'était probablement la première chose dont je...</td>\n",
              "      <td>C'était l'un de mes premiers souvenirs.</td>\n",
              "      <td>fr</td>\n",
              "      <td>French</td>\n",
              "    </tr>\n",
              "    <tr>\n",
              "      <th>8</th>\n",
              "      <td>6d9fa191e6</td>\n",
              "      <td>agencies' operating trust, enterprise and inte...</td>\n",
              "      <td>Agencies in financial trouble are usually audi...</td>\n",
              "      <td>en</td>\n",
              "      <td>English</td>\n",
              "    </tr>\n",
              "    <tr>\n",
              "      <th>9</th>\n",
              "      <td>c156e8fed5</td>\n",
              "      <td>Hakuna aliyejua walipokwenda.</td>\n",
              "      <td>Mafiko yao ilikuwa ni siri</td>\n",
              "      <td>sw</td>\n",
              "      <td>Swahili</td>\n",
              "    </tr>\n",
              "  </tbody>\n",
              "</table>\n",
              "</div>\n",
              "      <button class=\"colab-df-convert\" onclick=\"convertToInteractive('df-5bbeee4b-6434-4dad-8340-8229d98024e1')\"\n",
              "              title=\"Convert this dataframe to an interactive table.\"\n",
              "              style=\"display:none;\">\n",
              "        \n",
              "  <svg xmlns=\"http://www.w3.org/2000/svg\" height=\"24px\"viewBox=\"0 0 24 24\"\n",
              "       width=\"24px\">\n",
              "    <path d=\"M0 0h24v24H0V0z\" fill=\"none\"/>\n",
              "    <path d=\"M18.56 5.44l.94 2.06.94-2.06 2.06-.94-2.06-.94-.94-2.06-.94 2.06-2.06.94zm-11 1L8.5 8.5l.94-2.06 2.06-.94-2.06-.94L8.5 2.5l-.94 2.06-2.06.94zm10 10l.94 2.06.94-2.06 2.06-.94-2.06-.94-.94-2.06-.94 2.06-2.06.94z\"/><path d=\"M17.41 7.96l-1.37-1.37c-.4-.4-.92-.59-1.43-.59-.52 0-1.04.2-1.43.59L10.3 9.45l-7.72 7.72c-.78.78-.78 2.05 0 2.83L4 21.41c.39.39.9.59 1.41.59.51 0 1.02-.2 1.41-.59l7.78-7.78 2.81-2.81c.8-.78.8-2.07 0-2.86zM5.41 20L4 18.59l7.72-7.72 1.47 1.35L5.41 20z\"/>\n",
              "  </svg>\n",
              "      </button>\n",
              "      \n",
              "  <style>\n",
              "    .colab-df-container {\n",
              "      display:flex;\n",
              "      flex-wrap:wrap;\n",
              "      gap: 12px;\n",
              "    }\n",
              "\n",
              "    .colab-df-convert {\n",
              "      background-color: #E8F0FE;\n",
              "      border: none;\n",
              "      border-radius: 50%;\n",
              "      cursor: pointer;\n",
              "      display: none;\n",
              "      fill: #1967D2;\n",
              "      height: 32px;\n",
              "      padding: 0 0 0 0;\n",
              "      width: 32px;\n",
              "    }\n",
              "\n",
              "    .colab-df-convert:hover {\n",
              "      background-color: #E2EBFA;\n",
              "      box-shadow: 0px 1px 2px rgba(60, 64, 67, 0.3), 0px 1px 3px 1px rgba(60, 64, 67, 0.15);\n",
              "      fill: #174EA6;\n",
              "    }\n",
              "\n",
              "    [theme=dark] .colab-df-convert {\n",
              "      background-color: #3B4455;\n",
              "      fill: #D2E3FC;\n",
              "    }\n",
              "\n",
              "    [theme=dark] .colab-df-convert:hover {\n",
              "      background-color: #434B5C;\n",
              "      box-shadow: 0px 1px 3px 1px rgba(0, 0, 0, 0.15);\n",
              "      filter: drop-shadow(0px 1px 2px rgba(0, 0, 0, 0.3));\n",
              "      fill: #FFFFFF;\n",
              "    }\n",
              "  </style>\n",
              "\n",
              "      <script>\n",
              "        const buttonEl =\n",
              "          document.querySelector('#df-5bbeee4b-6434-4dad-8340-8229d98024e1 button.colab-df-convert');\n",
              "        buttonEl.style.display =\n",
              "          google.colab.kernel.accessAllowed ? 'block' : 'none';\n",
              "\n",
              "        async function convertToInteractive(key) {\n",
              "          const element = document.querySelector('#df-5bbeee4b-6434-4dad-8340-8229d98024e1');\n",
              "          const dataTable =\n",
              "            await google.colab.kernel.invokeFunction('convertToInteractive',\n",
              "                                                     [key], {});\n",
              "          if (!dataTable) return;\n",
              "\n",
              "          const docLinkHtml = 'Like what you see? Visit the ' +\n",
              "            '<a target=\"_blank\" href=https://colab.research.google.com/notebooks/data_table.ipynb>data table notebook</a>'\n",
              "            + ' to learn more about interactive tables.';\n",
              "          element.innerHTML = '';\n",
              "          dataTable['output_type'] = 'display_data';\n",
              "          await google.colab.output.renderOutput(dataTable, element);\n",
              "          const docLink = document.createElement('div');\n",
              "          docLink.innerHTML = docLinkHtml;\n",
              "          element.appendChild(docLink);\n",
              "        }\n",
              "      </script>\n",
              "    </div>\n",
              "  </div>\n",
              "  "
            ]
          },
          "metadata": {},
          "execution_count": 9
        }
      ],
      "source": [
        "df_test.head(10)"
      ]
    },
    {
      "cell_type": "code",
      "execution_count": 10,
      "id": "815cc25b",
      "metadata": {
        "ExecuteTime": {
          "end_time": "2022-06-29T05:53:25.635588Z",
          "start_time": "2022-06-29T05:53:25.631224Z"
        },
        "execution": {
          "iopub.execute_input": "2022-06-15T09:13:30.288937Z",
          "iopub.status.busy": "2022-06-15T09:13:30.288291Z",
          "iopub.status.idle": "2022-06-15T09:13:30.292504Z",
          "shell.execute_reply": "2022-06-15T09:13:30.292982Z",
          "shell.execute_reply.started": "2022-06-15T09:00:20.639682Z"
        },
        "papermill": {
          "duration": 0.040375,
          "end_time": "2022-06-15T09:13:30.293143",
          "exception": false,
          "start_time": "2022-06-15T09:13:30.252768",
          "status": "completed"
        },
        "tags": [],
        "colab": {
          "base_uri": "https://localhost:8080/"
        },
        "id": "815cc25b",
        "outputId": "7c401652-0522-488c-b690-9e8dec857dd8"
      },
      "outputs": [
        {
          "output_type": "execute_result",
          "data": {
            "text/plain": [
              "((12120, 6), (5195, 5))"
            ]
          },
          "metadata": {},
          "execution_count": 10
        }
      ],
      "source": [
        "df_train.shape, df_test.shape"
      ]
    },
    {
      "cell_type": "markdown",
      "id": "bde09a0b",
      "metadata": {
        "papermill": {
          "duration": 0.033173,
          "end_time": "2022-06-15T09:13:30.435576",
          "exception": false,
          "start_time": "2022-06-15T09:13:30.402403",
          "status": "completed"
        },
        "tags": [],
        "id": "bde09a0b"
      },
      "source": [
        "- **Premise** - a previous statement or proposition from which another is inferred or follows as a conclusion.\n",
        "- **Hypothesis** - a supposition or proposed explanation made on the basis of limited evidence as a starting point for further investigation."
      ]
    },
    {
      "cell_type": "code",
      "execution_count": 11,
      "id": "7f02176c",
      "metadata": {
        "ExecuteTime": {
          "end_time": "2022-06-29T05:53:28.165670Z",
          "start_time": "2022-06-29T05:53:28.160957Z"
        },
        "execution": {
          "iopub.execute_input": "2022-06-15T09:13:30.506484Z",
          "iopub.status.busy": "2022-06-15T09:13:30.505758Z",
          "iopub.status.idle": "2022-06-15T09:13:30.513538Z",
          "shell.execute_reply": "2022-06-15T09:13:30.514087Z",
          "shell.execute_reply.started": "2022-06-15T09:00:20.660872Z"
        },
        "papermill": {
          "duration": 0.045218,
          "end_time": "2022-06-15T09:13:30.514286",
          "exception": false,
          "start_time": "2022-06-15T09:13:30.469068",
          "status": "completed"
        },
        "tags": [],
        "colab": {
          "base_uri": "https://localhost:8080/"
        },
        "id": "7f02176c",
        "outputId": "bcdd640f-fd8a-4b7a-bd47-6ddf048638ab"
      },
      "outputs": [
        {
          "output_type": "execute_result",
          "data": {
            "text/plain": [
              "('and these comments were considered in formulating the interim rules.',\n",
              " 'The rules developed in the interim were put together with these comments in mind.')"
            ]
          },
          "metadata": {},
          "execution_count": 11
        }
      ],
      "source": [
        "df_train[\"premise\"].values[0], df_train[\"hypothesis\"].values[0]"
      ]
    },
    {
      "cell_type": "markdown",
      "id": "918d6ce4",
      "metadata": {
        "papermill": {
          "duration": 0.034588,
          "end_time": "2022-06-15T09:13:30.660603",
          "exception": false,
          "start_time": "2022-06-15T09:13:30.626015",
          "status": "completed"
        },
        "tags": [],
        "id": "918d6ce4"
      },
      "source": [
        "# EDA\n"
      ]
    },
    {
      "cell_type": "code",
      "execution_count": 16,
      "id": "3c4d342f",
      "metadata": {
        "ExecuteTime": {
          "end_time": "2022-06-29T05:53:30.774927Z",
          "start_time": "2022-06-29T05:53:30.543988Z"
        },
        "_kg_hide-input": true,
        "execution": {
          "iopub.execute_input": "2022-06-15T09:13:30.751384Z",
          "iopub.status.busy": "2022-06-15T09:13:30.750636Z",
          "iopub.status.idle": "2022-06-15T09:13:31.263485Z",
          "shell.execute_reply": "2022-06-15T09:13:31.264014Z",
          "shell.execute_reply.started": "2022-06-15T09:00:20.682060Z"
        },
        "papermill": {
          "duration": 0.56968,
          "end_time": "2022-06-15T09:13:31.264191",
          "exception": false,
          "start_time": "2022-06-15T09:13:30.694511",
          "status": "completed"
        },
        "tags": [],
        "colab": {
          "base_uri": "https://localhost:8080/",
          "height": 591
        },
        "id": "3c4d342f",
        "outputId": "836ae53e-9536-4fce-86e8-f42e064dbf8c"
      },
      "outputs": [
        {
          "output_type": "display_data",
          "data": {
            "text/plain": [
              "<Figure size 1440x720 with 1 Axes>"
            ],
            "image/png": "[encoded data removed]"
          },
          "metadata": {}
        }
      ],
      "source": [
        "fig, axes = plt.subplots(nrows=1, ncols=1, figsize=(20,10))\n",
        "\n",
        "count_classes = df_train['language'].value_counts()\n",
        "plt.pie(count_classes, \n",
        "        labels = count_classes.index, \n",
        "        startangle=90)\n",
        "plt.title(\"Languages in Train Set\")\n",
        "plt.show()"
      ]
    },
    {
      "cell_type": "code",
      "execution_count": 32,
      "id": "1e8a42dd",
      "metadata": {
        "ExecuteTime": {
          "end_time": "2022-06-29T05:53:36.782362Z",
          "start_time": "2022-06-29T05:53:36.676775Z"
        },
        "_kg_hide-input": true,
        "execution": {
          "iopub.execute_input": "2022-06-15T09:13:31.577699Z",
          "iopub.status.busy": "2022-06-15T09:13:31.576970Z",
          "iopub.status.idle": "2022-06-15T09:13:31.776476Z",
          "shell.execute_reply": "2022-06-15T09:13:31.776980Z",
          "shell.execute_reply.started": "2022-06-15T09:00:21.005946Z"
        },
        "papermill": {
          "duration": 0.247381,
          "end_time": "2022-06-15T09:13:31.777155",
          "exception": false,
          "start_time": "2022-06-15T09:13:31.529774",
          "status": "completed"
        },
        "tags": [],
        "colab": {
          "base_uri": "https://localhost:8080/",
          "height": 340
        },
        "id": "1e8a42dd",
        "outputId": "b0b71f67-0a31-4041-e5f8-790ae41f2b32"
      },
      "outputs": [
        {
          "output_type": "display_data",
          "data": {
            "text/plain": [
              "<Figure size 1080x360 with 1 Axes>"
            ],
            "image/png": "[encoded data removed]"
          },
          "metadata": {
            "needs_background": "light"
          }
        }
      ],
      "source": [
        "fig, axes = plt.subplots(nrows=1, ncols=1, figsize=(15,5))\n",
        "classes = df_train['label'].value_counts()\n",
        "ax = sns.barplot(x=classes.index, y=count_classes, ax=axes)\n",
        "ax.set_title('Label in TrainSet', fontsize=18)\n",
        "plt.show()"
      ]
    },
    {
      "cell_type": "markdown",
      "id": "8f7ef0f5",
      "metadata": {
        "papermill": {
          "duration": 0.036811,
          "end_time": "2022-06-15T09:13:31.851328",
          "exception": false,
          "start_time": "2022-06-15T09:13:31.814517",
          "status": "completed"
        },
        "tags": [],
        "id": "8f7ef0f5"
      },
      "source": [
        "# Implement Pretrained models\n",
        "Use a pretrained model, a multilingual BERT model from huggingface. \n",
        "\n",
        "Tokenizers turn sequences of words into arrays of numbers. "
      ]
    },
    {
      "cell_type": "code",
      "execution_count": 33,
      "id": "50cce6d7",
      "metadata": {
        "ExecuteTime": {
          "end_time": "2022-06-29T05:53:43.172176Z",
          "start_time": "2022-06-29T05:53:39.715108Z"
        },
        "execution": {
          "iopub.execute_input": "2022-06-15T09:13:32.003897Z",
          "iopub.status.busy": "2022-06-15T09:13:32.003195Z",
          "iopub.status.idle": "2022-06-15T09:13:34.106633Z",
          "shell.execute_reply": "2022-06-15T09:13:34.105993Z",
          "shell.execute_reply.started": "2022-06-15T09:00:21.219722Z"
        },
        "papermill": {
          "duration": 2.143745,
          "end_time": "2022-06-15T09:13:34.106831",
          "exception": false,
          "start_time": "2022-06-15T09:13:31.963086",
          "status": "completed"
        },
        "tags": [],
        "id": "50cce6d7",
        "colab": {
          "base_uri": "https://localhost:8080/",
          "height": 113,
          "referenced_widgets": [
            "5e9f685536e3493d8e673cbf1f4f9ae5",
            "49d567222b00423b9098094803d47d4f",
            "dbdf5573f1e14c2ab938b695ea921ac6",
            "55ccc2f9679d40a39fe3b34daa31f030",
            "d456d8f0df364e20b157dab5d5f32afb",
            "1bfbf491f8c147ed98a933f49a0087cb",
            "47ecf351d39a4912a106f820e0da89c3",
            "010f162f335141599b768f35463dc278",
            "86f4e007592b4fc8b4fc5fd000f7f61e",
            "ed2838be9ed742608a600805b2f6c450",
            "975d22ba210040179581b1d98036e572",
            "fb995046f7ee4ee9815cc04e84023dcd",
            "79372cceb4b348159f8e2dcd94afeaa3",
            "e84c91541f92495f96ba094ea3f30635",
            "93dd70d7b00a42289f02ee68905670e0",
            "7d0049d8d1c047af8ed777127b7e67e2",
            "4374818f2e324d67ac4674525d773b79",
            "a2b1fa44407a42b8be1e7ecd897c5e5c",
            "da5a97399ecb4d768fd832460ba7826e",
            "7bceb15f17da4bb482be50fe377de4c6",
            "86d192b963444b65abd5b1b849a28a23",
            "be3195b0dc4f487ca4d4f664d86bf2d2",
            "0c8eb80e2cb74da48968bf15d81ecaa9",
            "d76d64a992744bde892c5e6919f0b1d1",
            "c524fd6ce3064f64a4e2fa84cd0483a2",
            "e47e69b13a9c44f381125b76e1ddc30e",
            "2449ded3ac4d440a85cc4ca8ba4723ad",
            "7b201d7cebcc486184f16899e2f1c917",
            "7ea69e92e7934c3383c74447ff1709f0",
            "cfd1e5bac161410481c0c2859e2cbba0",
            "edc90caf8ac341f59654eef49b538c42",
            "4aa6afd6d4f94b56a1b6e699c8a51654",
            "b04b628fdcc846bdb61bfa036bbce212"
          ]
        },
        "outputId": "015c7488-844b-4c3e-8acc-bf85a3ebfb41"
      },
      "outputs": [
        {
          "output_type": "display_data",
          "data": {
            "text/plain": [
              "Downloading:   0%|          | 0.00/972k [00:00<?, ?B/s]"
            ],
            "application/vnd.jupyter.widget-view+json": {
              "version_major": 2,
              "version_minor": 0,
              "model_id": "5e9f685536e3493d8e673cbf1f4f9ae5"
            }
          },
          "metadata": {}
        },
        {
          "output_type": "display_data",
          "data": {
            "text/plain": [
              "Downloading:   0%|          | 0.00/29.0 [00:00<?, ?B/s]"
            ],
            "application/vnd.jupyter.widget-view+json": {
              "version_major": 2,
              "version_minor": 0,
              "model_id": "fb995046f7ee4ee9815cc04e84023dcd"
            }
          },
          "metadata": {}
        },
        {
          "output_type": "display_data",
          "data": {
            "text/plain": [
              "Downloading:   0%|          | 0.00/625 [00:00<?, ?B/s]"
            ],
            "application/vnd.jupyter.widget-view+json": {
              "version_major": 2,
              "version_minor": 0,
              "model_id": "0c8eb80e2cb74da48968bf15d81ecaa9"
            }
          },
          "metadata": {}
        }
      ],
      "source": [
        "model_name = 'bert-base-multilingual-cased' \n",
        "tokenizer = BertTokenizer.from_pretrained(model_name)"
      ]
    },
    {
      "cell_type": "code",
      "execution_count": 34,
      "id": "ce2903db",
      "metadata": {
        "ExecuteTime": {
          "end_time": "2022-06-29T05:53:43.195482Z",
          "start_time": "2022-06-29T05:53:43.174152Z"
        },
        "execution": {
          "iopub.execute_input": "2022-06-15T09:13:34.192131Z",
          "iopub.status.busy": "2022-06-15T09:13:34.191304Z",
          "iopub.status.idle": "2022-06-15T09:13:34.195421Z",
          "shell.execute_reply": "2022-06-15T09:13:34.194758Z",
          "shell.execute_reply.started": "2022-06-15T09:00:22.291424Z"
        },
        "papermill": {
          "duration": 0.049104,
          "end_time": "2022-06-15T09:13:34.195566",
          "exception": false,
          "start_time": "2022-06-15T09:13:34.146462",
          "status": "completed"
        },
        "tags": [],
        "colab": {
          "base_uri": "https://localhost:8080/"
        },
        "id": "ce2903db",
        "outputId": "d71d5feb-0d92-4f82-8aaf-4c62fa25c9a2"
      },
      "outputs": [
        {
          "output_type": "execute_result",
          "data": {
            "text/plain": [
              "119547"
            ]
          },
          "metadata": {},
          "execution_count": 34
        }
      ],
      "source": [
        "len(tokenizer.vocab)"
      ]
    },
    {
      "cell_type": "markdown",
      "id": "b6d86c24",
      "metadata": {
        "papermill": {
          "duration": 0.039479,
          "end_time": "2022-06-15T09:13:34.536384",
          "exception": false,
          "start_time": "2022-06-15T09:13:34.496905",
          "status": "completed"
        },
        "tags": [],
        "id": "b6d86c24"
      },
      "source": [
        "## 4.2 BERT\n",
        "Three kind of input data - input word IDs, input masks, and input type IDs. These allow the model to know that **the premise and hypothesis are distinct sentences**, and also to ignore any padding from the tokenizer.\n",
        "\n",
        "### Encode all of our premise/hypothesis pairs for input into BERT\n",
        "- add [CLS] token to denote **the beginning of the inputs**\n",
        "- add [SEP] token to denote the separation between **the premise and the hypothesis**. \n",
        "- pad all of the inputs to be the same size.\n",
        "\n",
        "Input is expected to start with a [CLS] \"This is a classification problem\" token, and each sentence should end with a [SEP] \"Separator\" token."
      ]
    },
    {
      "cell_type": "code",
      "execution_count": 41,
      "id": "e6144001",
      "metadata": {
        "ExecuteTime": {
          "end_time": "2022-06-29T05:53:44.945943Z",
          "start_time": "2022-06-29T05:53:44.942168Z"
        },
        "_kg_hide-input": true,
        "execution": {
          "iopub.execute_input": "2022-06-15T09:13:34.363645Z",
          "iopub.status.busy": "2022-06-15T09:13:34.362730Z",
          "iopub.status.idle": "2022-06-15T09:13:34.366199Z",
          "shell.execute_reply": "2022-06-15T09:13:34.365639Z",
          "shell.execute_reply.started": "2022-06-15T09:00:22.297711Z"
        },
        "papermill": {
          "duration": 0.04981,
          "end_time": "2022-06-15T09:13:34.366368",
          "exception": false,
          "start_time": "2022-06-15T09:13:34.316558",
          "status": "completed"
        },
        "tags": [],
        "id": "e6144001",
        "colab": {
          "base_uri": "https://localhost:8080/"
        },
        "outputId": "1a81f92a-a25b-44c4-d316-82a0912f0e4a"
      },
      "outputs": [
        {
          "output_type": "execute_result",
          "data": {
            "text/plain": [
              "[13028, 21852, 10689, 10944, 112, 188, 30181, 60041, 20182, 102]"
            ]
          },
          "metadata": {},
          "execution_count": 41
        }
      ],
      "source": [
        "def add_token(s):\n",
        "    tokens = list(tokenizer.tokenize(s)) # with tokenize\n",
        "    tokens.append('[SEP]')\n",
        "    return tokenizer.convert_tokens_to_ids(tokens)\n",
        "add_token(\"you know they can't really defend themselves\")"
      ]
    },
    {
      "cell_type": "code",
      "execution_count": 46,
      "id": "3c3fd5d7",
      "metadata": {
        "ExecuteTime": {
          "end_time": "2022-06-29T05:53:47.617684Z",
          "start_time": "2022-06-29T05:53:47.609417Z"
        },
        "_kg_hide-input": true,
        "execution": {
          "iopub.execute_input": "2022-06-15T09:13:34.625530Z",
          "iopub.status.busy": "2022-06-15T09:13:34.624706Z",
          "iopub.status.idle": "2022-06-15T09:13:34.630345Z",
          "shell.execute_reply": "2022-06-15T09:13:34.629798Z",
          "shell.execute_reply.started": "2022-06-15T09:00:22.322252Z"
        },
        "papermill": {
          "duration": 0.05428,
          "end_time": "2022-06-15T09:13:34.630541",
          "exception": false,
          "start_time": "2022-06-15T09:13:34.576261",
          "status": "completed"
        },
        "tags": [],
        "id": "3c3fd5d7"
      },
      "outputs": [],
      "source": [
        "#Pad all of the inputs to be the same size and add token\n",
        "def bert_encode(hypotheses, premises, tokenizer):\n",
        "    num_examples = len(hypotheses)\n",
        "    hypo = tf.ragged.constant([add_token(s) for s in np.array(hypotheses)])\n",
        "    print(\"hypotheses.shape: \", hypo.shape)\n",
        "    prem = tf.ragged.constant([add_token(s) for s in np.array(premises)])\n",
        "    print(\"premises.shape: \", prem.shape)\n",
        "    cls_ = [tokenizer.convert_tokens_to_ids(['[CLS]'])] * hypo.shape[0]\n",
        "    input_word_ids = tf.concat([cls_, hypo, prem], axis=-1)\n",
        "    print(\"input_word_ids.shape: \", input_word_ids.shape)\n",
        "    input_mask = tf.ones_like(input_word_ids).to_tensor(shape=(input_word_ids.shape[0], 320)) \n",
        "    print(\"input_mask.shape: \", input_mask.shape)\n",
        "    \n",
        "    type_cls = tf.zeros_like(cls_)\n",
        "    type_s1 = tf.zeros_like(hypo)\n",
        "    type_s2 = tf.ones_like(prem)\n",
        "    \n",
        "    input_type_ids = tf.concat([type_cls, type_s1, type_s2], axis=-1).to_tensor(shape=(input_word_ids.shape[0], 320))\n",
        "    \n",
        "    inputs = {'input_word_ids': input_word_ids.to_tensor(shape=(input_word_ids.shape[0], 320)),\n",
        "              'input_mask': input_mask,\n",
        "              'input_type_ids': input_type_ids}\n",
        "    print()\n",
        "    \n",
        "    return inputs\n",
        "    "
      ]
    },
    {
      "cell_type": "code",
      "execution_count": 47,
      "id": "df586b6a",
      "metadata": {
        "ExecuteTime": {
          "end_time": "2022-06-29T05:54:00.851534Z",
          "start_time": "2022-06-29T05:53:49.987244Z"
        },
        "execution": {
          "iopub.execute_input": "2022-06-15T09:13:34.725622Z",
          "iopub.status.busy": "2022-06-15T09:13:34.714913Z",
          "iopub.status.idle": "2022-06-15T09:13:55.566814Z",
          "shell.execute_reply": "2022-06-15T09:13:55.566062Z",
          "shell.execute_reply.started": "2022-06-15T09:00:22.334447Z"
        },
        "papermill": {
          "duration": 20.896769,
          "end_time": "2022-06-15T09:13:55.566964",
          "exception": false,
          "start_time": "2022-06-15T09:13:34.670195",
          "status": "completed"
        },
        "tags": [],
        "colab": {
          "base_uri": "https://localhost:8080/"
        },
        "id": "df586b6a",
        "outputId": "fa3c62c5-7d11-43cd-e555-0cdb3aba1ad0"
      },
      "outputs": [
        {
          "output_type": "stream",
          "name": "stdout",
          "text": [
            "hypotheses.shape:  (12120, None)\n",
            "premises.shape:  (12120, None)\n",
            "input_word_ids.shape:  (12120, None)\n",
            "input_mask.shape:  (12120, 320)\n",
            "\n",
            "hypotheses.shape:  (5195, None)\n",
            "premises.shape:  (5195, None)\n",
            "input_word_ids.shape:  (5195, None)\n",
            "input_mask.shape:  (5195, 320)\n",
            "\n"
          ]
        }
      ],
      "source": [
        "# encode data\n",
        "train_input = bert_encode(df_train[\"premise\"].values, df_train[\"hypothesis\"].values, tokenizer)\n",
        "test_input = bert_encode(df_test[\"premise\"].values, df_test[\"hypothesis\"].values, tokenizer)"
      ]
    },
    {
      "cell_type": "code",
      "execution_count": 48,
      "id": "1241f412",
      "metadata": {
        "ExecuteTime": {
          "end_time": "2022-06-29T05:54:00.857705Z",
          "start_time": "2022-06-29T05:54:00.853333Z"
        },
        "execution": {
          "iopub.execute_input": "2022-06-15T09:13:55.654483Z",
          "iopub.status.busy": "2022-06-15T09:13:55.653723Z",
          "iopub.status.idle": "2022-06-15T09:13:55.734330Z",
          "shell.execute_reply": "2022-06-15T09:13:55.734823Z",
          "shell.execute_reply.started": "2022-06-15T09:00:42.273151Z"
        },
        "papermill": {
          "duration": 0.126802,
          "end_time": "2022-06-15T09:13:55.734996",
          "exception": false,
          "start_time": "2022-06-15T09:13:55.608194",
          "status": "completed"
        },
        "tags": [],
        "colab": {
          "base_uri": "https://localhost:8080/"
        },
        "id": "1241f412",
        "outputId": "5dd7dccc-9b50-4151-bbc8-51d52ea11d34"
      },
      "outputs": [
        {
          "output_type": "execute_result",
          "data": {
            "text/plain": [
              "{'input_mask': <tf.Tensor: shape=(12120, 320), dtype=int32, numpy=\n",
              " array([[1, 1, 1, ..., 0, 0, 0],\n",
              "        [1, 1, 1, ..., 0, 0, 0],\n",
              "        [1, 1, 1, ..., 0, 0, 0],\n",
              "        ...,\n",
              "        [1, 1, 1, ..., 0, 0, 0],\n",
              "        [1, 1, 1, ..., 0, 0, 0],\n",
              "        [1, 1, 1, ..., 0, 0, 0]], dtype=int32)>,\n",
              " 'input_type_ids': <tf.Tensor: shape=(12120, 320), dtype=int32, numpy=\n",
              " array([[0, 0, 0, ..., 0, 0, 0],\n",
              "        [0, 0, 0, ..., 0, 0, 0],\n",
              "        [0, 0, 0, ..., 0, 0, 0],\n",
              "        ...,\n",
              "        [0, 0, 0, ..., 0, 0, 0],\n",
              "        [0, 0, 0, ..., 0, 0, 0],\n",
              "        [0, 0, 0, ..., 0, 0, 0]], dtype=int32)>,\n",
              " 'input_word_ids': <tf.Tensor: shape=(12120, 320), dtype=int32, numpy=\n",
              " array([[  101, 10111, 11762, ...,     0,     0,     0],\n",
              "        [  101, 13252, 10301, ...,     0,     0,     0],\n",
              "        [  101, 13810, 32181, ...,     0,     0,     0],\n",
              "        ...,\n",
              "        [  101, 10117, 12452, ...,     0,     0,     0],\n",
              "        [  101, 11699, 10105, ...,     0,     0,     0],\n",
              "        [  101, 11399, 14764, ...,     0,     0,     0]], dtype=int32)>}"
            ]
          },
          "metadata": {},
          "execution_count": 48
        }
      ],
      "source": [
        "train_input"
      ]
    },
    {
      "cell_type": "code",
      "execution_count": 49,
      "id": "97eb28e5",
      "metadata": {
        "ExecuteTime": {
          "end_time": "2022-06-29T05:54:00.893672Z",
          "start_time": "2022-06-29T05:54:00.859698Z"
        },
        "execution": {
          "iopub.execute_input": "2022-06-15T09:13:55.824144Z",
          "iopub.status.busy": "2022-06-15T09:13:55.823183Z",
          "iopub.status.idle": "2022-06-15T09:13:55.845563Z",
          "shell.execute_reply": "2022-06-15T09:13:55.846068Z",
          "shell.execute_reply.started": "2022-06-15T09:00:42.341632Z"
        },
        "papermill": {
          "duration": 0.069334,
          "end_time": "2022-06-15T09:13:55.846255",
          "exception": false,
          "start_time": "2022-06-15T09:13:55.776921",
          "status": "completed"
        },
        "tags": [],
        "colab": {
          "base_uri": "https://localhost:8080/"
        },
        "id": "97eb28e5",
        "outputId": "263eedbd-333a-40be-8779-9927b88f5da9"
      },
      "outputs": [
        {
          "output_type": "execute_result",
          "data": {
            "text/plain": [
              "{'input_mask': <tf.Tensor: shape=(5195, 320), dtype=int32, numpy=\n",
              " array([[1, 1, 1, ..., 0, 0, 0],\n",
              "        [1, 1, 1, ..., 0, 0, 0],\n",
              "        [1, 1, 1, ..., 0, 0, 0],\n",
              "        ...,\n",
              "        [1, 1, 1, ..., 0, 0, 0],\n",
              "        [1, 1, 1, ..., 0, 0, 0],\n",
              "        [1, 1, 1, ..., 0, 0, 0]], dtype=int32)>,\n",
              " 'input_type_ids': <tf.Tensor: shape=(5195, 320), dtype=int32, numpy=\n",
              " array([[0, 0, 0, ..., 0, 0, 0],\n",
              "        [0, 0, 0, ..., 0, 0, 0],\n",
              "        [0, 0, 0, ..., 0, 0, 0],\n",
              "        ...,\n",
              "        [0, 0, 0, ..., 0, 0, 0],\n",
              "        [0, 0, 0, ..., 0, 0, 0],\n",
              "        [0, 0, 0, ..., 0, 0, 0]], dtype=int32)>,\n",
              " 'input_word_ids': <tf.Tensor: shape=(5195, 320), dtype=int32, numpy=\n",
              " array([[  101,   764, 28744, ...,     0,     0,     0],\n",
              "        [  101, 13498, 11917, ...,     0,     0,     0],\n",
              "        [  101, 10131, 24552, ...,     0,     0,     0],\n",
              "        ...,\n",
              "        [  101,  3239,  5755, ...,     0,     0,     0],\n",
              "        [  101, 98370,   112, ...,     0,     0,     0],\n",
              "        [  101, 10167, 15078, ...,     0,     0,     0]], dtype=int32)>}"
            ]
          },
          "metadata": {},
          "execution_count": 49
        }
      ],
      "source": [
        "test_input"
      ]
    },
    {
      "cell_type": "markdown",
      "id": "d1564615",
      "metadata": {
        "papermill": {
          "duration": 0.04135,
          "end_time": "2022-06-15T09:13:55.929221",
          "exception": false,
          "start_time": "2022-06-15T09:13:55.887871",
          "status": "completed"
        },
        "tags": [],
        "id": "d1564615"
      },
      "source": [
        "# Train Neural Network Model (Using Keras)"
      ]
    },
    {
      "cell_type": "code",
      "execution_count": 51,
      "id": "02ae1b2c",
      "metadata": {
        "ExecuteTime": {
          "end_time": "2022-06-29T05:54:00.907432Z",
          "start_time": "2022-06-29T05:54:00.902557Z"
        },
        "execution": {
          "iopub.execute_input": "2022-06-15T09:13:56.022714Z",
          "iopub.status.busy": "2022-06-15T09:13:56.016493Z",
          "iopub.status.idle": "2022-06-15T09:13:56.024585Z",
          "shell.execute_reply": "2022-06-15T09:13:56.025164Z",
          "shell.execute_reply.started": "2022-06-15T09:00:42.373050Z"
        },
        "papermill": {
          "duration": 0.053186,
          "end_time": "2022-06-15T09:13:56.025353",
          "exception": false,
          "start_time": "2022-06-15T09:13:55.972167",
          "status": "completed"
        },
        "tags": [],
        "id": "02ae1b2c",
        "colab": {
          "base_uri": "https://localhost:8080/"
        },
        "outputId": "b497606d-9582-4ea9-bb83-6ca7eb1af13f"
      },
      "outputs": [
        {
          "output_type": "stream",
          "name": "stderr",
          "text": [
            "Some layers from the model checkpoint at bert-base-multilingual-cased were not used when initializing TFBertModel: ['mlm___cls', 'nsp___cls']\n",
            "- This IS expected if you are initializing TFBertModel from the checkpoint of a model trained on another task or with another architecture (e.g. initializing a BertForSequenceClassification model from a BertForPreTraining model).\n",
            "- This IS NOT expected if you are initializing TFBertModel from the checkpoint of a model that you expect to be exactly identical (initializing a BertForSequenceClassification model from a BertForSequenceClassification model).\n",
            "All the layers of TFBertModel were initialized from the model checkpoint at bert-base-multilingual-cased.\n",
            "If your task is similar to the task the model of the checkpoint was trained on, you can already use TFBertModel for predictions without further training.\n",
            "/usr/local/lib/python3.7/dist-packages/keras/optimizer_v2/adam.py:105: UserWarning: The `lr` argument is deprecated, use `learning_rate` instead.\n",
            "  super(Adam, self).__init__(name, **kwargs)\n"
          ]
        }
      ],
      "source": [
        "max_len = train_input[\"input_word_ids\"].shape[1]\n",
        "model_name = 'bert-base-multilingual-cased' \n",
        "bert_encoder = TFBertModel.from_pretrained(model_name)\n",
        "#input\n",
        "word_ids = tf.keras.Input(shape=(max_len,), dtype=tf.int32, name=\"word_ids\")\n",
        "mask = tf.keras.Input(shape=(max_len,), dtype=tf.int32, name=\"mask\")\n",
        "type_ids = tf.keras.Input(shape=(max_len,), dtype=tf.int32, name=\"type_ids\")\n",
        "\n",
        "embedding = bert_encoder([word_ids, mask, type_ids])[0]\n",
        "output = tf.keras.layers.Dense(3, activation='softmax')(embedding[:,0,:])\n",
        "\n",
        "model = tf.keras.Model(inputs=[input_word_ids, mask, type_ids], outputs=output)\n",
        "model.compile(tf.keras.optimizers.Adam(lr=1e-5), loss='sparse_categorical_crossentropy', metrics=['accuracy'])\n"
      ]
    },
    {
      "cell_type": "code",
      "execution_count": 53,
      "id": "d466159d",
      "metadata": {
        "ExecuteTime": {
          "start_time": "2022-06-29T06:00:34.454Z"
        },
        "execution": {
          "iopub.execute_input": "2022-06-15T09:15:14.738864Z",
          "iopub.status.busy": "2022-06-15T09:15:14.738128Z",
          "iopub.status.idle": "2022-06-15T09:22:41.132207Z",
          "shell.execute_reply": "2022-06-15T09:22:41.131599Z",
          "shell.execute_reply.started": "2022-06-15T09:01:00.308276Z"
        },
        "papermill": {
          "duration": 446.442419,
          "end_time": "2022-06-15T09:22:41.132453",
          "exception": false,
          "start_time": "2022-06-15T09:15:14.690034",
          "status": "completed"
        },
        "tags": [],
        "colab": {
          "base_uri": "https://localhost:8080/"
        },
        "id": "d466159d",
        "outputId": "0158f81f-89ad-4cd4-f52a-c54ef62292b7"
      },
      "outputs": [
        {
          "metadata": {
            "tags": null
          },
          "name": "stdout",
          "output_type": "stream",
          "text": [
            "Epoch 1/2\n",
            "WARNING:tensorflow:Gradients do not exist for variables ['tf_bert_model_2/bert/pooler/dense/kernel:0', 'tf_bert_model_2/bert/pooler/dense/bias:0'] when minimizing the loss. If you're using `model.compile()`, did you forget to provide a `loss`argument?\n"
          ]
        },
        {
          "metadata": {
            "tags": null
          },
          "name": "stderr",
          "output_type": "stream",
          "text": [
            "WARNING:tensorflow:Gradients do not exist for variables ['tf_bert_model_2/bert/pooler/dense/kernel:0', 'tf_bert_model_2/bert/pooler/dense/bias:0'] when minimizing the loss. If you're using `model.compile()`, did you forget to provide a `loss`argument?\n"
          ]
        },
        {
          "metadata": {
            "tags": null
          },
          "name": "stdout",
          "output_type": "stream",
          "text": [
            "WARNING:tensorflow:Gradients do not exist for variables ['tf_bert_model_2/bert/pooler/dense/kernel:0', 'tf_bert_model_2/bert/pooler/dense/bias:0'] when minimizing the loss. If you're using `model.compile()`, did you forget to provide a `loss`argument?\n"
          ]
        },
        {
          "metadata": {
            "tags": null
          },
          "name": "stderr",
          "output_type": "stream",
          "text": [
            "WARNING:tensorflow:Gradients do not exist for variables ['tf_bert_model_2/bert/pooler/dense/kernel:0', 'tf_bert_model_2/bert/pooler/dense/bias:0'] when minimizing the loss. If you're using `model.compile()`, did you forget to provide a `loss`argument?\n"
          ]
        },
        {
          "output_type": "stream",
          "name": "stdout",
          "text": [
            "76/76 [==============================] - 2953s 39s/step - loss: 1.0153 - accuracy: 0.4774 - val_loss: 0.8787 - val_accuracy: 0.5998\n",
            "Epoch 2/2\n",
            "76/76 [==============================] - 2926s 39s/step - loss: 0.8078 - accuracy: 0.6447 - val_loss: 0.8226 - val_accuracy: 0.6374\n"
          ]
        }
      ],
      "source": [
        "model_history = model.fit(train_input, \n",
        "                          df_train[\"label\"].values, \n",
        "                          epochs = 2, \n",
        "                          verbose = 1,\n",
        "                          batch_size = 128, \n",
        "                          validation_split = 0.2)"
      ]
    },
    {
      "cell_type": "code",
      "execution_count": 56,
      "id": "8cf60a76",
      "metadata": {
        "ExecuteTime": {
          "start_time": "2022-06-29T06:07:14.426Z"
        },
        "_kg_hide-input": true,
        "execution": {
          "iopub.execute_input": "2022-06-15T09:22:43.293507Z",
          "iopub.status.busy": "2022-06-15T09:22:43.292806Z",
          "iopub.status.idle": "2022-06-15T09:22:43.295703Z",
          "shell.execute_reply": "2022-06-15T09:22:43.295156Z",
          "shell.execute_reply.started": "2022-06-15T09:08:32.019434Z"
        },
        "papermill": {
          "duration": 0.527513,
          "end_time": "2022-06-15T09:22:43.295843",
          "exception": false,
          "start_time": "2022-06-15T09:22:42.768330",
          "status": "completed"
        },
        "tags": [],
        "id": "8cf60a76",
        "colab": {
          "base_uri": "https://localhost:8080/",
          "height": 417
        },
        "outputId": "f8d5b791-3cb5-402e-d1b5-54de35f850db"
      },
      "outputs": [
        {
          "output_type": "display_data",
          "data": {
            "text/plain": [
              "<Figure size 1080x432 with 2 Axes>"
            ],
            "image/png": "[encoded data removed]"
          },
          "metadata": {
            "needs_background": "light"
          }
        }
      ],
      "source": [
        "fig, axes = plt.subplots(nrows=1, ncols=2, figsize=(15,6))\n",
        "fig.suptitle('RoBERTa vs. BERT - Model Loss', fontsize=18)\n",
        "\n",
        "axes[0].plot([584.2621483588591/1940, 400.04079199407715/1940], label='train loss', color='g', axes=axes[0])\n",
        "axes[0].plot([0.3408783759197172, 0.06408783759197172], label='val loss', color='r', axes=axes[0])\n",
        "axes[0].set_title(\"RoBERTa - Model Loss\", fontsize=16) \n",
        "axes[0].legend(loc='upper left')\n",
        "\n",
        "axes[1].plot(model_history.history['loss'], label='train loss', color='g', axes=axes[1])\n",
        "axes[1].plot(model_history.history['val_loss'], label='val loss', color='r', axes=axes[1])\n",
        "axes[1].set_title(\"BERT - Model Loss\", fontsize=16) \n",
        "axes[1].legend(loc='upper left')\n",
        "\n",
        "plt.show()"
      ]
    },
    {
      "cell_type": "code",
      "source": [
        "model_history.history"
      ],
      "metadata": {
        "colab": {
          "base_uri": "https://localhost:8080/"
        },
        "id": "oR_eWAGeZKal",
        "outputId": "80e20fc0-b3ec-4f35-efb6-1acfec704df8"
      },
      "id": "oR_eWAGeZKal",
      "execution_count": 57,
      "outputs": [
        {
          "output_type": "execute_result",
          "data": {
            "text/plain": [
              "{'accuracy': [0.4774133563041687, 0.6446988582611084],\n",
              " 'loss': [1.0152528285980225, 0.8078160285949707],\n",
              " 'val_accuracy': [0.5998349785804749, 0.6373762488365173],\n",
              " 'val_loss': [0.8787031173706055, 0.8226389288902283]}"
            ]
          },
          "metadata": {},
          "execution_count": 57
        }
      ]
    },
    {
      "cell_type": "markdown",
      "id": "e8d2bbc3",
      "metadata": {
        "execution": {
          "iopub.execute_input": "2021-12-03T19:22:22.505161Z",
          "iopub.status.busy": "2021-12-03T19:22:22.504812Z",
          "iopub.status.idle": "2021-12-03T19:22:22.508925Z",
          "shell.execute_reply": "2021-12-03T19:22:22.508094Z",
          "shell.execute_reply.started": "2021-12-03T19:22:22.505124Z"
        },
        "papermill": {
          "duration": 0.512619,
          "end_time": "2022-06-15T09:22:45.705271",
          "exception": false,
          "start_time": "2022-06-15T09:22:45.192652",
          "status": "completed"
        },
        "tags": [],
        "id": "e8d2bbc3"
      },
      "source": [
        "# Test Neural Network"
      ]
    },
    {
      "cell_type": "code",
      "execution_count": null,
      "id": "24acaf9f",
      "metadata": {
        "ExecuteTime": {
          "start_time": "2022-06-29T06:07:15.788Z"
        },
        "execution": {
          "iopub.execute_input": "2022-06-15T09:22:46.745682Z",
          "iopub.status.busy": "2022-06-15T09:22:46.742442Z",
          "iopub.status.idle": "2022-06-15T09:23:03.132026Z",
          "shell.execute_reply": "2022-06-15T09:23:03.131200Z",
          "shell.execute_reply.started": "2022-06-15T09:08:32.411759Z"
        },
        "papermill": {
          "duration": 16.911742,
          "end_time": "2022-06-15T09:23:03.132177",
          "exception": false,
          "start_time": "2022-06-15T09:22:46.220435",
          "status": "completed"
        },
        "tags": [],
        "id": "24acaf9f"
      },
      "outputs": [],
      "source": [
        "y_prob = model.predict(test_input)\n",
        "y_hat = y_prob.argmax(axis=-1)\n",
        "\n",
        "submission = df_test.id.copy().to_frame()\n",
        "submission['prediction'] = y_hat\n",
        "submission.head() "
      ]
    },
    {
      "cell_type": "markdown",
      "source": [
        "reference; https://www.kaggle.com/code/as411011/contradictory-my-dear-watson-nlp-tensorflow"
      ],
      "metadata": {
        "id": "6aTylQVRZslh"
      },
      "id": "6aTylQVRZslh"
    }
  ],
  "metadata": {
    "kernelspec": {
      "display_name": "Python 3 (ipykernel)",
      "language": "python",
      "name": "python3"
    },
    "language_info": {
      "codemirror_mode": {
        "name": "ipython",
        "version": 3
      },
      "file_extension": ".py",
      "mimetype": "text/x-python",
      "name": "python",
      "nbconvert_exporter": "python",
      "pygments_lexer": "ipython3",
      "version": "3.8.11"
    },
    "papermill": {
      "default_parameters": {},
      "duration": 603.148636,
      "end_time": "2022-06-15T09:23:10.055811",
      "environment_variables": {},
      "exception": null,
      "input_path": "__notebook__.ipynb",
      "output_path": "__notebook__.ipynb",
      "parameters": {},
      "start_time": "2022-06-15T09:13:06.907175",
      "version": "2.3.3"
    },
    "colab": {
      "name": "contradictory-my-dear-watson-nlp-tensorflow.ipynb",
      "provenance": [],
      "collapsed_sections": []
    },
    "accelerator": "TPU",
    "gpuClass": "standard",
    "widgets": {
      "application/vnd.jupyter.widget-state+json": {
        "5e9f685536e3493d8e673cbf1f4f9ae5": {
          "model_module": "@jupyter-widgets/controls",
          "model_name": "HBoxModel",
          "model_module_version": "1.5.0",
          "state": {
            "_dom_classes": [],
            "_model_module": "@jupyter-widgets/controls",
            "_model_module_version": "1.5.0",
            "_model_name": "HBoxModel",
            "_view_count": null,
            "_view_module": "@jupyter-widgets/controls",
            "_view_module_version": "1.5.0",
            "_view_name": "HBoxView",
            "box_style": "",
            "children": [
              "IPY_MODEL_49d567222b00423b9098094803d47d4f",
              "IPY_MODEL_dbdf5573f1e14c2ab938b695ea921ac6",
              "IPY_MODEL_55ccc2f9679d40a39fe3b34daa31f030"
            ],
            "layout": "IPY_MODEL_d456d8f0df364e20b157dab5d5f32afb"
          }
        },
        "49d567222b00423b9098094803d47d4f": {
          "model_module": "@jupyter-widgets/controls",
          "model_name": "HTMLModel",
          "model_module_version": "1.5.0",
          "state": {
            "_dom_classes": [],
            "_model_module": "@jupyter-widgets/controls",
            "_model_module_version": "1.5.0",
            "_model_name": "HTMLModel",
            "_view_count": null,
            "_view_module": "@jupyter-widgets/controls",
            "_view_module_version": "1.5.0",
            "_view_name": "HTMLView",
            "description": "",
            "description_tooltip": null,
            "layout": "IPY_MODEL_1bfbf491f8c147ed98a933f49a0087cb",
            "placeholder": "​",
            "style": "IPY_MODEL_47ecf351d39a4912a106f820e0da89c3",
            "value": "Downloading: 100%"
          }
        },
        "dbdf5573f1e14c2ab938b695ea921ac6": {
          "model_module": "@jupyter-widgets/controls",
          "model_name": "FloatProgressModel",
          "model_module_version": "1.5.0",
          "state": {
            "_dom_classes": [],
            "_model_module": "@jupyter-widgets/controls",
            "_model_module_version": "1.5.0",
            "_model_name": "FloatProgressModel",
            "_view_count": null,
            "_view_module": "@jupyter-widgets/controls",
            "_view_module_version": "1.5.0",
            "_view_name": "ProgressView",
            "bar_style": "success",
            "description": "",
            "description_tooltip": null,
            "layout": "IPY_MODEL_010f162f335141599b768f35463dc278",
            "max": 995526,
            "min": 0,
            "orientation": "horizontal",
            "style": "IPY_MODEL_86f4e007592b4fc8b4fc5fd000f7f61e",
            "value": 995526
          }
        },
        "55ccc2f9679d40a39fe3b34daa31f030": {
          "model_module": "@jupyter-widgets/controls",
          "model_name": "HTMLModel",
          "model_module_version": "1.5.0",
          "state": {
            "_dom_classes": [],
            "_model_module": "@jupyter-widgets/controls",
            "_model_module_version": "1.5.0",
            "_model_name": "HTMLModel",
            "_view_count": null,
            "_view_module": "@jupyter-widgets/controls",
            "_view_module_version": "1.5.0",
            "_view_name": "HTMLView",
            "description": "",
            "description_tooltip": null,
            "layout": "IPY_MODEL_ed2838be9ed742608a600805b2f6c450",
            "placeholder": "​",
            "style": "IPY_MODEL_975d22ba210040179581b1d98036e572",
            "value": " 972k/972k [00:00&lt;00:00, 3.13MB/s]"
          }
        },
        "d456d8f0df364e20b157dab5d5f32afb": {
          "model_module": "@jupyter-widgets/base",
          "model_name": "LayoutModel",
          "model_module_version": "1.2.0",
          "state": {
            "_model_module": "@jupyter-widgets/base",
            "_model_module_version": "1.2.0",
            "_model_name": "LayoutModel",
            "_view_count": null,
            "_view_module": "@jupyter-widgets/base",
            "_view_module_version": "1.2.0",
            "_view_name": "LayoutView",
            "align_content": null,
            "align_items": null,
            "align_self": null,
            "border": null,
            "bottom": null,
            "display": null,
            "flex": null,
            "flex_flow": null,
            "grid_area": null,
            "grid_auto_columns": null,
            "grid_auto_flow": null,
            "grid_auto_rows": null,
            "grid_column": null,
            "grid_gap": null,
            "grid_row": null,
            "grid_template_areas": null,
            "grid_template_columns": null,
            "grid_template_rows": null,
            "height": null,
            "justify_content": null,
            "justify_items": null,
            "left": null,
            "margin": null,
            "max_height": null,
            "max_width": null,
            "min_height": null,
            "min_width": null,
            "object_fit": null,
            "object_position": null,
            "order": null,
            "overflow": null,
            "overflow_x": null,
            "overflow_y": null,
            "padding": null,
            "right": null,
            "top": null,
            "visibility": null,
            "width": null
          }
        },
        "1bfbf491f8c147ed98a933f49a0087cb": {
          "model_module": "@jupyter-widgets/base",
          "model_name": "LayoutModel",
          "model_module_version": "1.2.0",
          "state": {
            "_model_module": "@jupyter-widgets/base",
            "_model_module_version": "1.2.0",
            "_model_name": "LayoutModel",
            "_view_count": null,
            "_view_module": "@jupyter-widgets/base",
            "_view_module_version": "1.2.0",
            "_view_name": "LayoutView",
            "align_content": null,
            "align_items": null,
            "align_self": null,
            "border": null,
            "bottom": null,
            "display": null,
            "flex": null,
            "flex_flow": null,
            "grid_area": null,
            "grid_auto_columns": null,
            "grid_auto_flow": null,
            "grid_auto_rows": null,
            "grid_column": null,
            "grid_gap": null,
            "grid_row": null,
            "grid_template_areas": null,
            "grid_template_columns": null,
            "grid_template_rows": null,
            "height": null,
            "justify_content": null,
            "justify_items": null,
            "left": null,
            "margin": null,
            "max_height": null,
            "max_width": null,
            "min_height": null,
            "min_width": null,
            "object_fit": null,
            "object_position": null,
            "order": null,
            "overflow": null,
            "overflow_x": null,
            "overflow_y": null,
            "padding": null,
            "right": null,
            "top": null,
            "visibility": null,
            "width": null
          }
        },
        "47ecf351d39a4912a106f820e0da89c3": {
          "model_module": "@jupyter-widgets/controls",
          "model_name": "DescriptionStyleModel",
          "model_module_version": "1.5.0",
          "state": {
            "_model_module": "@jupyter-widgets/controls",
            "_model_module_version": "1.5.0",
            "_model_name": "DescriptionStyleModel",
            "_view_count": null,
            "_view_module": "@jupyter-widgets/base",
            "_view_module_version": "1.2.0",
            "_view_name": "StyleView",
            "description_width": ""
          }
        },
        "010f162f335141599b768f35463dc278": {
          "model_module": "@jupyter-widgets/base",
          "model_name": "LayoutModel",
          "model_module_version": "1.2.0",
          "state": {
            "_model_module": "@jupyter-widgets/base",
            "_model_module_version": "1.2.0",
            "_model_name": "LayoutModel",
            "_view_count": null,
            "_view_module": "@jupyter-widgets/base",
            "_view_module_version": "1.2.0",
            "_view_name": "LayoutView",
            "align_content": null,
            "align_items": null,
            "align_self": null,
            "border": null,
            "bottom": null,
            "display": null,
            "flex": null,
            "flex_flow": null,
            "grid_area": null,
            "grid_auto_columns": null,
            "grid_auto_flow": null,
            "grid_auto_rows": null,
            "grid_column": null,
            "grid_gap": null,
            "grid_row": null,
            "grid_template_areas": null,
            "grid_template_columns": null,
            "grid_template_rows": null,
            "height": null,
            "justify_content": null,
            "justify_items": null,
            "left": null,
            "margin": null,
            "max_height": null,
            "max_width": null,
            "min_height": null,
            "min_width": null,
            "object_fit": null,
            "object_position": null,
            "order": null,
            "overflow": null,
            "overflow_x": null,
            "overflow_y": null,
            "padding": null,
            "right": null,
            "top": null,
            "visibility": null,
            "width": null
          }
        },
        "86f4e007592b4fc8b4fc5fd000f7f61e": {
          "model_module": "@jupyter-widgets/controls",
          "model_name": "ProgressStyleModel",
          "model_module_version": "1.5.0",
          "state": {
            "_model_module": "@jupyter-widgets/controls",
            "_model_module_version": "1.5.0",
            "_model_name": "ProgressStyleModel",
            "_view_count": null,
            "_view_module": "@jupyter-widgets/base",
            "_view_module_version": "1.2.0",
            "_view_name": "StyleView",
            "bar_color": null,
            "description_width": ""
          }
        },
        "ed2838be9ed742608a600805b2f6c450": {
          "model_module": "@jupyter-widgets/base",
          "model_name": "LayoutModel",
          "model_module_version": "1.2.0",
          "state": {
            "_model_module": "@jupyter-widgets/base",
            "_model_module_version": "1.2.0",
            "_model_name": "LayoutModel",
            "_view_count": null,
            "_view_module": "@jupyter-widgets/base",
            "_view_module_version": "1.2.0",
            "_view_name": "LayoutView",
            "align_content": null,
            "align_items": null,
            "align_self": null,
            "border": null,
            "bottom": null,
            "display": null,
            "flex": null,
            "flex_flow": null,
            "grid_area": null,
            "grid_auto_columns": null,
            "grid_auto_flow": null,
            "grid_auto_rows": null,
            "grid_column": null,
            "grid_gap": null,
            "grid_row": null,
            "grid_template_areas": null,
            "grid_template_columns": null,
            "grid_template_rows": null,
            "height": null,
            "justify_content": null,
            "justify_items": null,
            "left": null,
            "margin": null,
            "max_height": null,
            "max_width": null,
            "min_height": null,
            "min_width": null,
            "object_fit": null,
            "object_position": null,
            "order": null,
            "overflow": null,
            "overflow_x": null,
            "overflow_y": null,
            "padding": null,
            "right": null,
            "top": null,
            "visibility": null,
            "width": null
          }
        },
        "975d22ba210040179581b1d98036e572": {
          "model_module": "@jupyter-widgets/controls",
          "model_name": "DescriptionStyleModel",
          "model_module_version": "1.5.0",
          "state": {
            "_model_module": "@jupyter-widgets/controls",
            "_model_module_version": "1.5.0",
            "_model_name": "DescriptionStyleModel",
            "_view_count": null,
            "_view_module": "@jupyter-widgets/base",
            "_view_module_version": "1.2.0",
            "_view_name": "StyleView",
            "description_width": ""
          }
        },
        "fb995046f7ee4ee9815cc04e84023dcd": {
          "model_module": "@jupyter-widgets/controls",
          "model_name": "HBoxModel",
          "model_module_version": "1.5.0",
          "state": {
            "_dom_classes": [],
            "_model_module": "@jupyter-widgets/controls",
            "_model_module_version": "1.5.0",
            "_model_name": "HBoxModel",
            "_view_count": null,
            "_view_module": "@jupyter-widgets/controls",
            "_view_module_version": "1.5.0",
            "_view_name": "HBoxView",
            "box_style": "",
            "children": [
              "IPY_MODEL_79372cceb4b348159f8e2dcd94afeaa3",
              "IPY_MODEL_e84c91541f92495f96ba094ea3f30635",
              "IPY_MODEL_93dd70d7b00a42289f02ee68905670e0"
            ],
            "layout": "IPY_MODEL_7d0049d8d1c047af8ed777127b7e67e2"
          }
        },
        "79372cceb4b348159f8e2dcd94afeaa3": {
          "model_module": "@jupyter-widgets/controls",
          "model_name": "HTMLModel",
          "model_module_version": "1.5.0",
          "state": {
            "_dom_classes": [],
            "_model_module": "@jupyter-widgets/controls",
            "_model_module_version": "1.5.0",
            "_model_name": "HTMLModel",
            "_view_count": null,
            "_view_module": "@jupyter-widgets/controls",
            "_view_module_version": "1.5.0",
            "_view_name": "HTMLView",
            "description": "",
            "description_tooltip": null,
            "layout": "IPY_MODEL_4374818f2e324d67ac4674525d773b79",
            "placeholder": "​",
            "style": "IPY_MODEL_a2b1fa44407a42b8be1e7ecd897c5e5c",
            "value": "Downloading: 100%"
          }
        },
        "e84c91541f92495f96ba094ea3f30635": {
          "model_module": "@jupyter-widgets/controls",
          "model_name": "FloatProgressModel",
          "model_module_version": "1.5.0",
          "state": {
            "_dom_classes": [],
            "_model_module": "@jupyter-widgets/controls",
            "_model_module_version": "1.5.0",
            "_model_name": "FloatProgressModel",
            "_view_count": null,
            "_view_module": "@jupyter-widgets/controls",
            "_view_module_version": "1.5.0",
            "_view_name": "ProgressView",
            "bar_style": "success",
            "description": "",
            "description_tooltip": null,
            "layout": "IPY_MODEL_da5a97399ecb4d768fd832460ba7826e",
            "max": 29,
            "min": 0,
            "orientation": "horizontal",
            "style": "IPY_MODEL_7bceb15f17da4bb482be50fe377de4c6",
            "value": 29
          }
        },
        "93dd70d7b00a42289f02ee68905670e0": {
          "model_module": "@jupyter-widgets/controls",
          "model_name": "HTMLModel",
          "model_module_version": "1.5.0",
          "state": {
            "_dom_classes": [],
            "_model_module": "@jupyter-widgets/controls",
            "_model_module_version": "1.5.0",
            "_model_name": "HTMLModel",
            "_view_count": null,
            "_view_module": "@jupyter-widgets/controls",
            "_view_module_version": "1.5.0",
            "_view_name": "HTMLView",
            "description": "",
            "description_tooltip": null,
            "layout": "IPY_MODEL_86d192b963444b65abd5b1b849a28a23",
            "placeholder": "​",
            "style": "IPY_MODEL_be3195b0dc4f487ca4d4f664d86bf2d2",
            "value": " 29.0/29.0 [00:00&lt;00:00, 567B/s]"
          }
        },
        "7d0049d8d1c047af8ed777127b7e67e2": {
          "model_module": "@jupyter-widgets/base",
          "model_name": "LayoutModel",
          "model_module_version": "1.2.0",
          "state": {
            "_model_module": "@jupyter-widgets/base",
            "_model_module_version": "1.2.0",
            "_model_name": "LayoutModel",
            "_view_count": null,
            "_view_module": "@jupyter-widgets/base",
            "_view_module_version": "1.2.0",
            "_view_name": "LayoutView",
            "align_content": null,
            "align_items": null,
            "align_self": null,
            "border": null,
            "bottom": null,
            "display": null,
            "flex": null,
            "flex_flow": null,
            "grid_area": null,
            "grid_auto_columns": null,
            "grid_auto_flow": null,
            "grid_auto_rows": null,
            "grid_column": null,
            "grid_gap": null,
            "grid_row": null,
            "grid_template_areas": null,
            "grid_template_columns": null,
            "grid_template_rows": null,
            "height": null,
            "justify_content": null,
            "justify_items": null,
            "left": null,
            "margin": null,
            "max_height": null,
            "max_width": null,
            "min_height": null,
            "min_width": null,
            "object_fit": null,
            "object_position": null,
            "order": null,
            "overflow": null,
            "overflow_x": null,
            "overflow_y": null,
            "padding": null,
            "right": null,
            "top": null,
            "visibility": null,
            "width": null
          }
        },
        "4374818f2e324d67ac4674525d773b79": {
          "model_module": "@jupyter-widgets/base",
          "model_name": "LayoutModel",
          "model_module_version": "1.2.0",
          "state": {
            "_model_module": "@jupyter-widgets/base",
            "_model_module_version": "1.2.0",
            "_model_name": "LayoutModel",
            "_view_count": null,
            "_view_module": "@jupyter-widgets/base",
            "_view_module_version": "1.2.0",
            "_view_name": "LayoutView",
            "align_content": null,
            "align_items": null,
            "align_self": null,
            "border": null,
            "bottom": null,
            "display": null,
            "flex": null,
            "flex_flow": null,
            "grid_area": null,
            "grid_auto_columns": null,
            "grid_auto_flow": null,
            "grid_auto_rows": null,
            "grid_column": null,
            "grid_gap": null,
            "grid_row": null,
            "grid_template_areas": null,
            "grid_template_columns": null,
            "grid_template_rows": null,
            "height": null,
            "justify_content": null,
            "justify_items": null,
            "left": null,
            "margin": null,
            "max_height": null,
            "max_width": null,
            "min_height": null,
            "min_width": null,
            "object_fit": null,
            "object_position": null,
            "order": null,
            "overflow": null,
            "overflow_x": null,
            "overflow_y": null,
            "padding": null,
            "right": null,
            "top": null,
            "visibility": null,
            "width": null
          }
        },
        "a2b1fa44407a42b8be1e7ecd897c5e5c": {
          "model_module": "@jupyter-widgets/controls",
          "model_name": "DescriptionStyleModel",
          "model_module_version": "1.5.0",
          "state": {
            "_model_module": "@jupyter-widgets/controls",
            "_model_module_version": "1.5.0",
            "_model_name": "DescriptionStyleModel",
            "_view_count": null,
            "_view_module": "@jupyter-widgets/base",
            "_view_module_version": "1.2.0",
            "_view_name": "StyleView",
            "description_width": ""
          }
        },
        "da5a97399ecb4d768fd832460ba7826e": {
          "model_module": "@jupyter-widgets/base",
          "model_name": "LayoutModel",
          "model_module_version": "1.2.0",
          "state": {
            "_model_module": "@jupyter-widgets/base",
            "_model_module_version": "1.2.0",
            "_model_name": "LayoutModel",
            "_view_count": null,
            "_view_module": "@jupyter-widgets/base",
            "_view_module_version": "1.2.0",
            "_view_name": "LayoutView",
            "align_content": null,
            "align_items": null,
            "align_self": null,
            "border": null,
            "bottom": null,
            "display": null,
            "flex": null,
            "flex_flow": null,
            "grid_area": null,
            "grid_auto_columns": null,
            "grid_auto_flow": null,
            "grid_auto_rows": null,
            "grid_column": null,
            "grid_gap": null,
            "grid_row": null,
            "grid_template_areas": null,
            "grid_template_columns": null,
            "grid_template_rows": null,
            "height": null,
            "justify_content": null,
            "justify_items": null,
            "left": null,
            "margin": null,
            "max_height": null,
            "max_width": null,
            "min_height": null,
            "min_width": null,
            "object_fit": null,
            "object_position": null,
            "order": null,
            "overflow": null,
            "overflow_x": null,
            "overflow_y": null,
            "padding": null,
            "right": null,
            "top": null,
            "visibility": null,
            "width": null
          }
        },
        "7bceb15f17da4bb482be50fe377de4c6": {
          "model_module": "@jupyter-widgets/controls",
          "model_name": "ProgressStyleModel",
          "model_module_version": "1.5.0",
          "state": {
            "_model_module": "@jupyter-widgets/controls",
            "_model_module_version": "1.5.0",
            "_model_name": "ProgressStyleModel",
            "_view_count": null,
            "_view_module": "@jupyter-widgets/base",
            "_view_module_version": "1.2.0",
            "_view_name": "StyleView",
            "bar_color": null,
            "description_width": ""
          }
        },
        "86d192b963444b65abd5b1b849a28a23": {
          "model_module": "@jupyter-widgets/base",
          "model_name": "LayoutModel",
          "model_module_version": "1.2.0",
          "state": {
            "_model_module": "@jupyter-widgets/base",
            "_model_module_version": "1.2.0",
            "_model_name": "LayoutModel",
            "_view_count": null,
            "_view_module": "@jupyter-widgets/base",
            "_view_module_version": "1.2.0",
            "_view_name": "LayoutView",
            "align_content": null,
            "align_items": null,
            "align_self": null,
            "border": null,
            "bottom": null,
            "display": null,
            "flex": null,
            "flex_flow": null,
            "grid_area": null,
            "grid_auto_columns": null,
            "grid_auto_flow": null,
            "grid_auto_rows": null,
            "grid_column": null,
            "grid_gap": null,
            "grid_row": null,
            "grid_template_areas": null,
            "grid_template_columns": null,
            "grid_template_rows": null,
            "height": null,
            "justify_content": null,
            "justify_items": null,
            "left": null,
            "margin": null,
            "max_height": null,
            "max_width": null,
            "min_height": null,
            "min_width": null,
            "object_fit": null,
            "object_position": null,
            "order": null,
            "overflow": null,
            "overflow_x": null,
            "overflow_y": null,
            "padding": null,
            "right": null,
            "top": null,
            "visibility": null,
            "width": null
          }
        },
        "be3195b0dc4f487ca4d4f664d86bf2d2": {
          "model_module": "@jupyter-widgets/controls",
          "model_name": "DescriptionStyleModel",
          "model_module_version": "1.5.0",
          "state": {
            "_model_module": "@jupyter-widgets/controls",
            "_model_module_version": "1.5.0",
            "_model_name": "DescriptionStyleModel",
            "_view_count": null,
            "_view_module": "@jupyter-widgets/base",
            "_view_module_version": "1.2.0",
            "_view_name": "StyleView",
            "description_width": ""
          }
        },
        "0c8eb80e2cb74da48968bf15d81ecaa9": {
          "model_module": "@jupyter-widgets/controls",
          "model_name": "HBoxModel",
          "model_module_version": "1.5.0",
          "state": {
            "_dom_classes": [],
            "_model_module": "@jupyter-widgets/controls",
            "_model_module_version": "1.5.0",
            "_model_name": "HBoxModel",
            "_view_count": null,
            "_view_module": "@jupyter-widgets/controls",
            "_view_module_version": "1.5.0",
            "_view_name": "HBoxView",
            "box_style": "",
            "children": [
              "IPY_MODEL_d76d64a992744bde892c5e6919f0b1d1",
              "IPY_MODEL_c524fd6ce3064f64a4e2fa84cd0483a2",
              "IPY_MODEL_e47e69b13a9c44f381125b76e1ddc30e"
            ],
            "layout": "IPY_MODEL_2449ded3ac4d440a85cc4ca8ba4723ad"
          }
        },
        "d76d64a992744bde892c5e6919f0b1d1": {
          "model_module": "@jupyter-widgets/controls",
          "model_name": "HTMLModel",
          "model_module_version": "1.5.0",
          "state": {
            "_dom_classes": [],
            "_model_module": "@jupyter-widgets/controls",
            "_model_module_version": "1.5.0",
            "_model_name": "HTMLModel",
            "_view_count": null,
            "_view_module": "@jupyter-widgets/controls",
            "_view_module_version": "1.5.0",
            "_view_name": "HTMLView",
            "description": "",
            "description_tooltip": null,
            "layout": "IPY_MODEL_7b201d7cebcc486184f16899e2f1c917",
            "placeholder": "​",
            "style": "IPY_MODEL_7ea69e92e7934c3383c74447ff1709f0",
            "value": "Downloading: 100%"
          }
        },
        "c524fd6ce3064f64a4e2fa84cd0483a2": {
          "model_module": "@jupyter-widgets/controls",
          "model_name": "FloatProgressModel",
          "model_module_version": "1.5.0",
          "state": {
            "_dom_classes": [],
            "_model_module": "@jupyter-widgets/controls",
            "_model_module_version": "1.5.0",
            "_model_name": "FloatProgressModel",
            "_view_count": null,
            "_view_module": "@jupyter-widgets/controls",
            "_view_module_version": "1.5.0",
            "_view_name": "ProgressView",
            "bar_style": "success",
            "description": "",
            "description_tooltip": null,
            "layout": "IPY_MODEL_cfd1e5bac161410481c0c2859e2cbba0",
            "max": 625,
            "min": 0,
            "orientation": "horizontal",
            "style": "IPY_MODEL_edc90caf8ac341f59654eef49b538c42",
            "value": 625
          }
        },
        "e47e69b13a9c44f381125b76e1ddc30e": {
          "model_module": "@jupyter-widgets/controls",
          "model_name": "HTMLModel",
          "model_module_version": "1.5.0",
          "state": {
            "_dom_classes": [],
            "_model_module": "@jupyter-widgets/controls",
            "_model_module_version": "1.5.0",
            "_model_name": "HTMLModel",
            "_view_count": null,
            "_view_module": "@jupyter-widgets/controls",
            "_view_module_version": "1.5.0",
            "_view_name": "HTMLView",
            "description": "",
            "description_tooltip": null,
            "layout": "IPY_MODEL_4aa6afd6d4f94b56a1b6e699c8a51654",
            "placeholder": "​",
            "style": "IPY_MODEL_b04b628fdcc846bdb61bfa036bbce212",
            "value": " 625/625 [00:00&lt;00:00, 10.1kB/s]"
          }
        },
        "2449ded3ac4d440a85cc4ca8ba4723ad": {
          "model_module": "@jupyter-widgets/base",
          "model_name": "LayoutModel",
          "model_module_version": "1.2.0",
          "state": {
            "_model_module": "@jupyter-widgets/base",
            "_model_module_version": "1.2.0",
            "_model_name": "LayoutModel",
            "_view_count": null,
            "_view_module": "@jupyter-widgets/base",
            "_view_module_version": "1.2.0",
            "_view_name": "LayoutView",
            "align_content": null,
            "align_items": null,
            "align_self": null,
            "border": null,
            "bottom": null,
            "display": null,
            "flex": null,
            "flex_flow": null,
            "grid_area": null,
            "grid_auto_columns": null,
            "grid_auto_flow": null,
            "grid_auto_rows": null,
            "grid_column": null,
            "grid_gap": null,
            "grid_row": null,
            "grid_template_areas": null,
            "grid_template_columns": null,
            "grid_template_rows": null,
            "height": null,
            "justify_content": null,
            "justify_items": null,
            "left": null,
            "margin": null,
            "max_height": null,
            "max_width": null,
            "min_height": null,
            "min_width": null,
            "object_fit": null,
            "object_position": null,
            "order": null,
            "overflow": null,
            "overflow_x": null,
            "overflow_y": null,
            "padding": null,
            "right": null,
            "top": null,
            "visibility": null,
            "width": null
          }
        },
        "7b201d7cebcc486184f16899e2f1c917": {
          "model_module": "@jupyter-widgets/base",
          "model_name": "LayoutModel",
          "model_module_version": "1.2.0",
          "state": {
            "_model_module": "@jupyter-widgets/base",
            "_model_module_version": "1.2.0",
            "_model_name": "LayoutModel",
            "_view_count": null,
            "_view_module": "@jupyter-widgets/base",
            "_view_module_version": "1.2.0",
            "_view_name": "LayoutView",
            "align_content": null,
            "align_items": null,
            "align_self": null,
            "border": null,
            "bottom": null,
            "display": null,
            "flex": null,
            "flex_flow": null,
            "grid_area": null,
            "grid_auto_columns": null,
            "grid_auto_flow": null,
            "grid_auto_rows": null,
            "grid_column": null,
            "grid_gap": null,
            "grid_row": null,
            "grid_template_areas": null,
            "grid_template_columns": null,
            "grid_template_rows": null,
            "height": null,
            "justify_content": null,
            "justify_items": null,
            "left": null,
            "margin": null,
            "max_height": null,
            "max_width": null,
            "min_height": null,
            "min_width": null,
            "object_fit": null,
            "object_position": null,
            "order": null,
            "overflow": null,
            "overflow_x": null,
            "overflow_y": null,
            "padding": null,
            "right": null,
            "top": null,
            "visibility": null,
            "width": null
          }
        },
        "7ea69e92e7934c3383c74447ff1709f0": {
          "model_module": "@jupyter-widgets/controls",
          "model_name": "DescriptionStyleModel",
          "model_module_version": "1.5.0",
          "state": {
            "_model_module": "@jupyter-widgets/controls",
            "_model_module_version": "1.5.0",
            "_model_name": "DescriptionStyleModel",
            "_view_count": null,
            "_view_module": "@jupyter-widgets/base",
            "_view_module_version": "1.2.0",
            "_view_name": "StyleView",
            "description_width": ""
          }
        },
        "cfd1e5bac161410481c0c2859e2cbba0": {
          "model_module": "@jupyter-widgets/base",
          "model_name": "LayoutModel",
          "model_module_version": "1.2.0",
          "state": {
            "_model_module": "@jupyter-widgets/base",
            "_model_module_version": "1.2.0",
            "_model_name": "LayoutModel",
            "_view_count": null,
            "_view_module": "@jupyter-widgets/base",
            "_view_module_version": "1.2.0",
            "_view_name": "LayoutView",
            "align_content": null,
            "align_items": null,
            "align_self": null,
            "border": null,
            "bottom": null,
            "display": null,
            "flex": null,
            "flex_flow": null,
            "grid_area": null,
            "grid_auto_columns": null,
            "grid_auto_flow": null,
            "grid_auto_rows": null,
            "grid_column": null,
            "grid_gap": null,
            "grid_row": null,
            "grid_template_areas": null,
            "grid_template_columns": null,
            "grid_template_rows": null,
            "height": null,
            "justify_content": null,
            "justify_items": null,
            "left": null,
            "margin": null,
            "max_height": null,
            "max_width": null,
            "min_height": null,
            "min_width": null,
            "object_fit": null,
            "object_position": null,
            "order": null,
            "overflow": null,
            "overflow_x": null,
            "overflow_y": null,
            "padding": null,
            "right": null,
            "top": null,
            "visibility": null,
            "width": null
          }
        },
        "edc90caf8ac341f59654eef49b538c42": {
          "model_module": "@jupyter-widgets/controls",
          "model_name": "ProgressStyleModel",
          "model_module_version": "1.5.0",
          "state": {
            "_model_module": "@jupyter-widgets/controls",
            "_model_module_version": "1.5.0",
            "_model_name": "ProgressStyleModel",
            "_view_count": null,
            "_view_module": "@jupyter-widgets/base",
            "_view_module_version": "1.2.0",
            "_view_name": "StyleView",
            "bar_color": null,
            "description_width": ""
          }
        },
        "4aa6afd6d4f94b56a1b6e699c8a51654": {
          "model_module": "@jupyter-widgets/base",
          "model_name": "LayoutModel",
          "model_module_version": "1.2.0",
          "state": {
            "_model_module": "@jupyter-widgets/base",
            "_model_module_version": "1.2.0",
            "_model_name": "LayoutModel",
            "_view_count": null,
            "_view_module": "@jupyter-widgets/base",
            "_view_module_version": "1.2.0",
            "_view_name": "LayoutView",
            "align_content": null,
            "align_items": null,
            "align_self": null,
            "border": null,
            "bottom": null,
            "display": null,
            "flex": null,
            "flex_flow": null,
            "grid_area": null,
            "grid_auto_columns": null,
            "grid_auto_flow": null,
            "grid_auto_rows": null,
            "grid_column": null,
            "grid_gap": null,
            "grid_row": null,
            "grid_template_areas": null,
            "grid_template_columns": null,
            "grid_template_rows": null,
            "height": null,
            "justify_content": null,
            "justify_items": null,
            "left": null,
            "margin": null,
            "max_height": null,
            "max_width": null,
            "min_height": null,
            "min_width": null,
            "object_fit": null,
            "object_position": null,
            "order": null,
            "overflow": null,
            "overflow_x": null,
            "overflow_y": null,
            "padding": null,
            "right": null,
            "top": null,
            "visibility": null,
            "width": null
          }
        },
        "b04b628fdcc846bdb61bfa036bbce212": {
          "model_module": "@jupyter-widgets/controls",
          "model_name": "DescriptionStyleModel",
          "model_module_version": "1.5.0",
          "state": {
            "_model_module": "@jupyter-widgets/controls",
            "_model_module_version": "1.5.0",
            "_model_name": "DescriptionStyleModel",
            "_view_count": null,
            "_view_module": "@jupyter-widgets/base",
            "_view_module_version": "1.2.0",
            "_view_name": "StyleView",
            "description_width": ""
          }
        }
      }
    }
  },
  "nbformat": 4,
  "nbformat_minor": 5
}